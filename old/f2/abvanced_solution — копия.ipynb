{
 "cells": [
  {
   "cell_type": "code",
   "execution_count": 1,
   "metadata": {
    "collapsed": true
   },
   "outputs": [],
   "source": [
    "import time\n",
    "iss = 0\n",
    "\n",
    "def make_submit(pred):\n",
    "    global iss\n",
    "    submit = pd.DataFrame()\n",
    "    submit['id'] = data_test.index\n",
    "    submit['skilled'] = pred\n",
    "    iss += 1\n",
    "    submit.to_csv('submissions/submission{}-{}.csv'.format(''.join(time.ctime().split()[2]), iss), index=False)\n",
    "    print('last: ', 'submissions/submission{}-{}.csv'.format(''.join(time.ctime().split()[2]), iss))"
   ]
  },
  {
   "cell_type": "code",
   "execution_count": 2,
   "metadata": {
    "collapsed": true
   },
   "outputs": [],
   "source": [
    "import pandas as pd\n",
    "import matplotlib.pyplot as plt\n",
    "import seaborn as sns\n",
    "sns.set()\n",
    "import numpy as np\n",
    "import sklearn \n",
    "from tqdm import tqdm_notebook\n",
    "import warnings\n",
    "warnings.filterwarnings('ignore')\n",
    "%matplotlib inline\n",
    "import catboost\n",
    "import lightgbm\n",
    "import xgboost\n",
    "import eli5\n",
    "from eli5.sklearn import PermutationImportance"
   ]
  },
  {
   "cell_type": "code",
   "execution_count": 3,
   "metadata": {
    "collapsed": true
   },
   "outputs": [],
   "source": [
    "from sklearn.model_selection import StratifiedKFold, cross_val_score, train_test_split\n",
    "from sklearn.metrics import accuracy_score\n",
    "from sklearn.neighbors import KNeighborsClassifier\n",
    "from sklearn.svm import LinearSVC\n",
    "from sklearn.linear_model import SGDClassifier, Ridge\n",
    "from sklearn.model_selection import ShuffleSplit, KFold, StratifiedKFold, GridSearchCV, RandomizedSearchCV\n",
    "from sklearn.naive_bayes import MultinomialNB\n",
    "from sklearn.ensemble import RandomForestClassifier, VotingClassifier\n",
    "from sklearn.ensemble import RandomForestClassifier\n",
    "from sklearn.ensemble import ExtraTreesClassifier\n",
    "from sklearn.tree import DecisionTreeClassifier\n",
    "from sklearn.ensemble import GradientBoostingClassifier\n",
    "from sklearn.preprocessing import PolynomialFeatures\n",
    "from sklearn.ensemble import ExtraTreesClassifier\n",
    "from sklearn.metrics import roc_auc_score\n",
    "from sklearn.ensemble import RandomForestClassifier, VotingClassifier"
   ]
  },
  {
   "cell_type": "code",
   "execution_count": 4,
   "metadata": {
    "collapsed": true
   },
   "outputs": [],
   "source": [
    "from hyperopt import hp, fmin, tpe, STATUS_OK, Trials"
   ]
  },
  {
   "cell_type": "code",
   "execution_count": 5,
   "metadata": {
    "collapsed": true
   },
   "outputs": [],
   "source": [
    "from annoy import AnnoyIndex"
   ]
  },
  {
   "cell_type": "markdown",
   "metadata": {},
   "source": [
    "Plan\n",
    "-------\n",
    "\n",
    "+ Tune models xgb/lgbm with Hyperopt +++ wirite modul for night work \n",
    "\n",
    "+ Feature interations (Poly) +++ wirite modul for random -+*/ between important columns\n",
    "\n",
    "+ KNN features (top 1 must be)\n",
    "\n",
    "+ Staking, boosting, blending"
   ]
  },
  {
   "cell_type": "code",
   "execution_count": 6,
   "metadata": {
    "collapsed": true
   },
   "outputs": [],
   "source": [
    "data_train = pd.read_csv('data/data_train_v6_1.csv')\n",
    "data_test = pd.read_csv('data/data_test_v6_1.csv')\n",
    "data_train.set_index('id', inplace=True)\n",
    "data_test.set_index('id', inplace=True)"
   ]
  },
  {
   "cell_type": "code",
   "execution_count": 7,
   "metadata": {
    "collapsed": true
   },
   "outputs": [],
   "source": [
    "target = data_train.skilled\n",
    "data_train = data_train.drop(['skilled', 'player_team', 'winner_team','Unnamed: 0' ,'Unnamed: 0.1','Unnamed: 0.1.1', 'Unnamed: 0.1.1.1','Unnamed: 0.1.1.1.1', 'Unnamed: 0.1.1.1.1.1', 'Unnamed: 0.1.1.1.1.1.1','Unnamed: 0.1.1.1.1.1.1.1'], axis=1)\n",
    "data_test = data_test.drop(['Unnamed: 0','player_team', 'winner_team', 'Unnamed: 0.1', 'Unnamed: 0.1.1', 'Unnamed: 0.1.1.1', 'Unnamed: 0.1.1.1.1', 'Unnamed: 0.1.1.1.1.1', 'Unnamed: 0.1.1.1.1.1.1','Unnamed: 0.1.1.1.1.1.1.1'], axis=1)"
   ]
  },
  {
   "cell_type": "code",
   "execution_count": 8,
   "metadata": {
    "collapsed": true
   },
   "outputs": [],
   "source": [
    "X = data_train\n",
    "x_test = data_test\n",
    "y = target"
   ]
  },
  {
   "cell_type": "markdown",
   "metadata": {},
   "source": [
    "<hr>"
   ]
  },
  {
   "cell_type": "markdown",
   "metadata": {},
   "source": [
    "# KNN features"
   ]
  },
  {
   "cell_type": "code",
   "execution_count": 11,
   "metadata": {
    "collapsed": true
   },
   "outputs": [],
   "source": [
    "annoy_data_train = X\n",
    "annoy_index_train = X.index.get_values()"
   ]
  },
  {
   "cell_type": "code",
   "execution_count": 16,
   "metadata": {
    "collapsed": true
   },
   "outputs": [],
   "source": [
    "annoy_features = X.columns"
   ]
  },
  {
   "cell_type": "code",
   "execution_count": 17,
   "metadata": {
    "collapsed": true
   },
   "outputs": [],
   "source": [
    "annoy_vector_size = len(annoy_features)\n",
    "annoy = AnnoyIndex(annoy_vector_size)"
   ]
  },
  {
   "cell_type": "code",
   "execution_count": 18,
   "metadata": {},
   "outputs": [
    {
     "data": {
      "application/vnd.jupyter.widget-view+json": {
       "model_id": "745d98fb6e7640ab9e56abce201701fa",
       "version_major": 2,
       "version_minor": 0
      },
      "text/plain": [
       "HBox(children=(IntProgress(value=1, bar_style='info', max=1), HTML(value='')))"
      ]
     },
     "metadata": {},
     "output_type": "display_data"
    },
    {
     "name": "stdout",
     "output_type": "stream",
     "text": [
      "\n"
     ]
    }
   ],
   "source": [
    "for vec, i in tqdm_notebook(zip(annoy_data_train.get_values(), annoy_index_train)):\n",
    "    annoy.add_item(i, vec)"
   ]
  },
  {
   "cell_type": "code",
   "execution_count": 19,
   "metadata": {},
   "outputs": [
    {
     "data": {
      "text/plain": [
       "True"
      ]
     },
     "execution_count": 19,
     "metadata": {},
     "output_type": "execute_result"
    }
   ],
   "source": [
    "annoy.build(100)"
   ]
  },
  {
   "cell_type": "code",
   "execution_count": 101,
   "metadata": {
    "collapsed": true
   },
   "outputs": [],
   "source": [
    "row = X.iloc[:1,:]\n",
    "vec = row[annoy_features].get_values()[0]\n",
    "indexes = annoy.get_nns_by_vector(vec, 20)\n",
    "    \n",
    "if row.index[0] in indexes:\n",
    "    indexes.remove(row.index[0])\n",
    "else:\n",
    "    indexes = indexes[:-1] \n",
    "    \n",
    "ys = [target[ind] for ind in indexes if ind in X.index]"
   ]
  },
  {
   "cell_type": "code",
   "execution_count": 92,
   "metadata": {
    "collapsed": true
   },
   "outputs": [],
   "source": [
    "k = 0\n",
    "def get_nn_info(row):\n",
    "    global k\n",
    "    if k%1000==0: print(k)\n",
    "    k+=1\n",
    "    \n",
    "    vec = row[annoy_features].get_values()[0]\n",
    "    indexes = annoy.get_nns_by_vector(vec, 501)\n",
    "    \n",
    "    if row.index[0] in indexes:\n",
    "        indexes.remove(row.index[0])\n",
    "    else:\n",
    "        indexes = indexes[:-1] \n",
    "    \n",
    "    ys = [target[ind] for ind in indexes if ind in X.index]\n",
    "\n",
    "    info = {\n",
    "        \"nn_mean_5\": np.mean(ys[:5]),\n",
    "        \"nn_median_5\": np.median(ys[:5]),\n",
    "        \"nn_mean_10\": np.mean(ys[:10]),\n",
    "        \"nn_median_10\": np.median(ys[:10]),\n",
    "        \"nn_mean_20\": np.mean(ys),\n",
    "        \"nn_median_20\": np.median(ys)\n",
    "    }\n",
    "    return pd.Series(info)"
   ]
  },
  {
   "cell_type": "code",
   "execution_count": 38,
   "metadata": {
    "collapsed": true
   },
   "outputs": [
    {
     "name": "stdout",
     "output_type": "stream",
     "text": [
      "0\n",
      "1000\n",
      "2000\n",
      "3000\n",
      "4000\n",
      "5000\n",
      "6000\n",
      "7000\n",
      "8000\n",
      "9000\n",
      "10000\n",
      "11000\n",
      "12000\n",
      "13000\n",
      "14000\n",
      "15000\n",
      "16000\n",
      "17000\n",
      "18000\n",
      "19000\n",
      "20000\n",
      "21000\n",
      "22000\n",
      "23000\n",
      "24000\n",
      "25000\n",
      "26000\n",
      "27000\n",
      "28000\n",
      "29000\n",
      "30000\n",
      "31000\n",
      "32000\n",
      "33000\n",
      "34000\n",
      "35000\n",
      "36000\n",
      "37000\n",
      "38000\n",
      "39000\n",
      "40000\n",
      "41000\n",
      "42000\n",
      "43000\n",
      "44000\n",
      "45000\n",
      "46000\n",
      "47000\n",
      "48000\n",
      "49000\n",
      "50000\n",
      "51000\n",
      "52000\n",
      "53000\n",
      "54000\n",
      "55000\n",
      "56000\n",
      "57000\n",
      "58000\n",
      "59000\n",
      "60000\n",
      "61000\n",
      "62000\n",
      "63000\n",
      "64000\n",
      "65000\n",
      "66000\n",
      "67000\n",
      "68000\n",
      "69000\n",
      "70000\n",
      "71000\n",
      "72000\n",
      "73000\n",
      "74000\n",
      "75000\n",
      "76000\n",
      "77000\n",
      "78000\n",
      "79000\n",
      "80000\n",
      "81000\n",
      "82000\n",
      "83000\n",
      "84000\n",
      "85000\n",
      "86000\n",
      "87000\n",
      "88000\n",
      "89000\n",
      "90000\n",
      "91000\n",
      "92000\n",
      "93000\n",
      "94000\n",
      "95000\n",
      "96000\n",
      "97000\n",
      "98000\n",
      "99000\n",
      "100000\n",
      "101000\n",
      "102000\n",
      "103000\n",
      "104000\n",
      "105000\n",
      "106000\n",
      "107000\n",
      "108000\n",
      "109000\n",
      "110000\n",
      "111000\n",
      "112000\n",
      "113000\n",
      "114000\n",
      "115000\n",
      "116000\n",
      "117000\n",
      "118000\n",
      "119000\n",
      "120000\n",
      "121000\n",
      "122000\n",
      "123000\n",
      "124000\n",
      "125000\n",
      "126000\n",
      "127000\n",
      "128000\n",
      "129000\n",
      "130000\n",
      "131000\n",
      "132000\n",
      "133000\n",
      "134000\n",
      "135000\n",
      "136000\n",
      "137000\n",
      "138000\n",
      "139000\n",
      "140000\n",
      "141000\n",
      "142000\n",
      "143000\n",
      "CPU times: user 56min 25s, sys: 15.4 s, total: 56min 41s\n",
      "Wall time: 56min 41s\n"
     ]
    }
   ],
   "source": [
    "%%time\n",
    "X = pd.concat([X, X.apply(get_nn_info, axis=\"columns\")], axis=1)\n",
    "x_test = pd.concat([x_test, x_test.apply(get_nn_info, axis=\"columns\")], axis=1)"
   ]
  },
  {
   "cell_type": "code",
   "execution_count": 39,
   "metadata": {
    "collapsed": true
   },
   "outputs": [],
   "source": [
    "X_train, X_test, y_train, y_test = train_test_split(X, y, test_size=0.33, random_state=42)\n",
    "k_fold = StratifiedKFold(n_splits=5, shuffle=True)"
   ]
  },
  {
   "cell_type": "markdown",
   "metadata": {},
   "source": [
    "<hr>"
   ]
  },
  {
   "cell_type": "markdown",
   "metadata": {},
   "source": [
    "### Moldeling"
   ]
  },
  {
   "cell_type": "code",
   "execution_count": 40,
   "metadata": {
    "collapsed": true
   },
   "outputs": [],
   "source": [
    "clf_1 = xgboost.XGBClassifier(learning_rate=0.1, n_estimators=1000, max_depth=4, min_child_weight=6, gamma=0, subsample=0.8, colsample_bytree=0.8, reg_alpha=0.005, objective= 'binary:logistic', nthread=-1, scale_pos_weight=1, seed=27)\n",
    "clf_2 =  lightgbm.LGBMClassifier(n_estimators=1000, learning_rate=0.1, reg_alpha=10, max_depth=6, min_child_weight=4, n_jobs=5)  \n",
    "clf_3  =  GradientBoostingClassifier()\n",
    "clf_4 = catboost.CatBoostClassifier(n_estimators=1200, max_depth=6)"
   ]
  },
  {
   "cell_type": "code",
   "execution_count": 41,
   "metadata": {
    "collapsed": true
   },
   "outputs": [],
   "source": [
    "# cv = cross_val_score(clf_2, X, y, cv = k_fold, scoring='accuracy', n_jobs=-1)\n",
    "# cv.mean()"
   ]
  },
  {
   "cell_type": "code",
   "execution_count": 42,
   "metadata": {
    "scrolled": true
   },
   "outputs": [
    {
     "name": "stdout",
     "output_type": "stream",
     "text": [
      "CPU times: user 6min 52s, sys: 7.23 s, total: 6min 59s\n",
      "Wall time: 1min 32s\n"
     ]
    },
    {
     "data": {
      "text/plain": [
       "LGBMClassifier(boosting_type='gbdt', class_weight=None, colsample_bytree=1.0,\n",
       "        importance_type='split', learning_rate=0.1, max_depth=6,\n",
       "        min_child_samples=20, min_child_weight=4, min_split_gain=0.0,\n",
       "        n_estimators=1000, n_jobs=5, num_leaves=31, objective=None,\n",
       "        random_state=None, reg_alpha=10, reg_lambda=0.0, silent=True,\n",
       "        subsample=1.0, subsample_for_bin=200000, subsample_freq=0)"
      ]
     },
     "execution_count": 42,
     "metadata": {},
     "output_type": "execute_result"
    }
   ],
   "source": [
    "%%time\n",
    "clf_2.fit(X_train, y_train)"
   ]
  },
  {
   "cell_type": "markdown",
   "metadata": {},
   "source": [
    "<hr>"
   ]
  },
  {
   "cell_type": "markdown",
   "metadata": {},
   "source": [
    "Accuracy\n",
    "------\n",
    "+ 0.8187996844468718 - gpm with 5/10/20 train+test\n",
    "+ 0.817282602099642 - gpm with 50/100/200/500 train+test"
   ]
  },
  {
   "cell_type": "code",
   "execution_count": 48,
   "metadata": {},
   "outputs": [
    {
     "data": {
      "text/plain": [
       "0.817282602099642"
      ]
     },
     "execution_count": 48,
     "metadata": {},
     "output_type": "execute_result"
    }
   ],
   "source": [
    "accuracy_score(y_test, clf_2.predict(X_test))"
   ]
  },
  {
   "cell_type": "markdown",
   "metadata": {},
   "source": [
    "<hr>"
   ]
  },
  {
   "cell_type": "code",
   "execution_count": 86,
   "metadata": {
    "collapsed": true
   },
   "outputs": [],
   "source": [
    "a = X[target[X.index] == 0][annoy_features].values[1].astype('int')\n",
    "b = X[target[X.index] == 0][annoy_features].values[1]"
   ]
  },
  {
   "cell_type": "markdown",
   "metadata": {},
   "source": [
    "### Submit"
   ]
  },
  {
   "cell_type": "code",
   "execution_count": 23,
   "metadata": {},
   "outputs": [
    {
     "data": {
      "text/plain": [
       "LGBMClassifier(boosting_type='gbdt', class_weight=None, colsample_bytree=1.0,\n",
       "        importance_type='split', learning_rate=0.1, max_depth=6,\n",
       "        min_child_samples=20, min_child_weight=4, min_split_gain=0.0,\n",
       "        n_estimators=1000, n_jobs=5, num_leaves=31, objective=None,\n",
       "        random_state=None, reg_alpha=10, reg_lambda=0.0, silent=True,\n",
       "        subsample=1.0, subsample_for_bin=200000, subsample_freq=0)"
      ]
     },
     "execution_count": 23,
     "metadata": {},
     "output_type": "execute_result"
    }
   ],
   "source": [
    "clf_2.fit(X,y)"
   ]
  },
  {
   "cell_type": "code",
   "execution_count": 19,
   "metadata": {
    "collapsed": true
   },
   "outputs": [],
   "source": [
    "pred = eclf1.predict(x_test)"
   ]
  },
  {
   "cell_type": "code",
   "execution_count": 21,
   "metadata": {},
   "outputs": [
    {
     "name": "stdout",
     "output_type": "stream",
     "text": [
      "last:  submissions/submission30-3.csv\n"
     ]
    }
   ],
   "source": [
    "make_submit(pred)"
   ]
  },
  {
   "cell_type": "markdown",
   "metadata": {},
   "source": [
    "<hr> "
   ]
  },
  {
   "cell_type": "code",
   "execution_count": 22,
   "metadata": {
    "collapsed": true
   },
   "outputs": [],
   "source": [
    "df1 = pd.read_csv('submissions/submission30-1.csv')\n",
    "df2 = pd.read_csv('submissions/submission26-1.csv')"
   ]
  },
  {
   "cell_type": "code",
   "execution_count": 27,
   "metadata": {},
   "outputs": [
    {
     "data": {
      "text/plain": [
       "(43265, 2)"
      ]
     },
     "execution_count": 27,
     "metadata": {},
     "output_type": "execute_result"
    }
   ],
   "source": [
    "df2.shape"
   ]
  },
  {
   "cell_type": "code",
   "execution_count": 23,
   "metadata": {
    "scrolled": true
   },
   "outputs": [
    {
     "data": {
      "text/plain": [
       "0.9344967063446203"
      ]
     },
     "execution_count": 23,
     "metadata": {},
     "output_type": "execute_result"
    }
   ],
   "source": [
    "accuracy_score(df1['skilled'], df2['skilled'])"
   ]
  },
  {
   "cell_type": "markdown",
   "metadata": {},
   "source": [
    "<hr>"
   ]
  },
  {
   "cell_type": "markdown",
   "metadata": {},
   "source": [
    "## Poly"
   ]
  },
  {
   "cell_type": "raw",
   "metadata": {},
   "source": [
    "%%time\n",
    "poly = PolynomialFeatures(2)\n",
    "X_poly = poly.fit_transform(X[usefull_col])\n",
    "\n",
    "X_poly_cols = [\"%s_feature\" % s for s in range(X_poly.shape[1])]\n",
    "X_poly = pd.DataFrame(X_poly, columns=X_poly_cols)\n",
    "X = pd.concat([X,X_poly],axis=1)\n",
    "\n",
    "del X_poly\n",
    "del data_train\n",
    "\n",
    "X_train, X_test, y_train, y_test = train_test_split(X, y, test_size=0.33, random_state=42)\n",
    "\n",
    "del X"
   ]
  },
  {
   "cell_type": "markdown",
   "metadata": {},
   "source": [
    "# Models"
   ]
  },
  {
   "cell_type": "raw",
   "metadata": {
    "collapsed": true
   },
   "source": [
    "clf_1 = xgboost.XGBClassifier()\n",
    "clf_2 =  lightgbm.LGBMClassifier(n_estimators=1000, learning_rate=0.1, reg_alpha=10, max_depth=6, min_child_weight=4, n_jobs=5)  \n",
    "clf_3  =  GradientBoostingClassifier()\n",
    "clf_4 = catboost.CatBoostClassifier(n_estimators=1200, max_depth=6)\n",
    "\n",
    "clf_5 = RandomForestClassifier(n_estimators=100,n_jobs=-1)"
   ]
  },
  {
   "cell_type": "raw",
   "metadata": {},
   "source": [
    "%%time\n",
    "clf_4.fit(X_train, y_train)"
   ]
  },
  {
   "cell_type": "raw",
   "metadata": {},
   "source": [
    "accuracy_score(y_test, clf_4.predict(X_test))"
   ]
  },
  {
   "cell_type": "markdown",
   "metadata": {},
   "source": [
    "## Tune"
   ]
  },
  {
   "cell_type": "markdown",
   "metadata": {},
   "source": [
    "  + __ -<br>\n",
    "  + __booster__ -  gbtree, gblinear or dart <br>\n",
    "  + __learning_rate__ - [0,1] <br>\n",
    "  + __gamma__ - [0,inf] he larger gamma is, the more conservative the algorithm will be <br>\n",
    "  + __max_depth__ [0,inf]  <br>\n",
    "  + __min_child_weight__ - [0, inf] The larger min_child_weight is, the more conservative the algorithm will be. <br>\n",
    "  + __max_delta_step__  [0,inf] [1-10]  <br>\n",
    "  + __subsample__ - (0,1] 0,5 -+ <br>\n",
    "  + __lambda__ - L2 reg  Increasing this value will make model more conservative.<br>\n",
    "  + __alpha__ - L1 reg  Increasing this value will make model more conservative.\n",
    "  + __tree_method__  - auto, exact, approx, hist<br>\n",
    "  + ___objective__ - binary:logistic, binary:logitraw, binary:hinge\n",
    "  +__colsample_bytree__ - (0,1]"
   ]
  },
  {
   "cell_type": "code",
   "execution_count": 14,
   "metadata": {
    "collapsed": true
   },
   "outputs": [],
   "source": [
    "#12 8 9 - 0.8197402755021542 -  0.819253\n",
    "#'max_depth': 10, 'min_child_weight': 4, 'reg_alpha': '10.000' - 0.819527883973542\n",
    "#'max_depth': 7, 'min_child_weight': 7, 'reg_alpha': '11.000' -  0.8196492505613204\n",
    "#'max_depth': 6, 'min_child_weight': 6, 'reg_alpha': '8.000 - 0.8204077917349354   - \t0.818676"
   ]
  },
  {
   "cell_type": "raw",
   "metadata": {},
   "source": [
    "Accuracy 0.809 params {'max_depth': 16, 'learning_rate': '0.080', 'n_estimators': 600, 'min_child_weight': 10, 'gamma': '1.200', 'subsample': '0.500', 'colsample_bytree': '0.300', 'reg_alpha': '4.900', 'objective': 'binary:logitraw', 'scale_pos_weight': '2.400'}"
   ]
  },
  {
   "cell_type": "raw",
   "metadata": {},
   "source": [
    "Accuracy 0.813 params {'max_depth': 13, 'learning_rate': '0.080', 'n_estimators': 1400, 'min_child_weight': 8, 'gamma': '2.400', 'subsample': '0.600', 'colsample_bytree': '0.200', 'reg_alpha': '4.700', 'objective': 'binary:logitraw', 'scale_pos_weight': '2.500'}"
   ]
  },
  {
   "cell_type": "raw",
   "metadata": {},
   "source": [
    "Accuracy 0.816 params {'max_depth': 14, 'learning_rate': '0.060', 'n_estimators': 1300, 'min_child_weight': 8, 'gamma': '0.500', 'subsample': '0.600', 'colsample_bytree': '0.800', 'reg_alpha': '1.200', 'objective': 'binary:logitraw', 'scale_pos_weight': '3.000'}"
   ]
  },
  {
   "cell_type": "raw",
   "metadata": {},
   "source": [
    "Accuracy 0.809 params {'max_depth': 13, 'learning_rate': '0.060', 'n_estimators': 1200, 'min_child_weight': 4, 'gamma': '1.400', 'subsample': '0.400', 'colsample_bytree': '0.700', 'reg_alpha': '0.200', 'objective': 'binary:logistic', 'scale_pos_weight': '2.600'}"
   ]
  },
  {
   "cell_type": "code",
   "execution_count": null,
   "metadata": {
    "collapsed": true
   },
   "outputs": [],
   "source": [
    "clf_1 =  lightgbm.LGBMClassifier(n_estimators=1500, learning_rate=0.1,\n",
    "                                 max_depth=12, reg_alpha=9, min_child_weight=8, n_jobs=-1)\n",
    "clf_2  = xgboost.XGBClassifier(max_depth=12, learning_rate=0.07,n_estimators=1500,\n",
    "                               min_child_weight=11, gamma=1, subsample=0.6, colsample_bytree=0.3, reg_alpha=3.5,objective='binary:logitraw',nthread=-1 ,scale_pos_weight=2.2)"
   ]
  }
 ],
 "metadata": {
  "kernelspec": {
   "display_name": "Python 3",
   "language": "python",
   "name": "python3"
  },
  "language_info": {
   "codemirror_mode": {
    "name": "ipython",
    "version": 3
   },
   "file_extension": ".py",
   "mimetype": "text/x-python",
   "name": "python",
   "nbconvert_exporter": "python",
   "pygments_lexer": "ipython3",
   "version": "3.6.6"
  }
 },
 "nbformat": 4,
 "nbformat_minor": 2
}
