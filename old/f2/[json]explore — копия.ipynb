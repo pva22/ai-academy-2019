{
 "cells": [
  {
   "cell_type": "code",
   "execution_count": 1,
   "metadata": {
    "collapsed": true
   },
   "outputs": [],
   "source": [
    "import pandas as pd\n",
    "import matplotlib.pyplot as plt\n",
    "import seaborn as sns\n",
    "sns.set()\n",
    "import numpy as np\n",
    "import sklearn \n",
    "from tqdm import tqdm_notebook\n",
    "import warnings\n",
    "warnings.filterwarnings('ignore')\n",
    "%matplotlib inline\n",
    "import catboost\n",
    "import lightgbm\n",
    "import xgboost\n",
    "import json "
   ]
  },
  {
   "cell_type": "code",
   "execution_count": 2,
   "metadata": {},
   "outputs": [
    {
     "name": "stdout",
     "output_type": "stream",
     "text": [
      "Populating the interactive namespace from numpy and matplotlib\n"
     ]
    }
   ],
   "source": [
    "%pylab inline"
   ]
  },
  {
   "cell_type": "markdown",
   "metadata": {},
   "source": [
    "Notes: \n",
    "\n",
    "\n"
   ]
  },
  {
   "cell_type": "code",
   "execution_count": 3,
   "metadata": {
    "collapsed": true
   },
   "outputs": [],
   "source": [
    "data_test = pd.read_csv('data/dota2_csv/dota2_skill_test.csv',index_col='id')\n",
    "data_train = pd.read_csv('data/dota2_csv/dota2_skill_train.csv',index_col='id')\n",
    "\n",
    "abilities = pd.read_csv('data/dota2_csv/dota2_abilities.csv', index_col='ability_id')\n",
    "heroes = pd.read_csv('data/heroes_v1.csv', index_col='hero_id')\n",
    "items = pd.read_csv('data/dota2_csv/dota2_items.csv')"
   ]
  },
  {
   "cell_type": "code",
   "execution_count": 4,
   "metadata": {},
   "outputs": [
    {
     "data": {
      "application/vnd.jupyter.widget-view+json": {
       "model_id": "fb164b14f9bd4b129f1285a59b52f0c9",
       "version_major": 2,
       "version_minor": 0
      },
      "text/plain": [
       "HBox(children=(IntProgress(value=1, bar_style='info', max=1), HTML(value='')))"
      ]
     },
     "metadata": {},
     "output_type": "display_data"
    },
    {
     "name": "stdout",
     "output_type": "stream",
     "text": [
      "\n"
     ]
    }
   ],
   "source": [
    "records = []\n",
    "import json\n",
    "i = 0\n",
    "with open('data/dota2_json/dota2_skill_train.jsonlines') as fin:\n",
    "    for line in tqdm_notebook(fin):\n",
    "        record = json.loads(line)\n",
    "        records.append(record)\n",
    "        i+=1\n",
    "        if i == 500:\n",
    "            break"
   ]
  },
  {
   "cell_type": "markdown",
   "metadata": {},
   "source": [
    "# Items"
   ]
  },
  {
   "cell_type": "markdown",
   "metadata": {},
   "source": [
    "count of sum items types"
   ]
  },
  {
   "cell_type": "code",
   "execution_count": 5,
   "metadata": {
    "collapsed": true
   },
   "outputs": [
    {
     "data": {
      "application/vnd.jupyter.widget-view+json": {
       "model_id": "2c782b0348924c36b89ea45d8b44e247",
       "version_major": 2,
       "version_minor": 0
      },
      "text/plain": [
       "HBox(children=(IntProgress(value=1, bar_style='info', max=1), HTML(value='')))"
      ]
     },
     "metadata": {},
     "output_type": "display_data"
    },
    {
     "name": "stdout",
     "output_type": "stream",
     "text": [
      "\n"
     ]
    },
    {
     "ename": "KeyboardInterrupt",
     "evalue": "",
     "output_type": "error",
     "traceback": [
      "\u001b[0;31m---------------------------------------------------------------------------\u001b[0m",
      "\u001b[0;31mKeyboardInterrupt\u001b[0m                         Traceback (most recent call last)",
      "\u001b[0;32m<ipython-input-5-8aebf542dc7d>\u001b[0m in \u001b[0;36m<module>\u001b[0;34m()\u001b[0m\n\u001b[1;32m      5\u001b[0m \u001b[0;32mwith\u001b[0m \u001b[0mopen\u001b[0m\u001b[0;34m(\u001b[0m\u001b[0;34m'data/dota2_json/dota2_skill_test.jsonlines'\u001b[0m\u001b[0;34m)\u001b[0m \u001b[0;32mas\u001b[0m \u001b[0mfin\u001b[0m\u001b[0;34m:\u001b[0m\u001b[0;34m\u001b[0m\u001b[0m\n\u001b[1;32m      6\u001b[0m     \u001b[0;32mfor\u001b[0m \u001b[0mline\u001b[0m \u001b[0;32min\u001b[0m \u001b[0mtqdm_notebook\u001b[0m\u001b[0;34m(\u001b[0m\u001b[0mfin\u001b[0m\u001b[0;34m)\u001b[0m\u001b[0;34m:\u001b[0m\u001b[0;34m\u001b[0m\u001b[0m\n\u001b[0;32m----> 7\u001b[0;31m         \u001b[0mrecord\u001b[0m \u001b[0;34m=\u001b[0m \u001b[0mjson\u001b[0m\u001b[0;34m.\u001b[0m\u001b[0mloads\u001b[0m\u001b[0;34m(\u001b[0m\u001b[0mline\u001b[0m\u001b[0;34m)\u001b[0m\u001b[0;34m\u001b[0m\u001b[0m\n\u001b[0m\u001b[1;32m      8\u001b[0m         \u001b[0mmid_items\u001b[0m \u001b[0;34m=\u001b[0m \u001b[0;34m[\u001b[0m\u001b[0;34m]\u001b[0m\u001b[0;34m\u001b[0m\u001b[0m\n\u001b[1;32m      9\u001b[0m         \u001b[0;32mfor\u001b[0m \u001b[0mi\u001b[0m \u001b[0;32min\u001b[0m \u001b[0mrecord\u001b[0m\u001b[0;34m[\u001b[0m\u001b[0;34m'item_purchase_log'\u001b[0m\u001b[0;34m]\u001b[0m\u001b[0;34m:\u001b[0m\u001b[0;34m\u001b[0m\u001b[0m\n",
      "\u001b[0;32m/home/ubuntu/anaconda3/lib/python3.6/json/__init__.py\u001b[0m in \u001b[0;36mloads\u001b[0;34m(s, encoding, cls, object_hook, parse_float, parse_int, parse_constant, object_pairs_hook, **kw)\u001b[0m\n\u001b[1;32m    352\u001b[0m             \u001b[0mparse_int\u001b[0m \u001b[0;32mis\u001b[0m \u001b[0;32mNone\u001b[0m \u001b[0;32mand\u001b[0m \u001b[0mparse_float\u001b[0m \u001b[0;32mis\u001b[0m \u001b[0;32mNone\u001b[0m \u001b[0;32mand\u001b[0m\u001b[0;34m\u001b[0m\u001b[0m\n\u001b[1;32m    353\u001b[0m             parse_constant is None and object_pairs_hook is None and not kw):\n\u001b[0;32m--> 354\u001b[0;31m         \u001b[0;32mreturn\u001b[0m \u001b[0m_default_decoder\u001b[0m\u001b[0;34m.\u001b[0m\u001b[0mdecode\u001b[0m\u001b[0;34m(\u001b[0m\u001b[0ms\u001b[0m\u001b[0;34m)\u001b[0m\u001b[0;34m\u001b[0m\u001b[0m\n\u001b[0m\u001b[1;32m    355\u001b[0m     \u001b[0;32mif\u001b[0m \u001b[0mcls\u001b[0m \u001b[0;32mis\u001b[0m \u001b[0;32mNone\u001b[0m\u001b[0;34m:\u001b[0m\u001b[0;34m\u001b[0m\u001b[0m\n\u001b[1;32m    356\u001b[0m         \u001b[0mcls\u001b[0m \u001b[0;34m=\u001b[0m \u001b[0mJSONDecoder\u001b[0m\u001b[0;34m\u001b[0m\u001b[0m\n",
      "\u001b[0;32m/home/ubuntu/anaconda3/lib/python3.6/json/decoder.py\u001b[0m in \u001b[0;36mdecode\u001b[0;34m(self, s, _w)\u001b[0m\n\u001b[1;32m    337\u001b[0m \u001b[0;34m\u001b[0m\u001b[0m\n\u001b[1;32m    338\u001b[0m         \"\"\"\n\u001b[0;32m--> 339\u001b[0;31m         \u001b[0mobj\u001b[0m\u001b[0;34m,\u001b[0m \u001b[0mend\u001b[0m \u001b[0;34m=\u001b[0m \u001b[0mself\u001b[0m\u001b[0;34m.\u001b[0m\u001b[0mraw_decode\u001b[0m\u001b[0;34m(\u001b[0m\u001b[0ms\u001b[0m\u001b[0;34m,\u001b[0m \u001b[0midx\u001b[0m\u001b[0;34m=\u001b[0m\u001b[0m_w\u001b[0m\u001b[0;34m(\u001b[0m\u001b[0ms\u001b[0m\u001b[0;34m,\u001b[0m \u001b[0;36m0\u001b[0m\u001b[0;34m)\u001b[0m\u001b[0;34m.\u001b[0m\u001b[0mend\u001b[0m\u001b[0;34m(\u001b[0m\u001b[0;34m)\u001b[0m\u001b[0;34m)\u001b[0m\u001b[0;34m\u001b[0m\u001b[0m\n\u001b[0m\u001b[1;32m    340\u001b[0m         \u001b[0mend\u001b[0m \u001b[0;34m=\u001b[0m \u001b[0m_w\u001b[0m\u001b[0;34m(\u001b[0m\u001b[0ms\u001b[0m\u001b[0;34m,\u001b[0m \u001b[0mend\u001b[0m\u001b[0;34m)\u001b[0m\u001b[0;34m.\u001b[0m\u001b[0mend\u001b[0m\u001b[0;34m(\u001b[0m\u001b[0;34m)\u001b[0m\u001b[0;34m\u001b[0m\u001b[0m\n\u001b[1;32m    341\u001b[0m         \u001b[0;32mif\u001b[0m \u001b[0mend\u001b[0m \u001b[0;34m!=\u001b[0m \u001b[0mlen\u001b[0m\u001b[0;34m(\u001b[0m\u001b[0ms\u001b[0m\u001b[0;34m)\u001b[0m\u001b[0;34m:\u001b[0m\u001b[0;34m\u001b[0m\u001b[0m\n",
      "\u001b[0;32m/home/ubuntu/anaconda3/lib/python3.6/json/decoder.py\u001b[0m in \u001b[0;36mraw_decode\u001b[0;34m(self, s, idx)\u001b[0m\n\u001b[1;32m    353\u001b[0m         \"\"\"\n\u001b[1;32m    354\u001b[0m         \u001b[0;32mtry\u001b[0m\u001b[0;34m:\u001b[0m\u001b[0;34m\u001b[0m\u001b[0m\n\u001b[0;32m--> 355\u001b[0;31m             \u001b[0mobj\u001b[0m\u001b[0;34m,\u001b[0m \u001b[0mend\u001b[0m \u001b[0;34m=\u001b[0m \u001b[0mself\u001b[0m\u001b[0;34m.\u001b[0m\u001b[0mscan_once\u001b[0m\u001b[0;34m(\u001b[0m\u001b[0ms\u001b[0m\u001b[0;34m,\u001b[0m \u001b[0midx\u001b[0m\u001b[0;34m)\u001b[0m\u001b[0;34m\u001b[0m\u001b[0m\n\u001b[0m\u001b[1;32m    356\u001b[0m         \u001b[0;32mexcept\u001b[0m \u001b[0mStopIteration\u001b[0m \u001b[0;32mas\u001b[0m \u001b[0merr\u001b[0m\u001b[0;34m:\u001b[0m\u001b[0;34m\u001b[0m\u001b[0m\n\u001b[1;32m    357\u001b[0m             \u001b[0;32mraise\u001b[0m \u001b[0mJSONDecodeError\u001b[0m\u001b[0;34m(\u001b[0m\u001b[0;34m\"Expecting value\"\u001b[0m\u001b[0;34m,\u001b[0m \u001b[0ms\u001b[0m\u001b[0;34m,\u001b[0m \u001b[0merr\u001b[0m\u001b[0;34m.\u001b[0m\u001b[0mvalue\u001b[0m\u001b[0;34m)\u001b[0m \u001b[0;32mfrom\u001b[0m \u001b[0;32mNone\u001b[0m\u001b[0;34m\u001b[0m\u001b[0m\n",
      "\u001b[0;31mKeyboardInterrupt\u001b[0m: "
     ]
    }
   ],
   "source": [
    "train_id_items = []\n",
    "train_id = []\n",
    "import json\n",
    "it = 0\n",
    "with open('data/dota2_json/dota2_skill_test.jsonlines') as fin:\n",
    "    for line in tqdm_notebook(fin):\n",
    "        record = json.loads(line)\n",
    "        mid_items = []\n",
    "        for i in record['item_purchase_log']:\n",
    "            mid_items.append(i['item_id'])\n",
    "        train_id_items.append(mid_items)\n",
    "        train_id.append(record['id'])"
   ]
  },
  {
   "cell_type": "code",
   "execution_count": 6,
   "metadata": {
    "collapsed": true
   },
   "outputs": [],
   "source": [
    "train_items_log = pd.DataFrame(train_id_items, index=train_id)\n",
    "train_items_qual_count = pd.DataFrame(index=train_id)"
   ]
  },
  {
   "cell_type": "code",
   "execution_count": 14,
   "metadata": {
    "collapsed": true
   },
   "outputs": [],
   "source": [
    "z = [~np.isnan(train_items_log.head(1).values)]"
   ]
  },
  {
   "cell_type": "code",
   "execution_count": 18,
   "metadata": {},
   "outputs": [
    {
     "data": {
      "text/plain": [
       "37"
      ]
     },
     "execution_count": 18,
     "metadata": {},
     "output_type": "execute_result"
    }
   ],
   "source": [
    "sum(z)"
   ]
  },
  {
   "cell_type": "code",
   "execution_count": 6,
   "metadata": {},
   "outputs": [
    {
     "data": {
      "application/vnd.jupyter.widget-view+json": {
       "model_id": "39899355abce401cb460ea1654bf1ed6",
       "version_major": 2,
       "version_minor": 0
      },
      "text/plain": [
       "HBox(children=(IntProgress(value=0, max=99871), HTML(value='')))"
      ]
     },
     "metadata": {},
     "output_type": "display_data"
    },
    {
     "name": "stdout",
     "output_type": "stream",
     "text": [
      "\n"
     ]
    }
   ],
   "source": [
    "for train_id in tqdm_notebook(train_items_log.index):\n",
    "    x = train_items_log[train_items_log.index == train_id].values\n",
    "    x = x[~np.isnan(x)]\n",
    "    qual_item = [items[items.item_id == i]['qual'].values[0] for i in x]\n",
    "    for q_i in ['component', 'rare', 'epic', 'consumable', 'artifact', 'common', 'secret_shop']:\n",
    "        train_items_qual_count.loc[train_id, 'qual_item_{}_count'.format(q_i)] = qual_item.count(q_i)"
   ]
  },
  {
   "cell_type": "code",
   "execution_count": 72,
   "metadata": {
    "collapsed": true
   },
   "outputs": [],
   "source": [
    "# testim = []\n",
    "# r = records[14]\n",
    "# print(r['id'])\n",
    "# for i in r['item_purchase_log']:\n",
    "#     testim.append(i['item_id'])\n",
    "# qual_item = [items[items.item_id == i]['qual'].values[0] for i in testim]\n",
    "# qual_item.count('epic')"
   ]
  },
  {
   "cell_type": "markdown",
   "metadata": {},
   "source": [
    "_test_"
   ]
  },
  {
   "cell_type": "code",
   "execution_count": 7,
   "metadata": {},
   "outputs": [
    {
     "data": {
      "application/vnd.jupyter.widget-view+json": {
       "model_id": "bdbf7e13ea4e4c0da7b3789d3506cd94",
       "version_major": 2,
       "version_minor": 0
      },
      "text/plain": [
       "HBox(children=(IntProgress(value=1, bar_style='info', max=1), HTML(value='')))"
      ]
     },
     "metadata": {},
     "output_type": "display_data"
    },
    {
     "name": "stdout",
     "output_type": "stream",
     "text": [
      "\n"
     ]
    }
   ],
   "source": [
    "test_id_items = []\n",
    "test_id = []\n",
    "import json\n",
    "it = 0\n",
    "with open('data/dota2_json/dota2_skill_test.jsonlines') as fin:\n",
    "    for line in tqdm_notebook(fin):\n",
    "        record = json.loads(line)\n",
    "        mid_items = []\n",
    "        for i in record['item_purchase_log']:\n",
    "            mid_items.append(i['item_id'])\n",
    "        test_id_items.append(mid_items)\n",
    "        test_id.append(record['id'])\n",
    "        "
   ]
  },
  {
   "cell_type": "code",
   "execution_count": 8,
   "metadata": {
    "collapsed": true
   },
   "outputs": [],
   "source": [
    "test_items_log = pd.DataFrame(test_id_items, index=test_id)\n",
    "test_items_qual_count = pd.DataFrame(index=test_id)"
   ]
  },
  {
   "cell_type": "code",
   "execution_count": 6,
   "metadata": {},
   "outputs": [
    {
     "data": {
      "application/vnd.jupyter.widget-view+json": {
       "model_id": "ea7efe330265496fae9fa4eadde5de8c",
       "version_major": 2,
       "version_minor": 0
      },
      "text/plain": [
       "HBox(children=(IntProgress(value=0, max=43265), HTML(value='')))"
      ]
     },
     "metadata": {},
     "output_type": "display_data"
    },
    {
     "name": "stdout",
     "output_type": "stream",
     "text": [
      "\n"
     ]
    }
   ],
   "source": [
    "for test_id in tqdm_notebook(test_items_log.index):\n",
    "    x = test_items_log[test_items_log.index == test_id].values\n",
    "    x = x[~np.isnan(x)]\n",
    "    qual_item = [items[items.item_id == i]['qual'].values[0] for i in x]\n",
    "    for q_i in ['component', 'rare', 'epic', 'consumable', 'artifact', 'common', 'secret_shop']:\n",
    "        test_items_qual_count.loc[test_id, 'qual_item_{}_count'.format(q_i)] = qual_item.count(q_i)"
   ]
  },
  {
   "cell_type": "markdown",
   "metadata": {},
   "source": [
    "#### final_items"
   ]
  },
  {
   "cell_type": "markdown",
   "metadata": {},
   "source": [
    "final items and sum"
   ]
  },
  {
   "cell_type": "code",
   "execution_count": 103,
   "metadata": {},
   "outputs": [
    {
     "data": {
      "application/vnd.jupyter.widget-view+json": {
       "model_id": "16a4b983ca364e049885d74c551edb11",
       "version_major": 2,
       "version_minor": 0
      },
      "text/plain": [
       "HBox(children=(IntProgress(value=1, bar_style='info', max=1), HTML(value='')))"
      ]
     },
     "metadata": {},
     "output_type": "display_data"
    }
   ],
   "source": [
    "train_id_items = []\n",
    "train_id = []\n",
    "import json\n",
    "it = 0\n",
    "with open('data/dota2_json/dota2_skill_train.jsonlines') as fin:\n",
    "    for line in tqdm_notebook(fin):\n",
    "        record = json.loads(line)\n",
    "        train_id_items.append(record['final_items'])\n",
    "        train_id.append(record['id'])"
   ]
  },
  {
   "cell_type": "code",
   "execution_count": 104,
   "metadata": {
    "collapsed": true
   },
   "outputs": [],
   "source": [
    "train_final_items_log = pd.DataFrame(train_id_items, index=train_id)\n",
    "train_final_items_qual_and_cost = pd.DataFrame(index=train_id)"
   ]
  },
  {
   "cell_type": "code",
   "execution_count": 105,
   "metadata": {},
   "outputs": [
    {
     "data": {
      "application/vnd.jupyter.widget-view+json": {
       "model_id": "1bc3df7a889c4408863bc81afe08764d",
       "version_major": 2,
       "version_minor": 0
      },
      "text/plain": [
       "HBox(children=(IntProgress(value=0, max=99871), HTML(value='')))"
      ]
     },
     "metadata": {},
     "output_type": "display_data"
    }
   ],
   "source": [
    "for train_id in tqdm_notebook(train_final_items_log.index):\n",
    "    x = train_final_items_log[train_final_items_log.index == train_id].values[0]\n",
    "    qual_item = [items[items.item_id == i]['qual'].values[0] for i in x if i != 0]\n",
    "    sum_cost_items = sum([items[items.item_id == i]['cost'].values[0] for i in x if i != 0])\n",
    "    train_final_items_qual_and_cost.loc[train_id, 'final_items_sum'] = sum_cost_items\n",
    "    for q_i in ['component', 'rare', 'epic', 'consumable', 'artifact', 'common', 'secret_shop']:\n",
    "        train_final_items_qual_and_cost.loc[train_id, 'final_items_{}'.format(q_i)] = qual_item.count(q_i)"
   ]
  },
  {
   "cell_type": "code",
   "execution_count": 107,
   "metadata": {
    "collapsed": true
   },
   "outputs": [],
   "source": [
    "train_final_items_qual_and_cost.to_csv('data/train_final_items_qual_and_cost.csv')"
   ]
  },
  {
   "cell_type": "code",
   "execution_count": 102,
   "metadata": {
    "collapsed": true
   },
   "outputs": [],
   "source": [
    "# print(records[44]['id'])\n",
    "# for i in records[44]['final_items']:\n",
    "#     if i != 0:\n",
    "#         print(items[items.item_id == i]['qual'].values[0])\n",
    "#         print(items[items.item_id == i]['cost'].values[0])\n",
    "#         print(\"---\")"
   ]
  },
  {
   "cell_type": "markdown",
   "metadata": {},
   "source": [
    "_test_"
   ]
  },
  {
   "cell_type": "code",
   "execution_count": 110,
   "metadata": {},
   "outputs": [
    {
     "data": {
      "application/vnd.jupyter.widget-view+json": {
       "model_id": "1b4cff69190b446a906a89b2600c876f",
       "version_major": 2,
       "version_minor": 0
      },
      "text/plain": [
       "HBox(children=(IntProgress(value=1, bar_style='info', max=1), HTML(value='')))"
      ]
     },
     "metadata": {},
     "output_type": "display_data"
    }
   ],
   "source": [
    "test_id_items = []\n",
    "test_id = []\n",
    "import json\n",
    "it = 0\n",
    "with open('data/dota2_json/dota2_skill_test.jsonlines') as fin:\n",
    "    for line in tqdm_notebook(fin):\n",
    "        record = json.loads(line)\n",
    "        test_id_items.append(record['final_items'])\n",
    "        test_id.append(record['id'])"
   ]
  },
  {
   "cell_type": "code",
   "execution_count": 111,
   "metadata": {
    "collapsed": true
   },
   "outputs": [],
   "source": [
    "test_final_items_log = pd.DataFrame(test_id_items, index=test_id)\n",
    "test_final_items_qual_and_cost = pd.DataFrame(index=test_id)"
   ]
  },
  {
   "cell_type": "code",
   "execution_count": 112,
   "metadata": {},
   "outputs": [
    {
     "data": {
      "application/vnd.jupyter.widget-view+json": {
       "model_id": "c0f171b6930040d49fbf49e2c161673a",
       "version_major": 2,
       "version_minor": 0
      },
      "text/plain": [
       "HBox(children=(IntProgress(value=0, max=43265), HTML(value='')))"
      ]
     },
     "metadata": {},
     "output_type": "display_data"
    }
   ],
   "source": [
    "for test_id in tqdm_notebook(test_final_items_log.index):\n",
    "    x = test_final_items_log[test_final_items_log.index == test_id].values[0]\n",
    "    qual_item = [items[items.item_id == i]['qual'].values[0] for i in x if i != 0]\n",
    "    sum_cost_items = sum([items[items.item_id == i]['cost'].values[0] for i in x if i != 0])\n",
    "    test_final_items_qual_and_cost.loc[test_id, 'final_items_sum'] = sum_cost_items\n",
    "    for q_i in ['component', 'rare', 'epic', 'consumable', 'artifact', 'common', 'secret_shop']:\n",
    "        test_final_items_qual_and_cost.loc[test_id, 'final_items_{}'.format(q_i)] = qual_item.count(q_i)"
   ]
  },
  {
   "cell_type": "code",
   "execution_count": 127,
   "metadata": {
    "collapsed": true
   },
   "outputs": [],
   "source": [
    "test_final_items_qual_and_cost.to_csv('data/test_final_items_qual_and_cost.csv')"
   ]
  },
  {
   "cell_type": "markdown",
   "metadata": {},
   "source": [
    "#### level up speed"
   ]
  },
  {
   "cell_type": "markdown",
   "metadata": {},
   "source": [
    "think about different solution"
   ]
  },
  {
   "cell_type": "code",
   "execution_count": 197,
   "metadata": {},
   "outputs": [
    {
     "data": {
      "application/vnd.jupyter.widget-view+json": {
       "model_id": "eaa41c12df2f4bd8b35ef50b97490268",
       "version_major": 2,
       "version_minor": 0
      },
      "text/plain": [
       "HBox(children=(IntProgress(value=1, bar_style='info', max=1), HTML(value='')))"
      ]
     },
     "metadata": {},
     "output_type": "display_data"
    }
   ],
   "source": [
    "train_id_level_up_speed = []\n",
    "train_id = []\n",
    "import json\n",
    "it = 0\n",
    "with open('data/dota2_json/dota2_skill_train.jsonlines') as fin:\n",
    "    for line in tqdm_notebook(fin):\n",
    "        record = json.loads(line)\n",
    "        sdvig = []\n",
    "        for i in range(len(record['level_up_times'])):\n",
    "            if i + 1 != len(record['level_up_times']):\n",
    "                sdvig.append(record['level_up_times'][i+1])\n",
    "        delta_time = []\n",
    "        \n",
    "        for q, a in zip(record['level_up_times'], sdvig):\n",
    "            delta_time.append(a-q)  \n",
    "            \n",
    "        if len(delta_time) != 0:\n",
    "            mean_time = sum(delta_time) / len(delta_time)   \n",
    "        else:\n",
    "            mean_time = 0\n",
    "        \n",
    "        if mean_time != 0:\n",
    "            speed = records[ind]['level'] / mean_time\n",
    "        else:\n",
    "            speed = 0\n",
    "            \n",
    "        train_id.append(record['id'])\n",
    "        train_id_level_up_speed.append(speed)"
   ]
  },
  {
   "cell_type": "code",
   "execution_count": 202,
   "metadata": {
    "collapsed": true
   },
   "outputs": [],
   "source": [
    "train_level_up = pd.DataFrame(train_id_level_up_speed, index=train_id)\n",
    "train_level_up.columns = ['level_up_speed']\n",
    "train_level_up.to_csv('data/train_level_up.csv')"
   ]
  },
  {
   "cell_type": "markdown",
   "metadata": {},
   "source": [
    "_test_"
   ]
  },
  {
   "cell_type": "code",
   "execution_count": 216,
   "metadata": {},
   "outputs": [
    {
     "data": {
      "application/vnd.jupyter.widget-view+json": {
       "model_id": "0f266e6945df4219b9defde77cab90aa",
       "version_major": 2,
       "version_minor": 0
      },
      "text/plain": [
       "HBox(children=(IntProgress(value=1, bar_style='info', max=1), HTML(value='')))"
      ]
     },
     "metadata": {},
     "output_type": "display_data"
    }
   ],
   "source": [
    "test_id_level_up_speed = []\n",
    "test_id = []\n",
    "import json\n",
    "it = 0\n",
    "with open('data/dota2_json/dota2_skill_test.jsonlines') as fin:\n",
    "    for line in tqdm_notebook(fin):\n",
    "        record = json.loads(line)\n",
    "        sdvig = []\n",
    "        for i in range(len(record['level_up_times'])):\n",
    "            if i + 1 != len(record['level_up_times']):\n",
    "                sdvig.append(record['level_up_times'][i+1])\n",
    "        delta_time = []\n",
    "        \n",
    "        for q, a in zip(record['level_up_times'], sdvig):\n",
    "            delta_time.append(a-q)  \n",
    "            \n",
    "        if len(delta_time) != 0:\n",
    "            mean_time = sum(delta_time) / len(delta_time)   \n",
    "        else:\n",
    "            mean_time = 0\n",
    "        \n",
    "        if mean_time != 0:\n",
    "            speed = records[ind]['level'] / mean_time\n",
    "        else:\n",
    "            speed = 0\n",
    "            \n",
    "        test_id.append(record['id'])\n",
    "        test_id_level_up_speed.append(speed)"
   ]
  },
  {
   "cell_type": "code",
   "execution_count": 217,
   "metadata": {
    "collapsed": true
   },
   "outputs": [],
   "source": [
    "test_level_up = pd.DataFrame(test_id_level_up_speed, index=test_id)\n",
    "test_level_up.columns = ['level_up_speed']\n",
    "test_level_up.to_csv('data/test_level_up.csv')"
   ]
  },
  {
   "cell_type": "markdown",
   "metadata": {},
   "source": [
    "#### damage_targets"
   ]
  },
  {
   "cell_type": "markdown",
   "metadata": {},
   "source": [
    "kinds of damage"
   ]
  },
  {
   "cell_type": "markdown",
   "metadata": {},
   "source": [
    "    + make binary of important actions"
   ]
  },
  {
   "cell_type": "code",
   "execution_count": 2,
   "metadata": {},
   "outputs": [
    {
     "data": {
      "application/vnd.jupyter.widget-view+json": {
       "model_id": "1662a74d55e647d89fd26ba977524c6f",
       "version_major": 2,
       "version_minor": 0
      },
      "text/plain": [
       "HBox(children=(IntProgress(value=1, bar_style='info', max=1), HTML(value='')))"
      ]
     },
     "metadata": {},
     "output_type": "display_data"
    },
    {
     "name": "stdout",
     "output_type": "stream",
     "text": [
      "\n"
     ]
    }
   ],
   "source": [
    "train_id_damage_targets = []\n",
    "train_id = []\n",
    "import json\n",
    "it = 0\n",
    "with open('data/dota2_json/dota2_skill_train.jsonlines') as fin:\n",
    "    for line in tqdm_notebook(fin):\n",
    "        record = json.loads(line)\n",
    "        \n",
    "        mid_ar = []\n",
    "        for i in record['damage_targets'].items():\n",
    "            mid_ar.append(i)\n",
    "            \n",
    "        train_id_damage_targets.append(mid_ar)\n",
    "        train_id.append(record['id'])"
   ]
  },
  {
   "cell_type": "code",
   "execution_count": 3,
   "metadata": {
    "collapsed": true
   },
   "outputs": [],
   "source": [
    "train_id_damage_targets_log = pd.DataFrame(train_id_damage_targets, index=train_id)\n",
    "train_id_damage_targets = pd.DataFrame(index=train_id)"
   ]
  },
  {
   "cell_type": "code",
   "execution_count": 4,
   "metadata": {},
   "outputs": [
    {
     "data": {
      "application/vnd.jupyter.widget-view+json": {
       "model_id": "da7b518301894b949a6302e486507450",
       "version_major": 2,
       "version_minor": 0
      },
      "text/plain": [
       "HBox(children=(IntProgress(value=0, max=99871), HTML(value='')))"
      ]
     },
     "metadata": {},
     "output_type": "display_data"
    },
    {
     "name": "stdout",
     "output_type": "stream",
     "text": [
      "\n"
     ]
    }
   ],
   "source": [
    "for train_id in tqdm_notebook(train_id_damage_targets_log.index):\n",
    "    for i in train_id_damage_targets_log[train_id_damage_targets_log.index == train_id].values[0]:\n",
    "        if i != None:\n",
    "            train_id_damage_targets.loc[train_id, '{}'.format(i[0])] = i[1]"
   ]
  },
  {
   "cell_type": "code",
   "execution_count": 5,
   "metadata": {
    "collapsed": true
   },
   "outputs": [],
   "source": [
    "train_id_damage_targets.fillna(0).to_csv('data/train_id_damage_targets.csv')"
   ]
  },
  {
   "cell_type": "markdown",
   "metadata": {},
   "source": [
    "_test_"
   ]
  },
  {
   "cell_type": "code",
   "execution_count": 6,
   "metadata": {},
   "outputs": [
    {
     "data": {
      "application/vnd.jupyter.widget-view+json": {
       "model_id": "2ce10233c16a4af39b01f2cf448c8202",
       "version_major": 2,
       "version_minor": 0
      },
      "text/plain": [
       "HBox(children=(IntProgress(value=1, bar_style='info', max=1), HTML(value='')))"
      ]
     },
     "metadata": {},
     "output_type": "display_data"
    },
    {
     "name": "stdout",
     "output_type": "stream",
     "text": [
      "\n"
     ]
    }
   ],
   "source": [
    "test_id_damage_targets = []\n",
    "test_id = []\n",
    "import json\n",
    "it = 0\n",
    "with open('data/dota2_json/dota2_skill_test.jsonlines') as fin:\n",
    "    for line in tqdm_notebook(fin):\n",
    "        record = json.loads(line)\n",
    "        \n",
    "        mid_ar = []\n",
    "        for i in record['damage_targets'].items():\n",
    "            mid_ar.append(i)\n",
    "            \n",
    "        test_id_damage_targets.append(mid_ar)\n",
    "        test_id.append(record['id'])"
   ]
  },
  {
   "cell_type": "code",
   "execution_count": 7,
   "metadata": {
    "collapsed": true
   },
   "outputs": [],
   "source": [
    "test_id_damage_targets_log = pd.DataFrame(test_id_damage_targets, index=test_id)\n",
    "test_id_damage_targets = pd.DataFrame(index=test_id)"
   ]
  },
  {
   "cell_type": "code",
   "execution_count": 8,
   "metadata": {},
   "outputs": [
    {
     "data": {
      "application/vnd.jupyter.widget-view+json": {
       "model_id": "7067b3e229864ba19a9ec86ad11c968e",
       "version_major": 2,
       "version_minor": 0
      },
      "text/plain": [
       "HBox(children=(IntProgress(value=0, max=43265), HTML(value='')))"
      ]
     },
     "metadata": {},
     "output_type": "display_data"
    },
    {
     "name": "stdout",
     "output_type": "stream",
     "text": [
      "\n"
     ]
    }
   ],
   "source": [
    "for test_id in tqdm_notebook(test_id_damage_targets_log.index):\n",
    "    for i in test_id_damage_targets_log[test_id_damage_targets_log.index == test_id].values[0]:\n",
    "        if i != None:\n",
    "            test_id_damage_targets.loc[test_id, '{}'.format(i[0])] = i[1]"
   ]
  },
  {
   "cell_type": "code",
   "execution_count": 9,
   "metadata": {
    "collapsed": true
   },
   "outputs": [],
   "source": [
    "test_id_damage_targets.fillna(0).to_csv('data/test_id_damage_targets.csv')"
   ]
  },
  {
   "cell_type": "markdown",
   "metadata": {},
   "source": [
    " "
   ]
  },
  {
   "cell_type": "code",
   "execution_count": null,
   "metadata": {
    "collapsed": true
   },
   "outputs": [],
   "source": [
    "test_id_damage_targets[test_id_damage_targets.]"
   ]
  },
  {
   "cell_type": "markdown",
   "metadata": {},
   "source": [
    "<hr>"
   ]
  },
  {
   "cell_type": "markdown",
   "metadata": {},
   "source": [
    "#### series"
   ]
  },
  {
   "cell_type": "markdown",
   "metadata": {},
   "source": [
    "count delte between sum, mean, std player team and player "
   ]
  },
  {
   "cell_type": "markdown",
   "metadata": {},
   "source": [
    "_train_"
   ]
  },
  {
   "cell_type": "code",
   "execution_count": 60,
   "metadata": {},
   "outputs": [
    {
     "data": {
      "application/vnd.jupyter.widget-view+json": {
       "model_id": "0d544bf0c38d497484d3333b94d81169",
       "version_major": 2,
       "version_minor": 0
      },
      "text/plain": [
       "HBox(children=(IntProgress(value=1, bar_style='info', max=1), HTML(value='')))"
      ]
     },
     "metadata": {},
     "output_type": "display_data"
    }
   ],
   "source": [
    "train_series = []\n",
    "train_id = []\n",
    "import json\n",
    "it = 0\n",
    "with open('data/dota2_json/dota2_skill_train.jsonlines') as fin:\n",
    "    for line in tqdm_notebook(fin):\n",
    "        record = json.loads(line)\n",
    "        \n",
    "        p = np.array(record['series']['player_gold'])\n",
    "        p_sum = p.sum()\n",
    "        p_mean = p.mean()\n",
    "        p_std = p.std()\n",
    "        \n",
    "        t = np.array(record['series']['{}_gold'.format(record['player_team'])])\n",
    "        t_sum = t.sum()\n",
    "        t_mean = t.mean()\n",
    "        t_std = t.std()\n",
    "        train_id.append(record['id'])\n",
    "        \n",
    "        delta_sum =  t_sum - p_sum\n",
    "        delta_mean = t_mean - p_mean\n",
    "        delta_std = t_std - p_std\n",
    "        \n",
    "        train_series.append([p_sum, p_mean, p_std, t_sum, t_mean, t_std, delta_sum, delta_mean, delta_std])"
   ]
  },
  {
   "cell_type": "code",
   "execution_count": 61,
   "metadata": {
    "collapsed": true
   },
   "outputs": [],
   "source": [
    "train_series = pd.DataFrame(train_series, index=train_id)\n",
    "train_series.columns = ['p_sum','p_mean','p_std','t_sum','t_mean','t_std', 'delta_sum', 'delta_mean', 'delta_std']\n",
    "train_series.fillna(0.1).to_csv('data/train_series.csv')"
   ]
  },
  {
   "cell_type": "markdown",
   "metadata": {},
   "source": [
    "_test_"
   ]
  },
  {
   "cell_type": "code",
   "execution_count": 89,
   "metadata": {},
   "outputs": [
    {
     "data": {
      "application/vnd.jupyter.widget-view+json": {
       "model_id": "aee166a844e9477db4e372551f2c6ace",
       "version_major": 2,
       "version_minor": 0
      },
      "text/plain": [
       "HBox(children=(IntProgress(value=1, bar_style='info', max=1), HTML(value='')))"
      ]
     },
     "metadata": {},
     "output_type": "display_data"
    }
   ],
   "source": [
    "test_series = []\n",
    "test_id = []\n",
    "import json\n",
    "it = 0\n",
    "with open('data/dota2_json/dota2_skill_test.jsonlines') as fin:\n",
    "    for line in tqdm_notebook(fin):\n",
    "        record = json.loads(line)\n",
    "        \n",
    "        p = np.array(record['series']['player_gold'])\n",
    "        p_sum = p.sum()\n",
    "        p_mean = p.mean()\n",
    "        p_std = p.std()\n",
    "        \n",
    "        t = np.array(record['series']['{}_gold'.format(record['player_team'])])\n",
    "        t_sum = t.sum()\n",
    "        t_mean = t.mean()\n",
    "        t_std = t.std()\n",
    "        test_id.append(record['id'])\n",
    "        \n",
    "        delta_sum =  t_sum - p_sum\n",
    "        delta_mean = t_mean - p_mean\n",
    "        delta_std = t_std - p_std\n",
    "        \n",
    "        test_series.append([p_sum, p_mean, p_std, t_sum, t_mean, t_std, delta_sum, delta_mean, delta_std])"
   ]
  },
  {
   "cell_type": "code",
   "execution_count": 90,
   "metadata": {
    "collapsed": true
   },
   "outputs": [],
   "source": [
    "test_series = pd.DataFrame(test_series, index=test_id)\n",
    "test_series.columns = ['p_sum','p_mean','p_std','t_sum','t_mean','t_std', 'delta_sum', 'delta_mean', 'delta_std']\n",
    "test_series.fillna(0.1).to_csv('data/test_series.csv')"
   ]
  },
  {
   "cell_type": "code",
   "execution_count": null,
   "metadata": {
    "collapsed": true
   },
   "outputs": [],
   "source": []
  },
  {
   "cell_type": "markdown",
   "metadata": {},
   "source": [
    "<hr>"
   ]
  },
  {
   "cell_type": "markdown",
   "metadata": {},
   "source": [
    "#### teammates"
   ]
  },
  {
   "cell_type": "markdown",
   "metadata": {},
   "source": [
    "_train_"
   ]
  },
  {
   "cell_type": "code",
   "execution_count": 126,
   "metadata": {
    "collapsed": true
   },
   "outputs": [],
   "source": [
    "from sklearn.preprocessing import OneHotEncoder"
   ]
  },
  {
   "cell_type": "code",
   "execution_count": 122,
   "metadata": {},
   "outputs": [
    {
     "data": {
      "application/vnd.jupyter.widget-view+json": {
       "model_id": "728d7f592766460c8e71789b7510fca4",
       "version_major": 2,
       "version_minor": 0
      },
      "text/plain": [
       "HBox(children=(IntProgress(value=1, bar_style='info', max=1), HTML(value='')))"
      ]
     },
     "metadata": {},
     "output_type": "display_data"
    }
   ],
   "source": [
    "train_teammates = []\n",
    "train_id = []\n",
    "import json\n",
    "it = 0\n",
    "with open('data/dota2_json/dota2_skill_train.jsonlines') as fin:\n",
    "    for line in tqdm_notebook(fin):\n",
    "        record = json.loads(line)\n",
    "        \n",
    "        train_id.append(record['id'])\n",
    "        train_teammates.append(record['{}_heroes'.format(record['player_team'])])"
   ]
  },
  {
   "cell_type": "code",
   "execution_count": 123,
   "metadata": {
    "collapsed": true
   },
   "outputs": [],
   "source": [
    "train_teammates_id = pd.DataFrame(train_teammates, index=train_id)\n",
    "train_teammates= pd.DataFrame(index=train_id)"
   ]
  },
  {
   "cell_type": "code",
   "execution_count": 199,
   "metadata": {
    "collapsed": true
   },
   "outputs": [],
   "source": [
    "h0 = OneHotEncoder().fit_transform(train_teammates_id[0].values.reshape(-1,1))\n",
    "h1 = OneHotEncoder().fit_transform(train_teammates_id[1].values.reshape(-1,1))\n",
    "h2 = OneHotEncoder().fit_transform(train_teammates_id[2].values.reshape(-1,1))\n",
    "h3 = OneHotEncoder().fit_transform(train_teammates_id[3].values.reshape(-1,1))\n",
    "h4 = OneHotEncoder().fit_transform(train_teammates_id[4].values.reshape(-1,1))"
   ]
  },
  {
   "cell_type": "code",
   "execution_count": 200,
   "metadata": {
    "collapsed": true
   },
   "outputs": [],
   "source": [
    "df_h0 = pd.DataFrame(h0.toarray(), index=train_id)\n",
    "df_h1 = pd.DataFrame(h1.toarray(), index=train_id)\n",
    "df_h2 = pd.DataFrame(h2.toarray(), index=train_id)\n",
    "df_h3 = pd.DataFrame(h3.toarray(), index=train_id)\n",
    "df_h4 = pd.DataFrame(h4.toarray(), index=train_id)"
   ]
  },
  {
   "cell_type": "code",
   "execution_count": 201,
   "metadata": {
    "collapsed": true
   },
   "outputs": [],
   "source": [
    "train_teammates = df_h0 + df_h1 + df_h2 + df_h3 + df_h4"
   ]
  },
  {
   "cell_type": "code",
   "execution_count": 206,
   "metadata": {
    "collapsed": true
   },
   "outputs": [],
   "source": [
    "train_teammates = train_teammates.astype('int')"
   ]
  },
  {
   "cell_type": "code",
   "execution_count": 207,
   "metadata": {
    "collapsed": true
   },
   "outputs": [],
   "source": [
    "train_teammates.to_csv('data/train_teammates.csv')"
   ]
  },
  {
   "cell_type": "markdown",
   "metadata": {},
   "source": [
    "_test_"
   ]
  },
  {
   "cell_type": "code",
   "execution_count": 208,
   "metadata": {},
   "outputs": [
    {
     "data": {
      "application/vnd.jupyter.widget-view+json": {
       "model_id": "96bfc495fd0e43c4b7b9af6592b50dc4",
       "version_major": 2,
       "version_minor": 0
      },
      "text/plain": [
       "HBox(children=(IntProgress(value=1, bar_style='info', max=1), HTML(value='')))"
      ]
     },
     "metadata": {},
     "output_type": "display_data"
    }
   ],
   "source": [
    "test_teammates = []\n",
    "test_id = []\n",
    "import json\n",
    "it = 0\n",
    "with open('data/dota2_json/dota2_skill_test.jsonlines') as fin:\n",
    "    for line in tqdm_notebook(fin):\n",
    "        record = json.loads(line)\n",
    "        \n",
    "        test_id.append(record['id'])\n",
    "        test_teammates.append(record['{}_heroes'.format(record['player_team'])])"
   ]
  },
  {
   "cell_type": "code",
   "execution_count": 209,
   "metadata": {
    "collapsed": true
   },
   "outputs": [],
   "source": [
    "test_teammates_id = pd.DataFrame(test_teammates, index=test_id)\n",
    "test_teammates= pd.DataFrame(index=test_id)"
   ]
  },
  {
   "cell_type": "code",
   "execution_count": 210,
   "metadata": {
    "collapsed": true
   },
   "outputs": [],
   "source": [
    "h0 = OneHotEncoder().fit_transform(test_teammates_id[0].values.reshape(-1,1))\n",
    "h1 = OneHotEncoder().fit_transform(test_teammates_id[1].values.reshape(-1,1))\n",
    "h2 = OneHotEncoder().fit_transform(test_teammates_id[2].values.reshape(-1,1))\n",
    "h3 = OneHotEncoder().fit_transform(test_teammates_id[3].values.reshape(-1,1))\n",
    "h4 = OneHotEncoder().fit_transform(test_teammates_id[4].values.reshape(-1,1))"
   ]
  },
  {
   "cell_type": "code",
   "execution_count": 212,
   "metadata": {
    "collapsed": true
   },
   "outputs": [],
   "source": [
    "df_h0 = pd.DataFrame(h0.toarray(), index=test_id)\n",
    "df_h1 = pd.DataFrame(h1.toarray(), index=test_id)\n",
    "df_h2 = pd.DataFrame(h2.toarray(), index=test_id)\n",
    "df_h3 = pd.DataFrame(h3.toarray(), index=test_id)\n",
    "df_h4 = pd.DataFrame(h4.toarray(), index=test_id)"
   ]
  },
  {
   "cell_type": "code",
   "execution_count": 213,
   "metadata": {
    "collapsed": true
   },
   "outputs": [],
   "source": [
    "test_teammates = df_h0 + df_h1 + df_h2 + df_h3 + df_h4"
   ]
  },
  {
   "cell_type": "code",
   "execution_count": 214,
   "metadata": {
    "collapsed": true
   },
   "outputs": [],
   "source": [
    "test_teammates = test_teammates.astype('int')"
   ]
  },
  {
   "cell_type": "code",
   "execution_count": 215,
   "metadata": {
    "collapsed": true
   },
   "outputs": [],
   "source": [
    "test_teammates.to_csv('data/test_teammates.csv')"
   ]
  },
  {
   "cell_type": "markdown",
   "metadata": {},
   "source": [
    "add mean and winrate by teammates"
   ]
  },
  {
   "cell_type": "markdown",
   "metadata": {},
   "source": [
    "'agi_gain', 'attack_range', 'attack_rate'"
   ]
  },
  {
   "cell_type": "markdown",
   "metadata": {},
   "source": [
    "_test_"
   ]
  },
  {
   "cell_type": "code",
   "execution_count": 328,
   "metadata": {},
   "outputs": [
    {
     "data": {
      "application/vnd.jupyter.widget-view+json": {
       "model_id": "20e8103c5a3b4453aae301753728c502",
       "version_major": 2,
       "version_minor": 0
      },
      "text/plain": [
       "HBox(children=(IntProgress(value=0, max=99871), HTML(value='')))"
      ]
     },
     "metadata": {},
     "output_type": "display_data"
    }
   ],
   "source": [
    "train_id = []\n",
    "train_tm_stats = []\n",
    "for p_id in tqdm_notebook(train_teammates_id.index):\n",
    "    tm_roles = np.array([0,0,0,0,0,0,0,0,0])\n",
    "    tm_agi = []\n",
    "    tm_attack_range = []\n",
    "    tm_attack_rate = []\n",
    "    tm_winrate = []\n",
    "    \n",
    "    for tm in train_teammates_id[train_teammates_id.index == p_id].values[0]:\n",
    "        tm_roles += heroes[heroes.index == tm].iloc[:,-9:].values[0]\n",
    "        tm_agi.append(heroes[heroes.index == tm]['agi_gain'].values[0])\n",
    "        tm_attack_range.append(heroes[heroes.index == tm]['attack_range'].values[0])\n",
    "        tm_attack_rate.append(heroes[heroes.index == tm]['attack_rate'].values[0])\n",
    "        tm_winrate.append(heroes[heroes.index == tm]['winrate'].values[0])\n",
    "    train_id.append(p_id)\n",
    "\n",
    "    tm_agi_mean = np.array(tm_agi).mean()\n",
    "    tm_attack_range_mean = np.array(tm_attack_range).mean()\n",
    "    tm_attack_rate_mean = np.array(tm_attack_rate).mean()\n",
    "    tm_winrate_mean = np.array(tm_winrate).mean()\n",
    "    \n",
    "    tm_agi_std = np.array(tm_agi).std()\n",
    "    tm_attack_range_std = np.array(tm_attack_range).std()\n",
    "    tm_attack_rate_std = np.array(tm_attack_rate).std()\n",
    "    tm_winrate_std = np.array(tm_winrate).std()\n",
    "    \n",
    "    r0 = tm_roles[0]\n",
    "    r1 = tm_roles[1]\n",
    "    r2 = tm_roles[2]\n",
    "    r3 = tm_roles[3]\n",
    "    r4 = tm_roles[4]\n",
    "    r5 = tm_roles[5]\n",
    "    r6 = tm_roles[6]\n",
    "    r7 = tm_roles[7]\n",
    "    r8 = tm_roles[8]\n",
    "    \n",
    "    train_tm_stats.append([tm_agi_mean, tm_attack_range_mean, tm_attack_rate_mean,\n",
    "                          tm_winrate_mean, tm_agi_std, tm_attack_range_std, tm_attack_rate_std, tm_winrate_std, r0,r1,r2,r3,r4,r5,r6,r7,r8])"
   ]
  },
  {
   "cell_type": "code",
   "execution_count": 329,
   "metadata": {
    "collapsed": true
   },
   "outputs": [],
   "source": [
    "train_tm_stats = pd.DataFrame(train_tm_stats, index= train_id)\n",
    "train_tm_stats.to_csv('data/train_tm_stats.csv')"
   ]
  },
  {
   "cell_type": "markdown",
   "metadata": {},
   "source": [
    "_test_"
   ]
  },
  {
   "cell_type": "code",
   "execution_count": 333,
   "metadata": {},
   "outputs": [
    {
     "data": {
      "application/vnd.jupyter.widget-view+json": {
       "model_id": "6677e1784e664191849a756a2b7b43d3",
       "version_major": 2,
       "version_minor": 0
      },
      "text/plain": [
       "HBox(children=(IntProgress(value=0, max=43265), HTML(value='')))"
      ]
     },
     "metadata": {},
     "output_type": "display_data"
    }
   ],
   "source": [
    "test_id = []\n",
    "test_tm_stats = []\n",
    "for p_id in tqdm_notebook(test_teammates_id.index):\n",
    "    tm_roles = np.array([0,0,0,0,0,0,0,0,0])\n",
    "    tm_agi = []\n",
    "    tm_attack_range = []\n",
    "    tm_attack_rate = []\n",
    "    tm_winrate = []\n",
    "    \n",
    "    for tm in test_teammates_id[test_teammates_id.index == p_id].values[0]:\n",
    "        tm_roles += heroes[heroes.index == tm].iloc[:,-9:].values[0]\n",
    "        tm_agi.append(heroes[heroes.index == tm]['agi_gain'].values[0])\n",
    "        tm_attack_range.append(heroes[heroes.index == tm]['attack_range'].values[0])\n",
    "        tm_attack_rate.append(heroes[heroes.index == tm]['attack_rate'].values[0])\n",
    "        tm_winrate.append(heroes[heroes.index == tm]['winrate'].values[0])\n",
    "    test_id.append(p_id)\n",
    "\n",
    "    tm_agi_mean = np.array(tm_agi).mean()\n",
    "    tm_attack_range_mean = np.array(tm_attack_range).mean()\n",
    "    tm_attack_rate_mean = np.array(tm_attack_rate).mean()\n",
    "    tm_winrate_mean = np.array(tm_winrate).mean()\n",
    "    \n",
    "    tm_agi_std = np.array(tm_agi).std()\n",
    "    tm_attack_range_std = np.array(tm_attack_range).std()\n",
    "    tm_attack_rate_std = np.array(tm_attack_rate).std()\n",
    "    tm_winrate_std = np.array(tm_winrate).std()\n",
    "    \n",
    "    r0 = tm_roles[0]\n",
    "    r1 = tm_roles[1]\n",
    "    r2 = tm_roles[2]\n",
    "    r3 = tm_roles[3]\n",
    "    r4 = tm_roles[4]\n",
    "    r5 = tm_roles[5]\n",
    "    r6 = tm_roles[6]\n",
    "    r7 = tm_roles[7]\n",
    "    r8 = tm_roles[8]\n",
    "    \n",
    "    test_tm_stats.append([tm_agi_mean, tm_attack_range_mean, tm_attack_rate_mean,\n",
    "                          tm_winrate_mean, tm_agi_std, tm_attack_range_std, tm_attack_rate_std, tm_winrate_std, r0,r1,r2,r3,r4,r5,r6,r7,r8])"
   ]
  },
  {
   "cell_type": "code",
   "execution_count": 335,
   "metadata": {
    "collapsed": true
   },
   "outputs": [],
   "source": [
    "test_tm_stats = pd.DataFrame(test_tm_stats, index= test_id)"
   ]
  },
  {
   "cell_type": "code",
   "execution_count": 336,
   "metadata": {
    "collapsed": true
   },
   "outputs": [],
   "source": [
    "test_tm_stats.to_csv('data/test_tm_stats.csv')"
   ]
  },
  {
   "cell_type": "markdown",
   "metadata": {},
   "source": [
    "# Player in team "
   ]
  },
  {
   "cell_type": "code",
   "execution_count": 46,
   "metadata": {
    "collapsed": true
   },
   "outputs": [],
   "source": [
    "cols = ['skilled','gold_per_min','xp_per_min', 'avg_kills_x16','avg_deaths_x16','avg_assists_x16','avg_gpm_x16','avg_xpm_x16','best_kills_x16','best_assists_x16','best_gpm_x16','best_xpm_x16','win_streak','best_win_streak']\n",
    "mn_1 =data_train.groupby('hero_id')[cols].mean()"
   ]
  },
  {
   "cell_type": "code",
   "execution_count": 132,
   "metadata": {},
   "outputs": [
    {
     "data": {
      "application/vnd.jupyter.widget-view+json": {
       "model_id": "6600cb071c784ce391ce4db1b6f83d37",
       "version_major": 2,
       "version_minor": 0
      },
      "text/plain": [
       "HBox(children=(IntProgress(value=1, bar_style='info', max=1), HTML(value='')))"
      ]
     },
     "metadata": {},
     "output_type": "display_data"
    },
    {
     "name": "stdout",
     "output_type": "stream",
     "text": [
      "\n"
     ]
    }
   ],
   "source": [
    "train_deltas = []\n",
    "train_id = []\n",
    "import json\n",
    "it = 0\n",
    "with open('data/dota2_json/dota2_skill_train.jsonlines') as fin:\n",
    "    for line in tqdm_notebook(fin):\n",
    "        record = json.loads(line)\n",
    "        \n",
    "        l_skilled = [] \n",
    "        l_gold_per_min =  []\n",
    "        l_xp_per_min =  []\n",
    "        l_avg_kills_x16 =  []\n",
    "        l_avg_deaths_x16 =  []\n",
    "        l_avg_assists_x16 =  []\n",
    "        l_avg_gpm_x16 =  []\n",
    "        l_avg_xpm_x16 =  []\n",
    "        l_best_kills_x16 =  []\n",
    "        l_best_assists_x16 =  []\n",
    "        l_best_gpm_x16 =  []\n",
    "        l_best_xpm_x16 =  []\n",
    "        l_win_streak =  []\n",
    "        l_best_win_streak =  []\n",
    "\n",
    "        for players in record['{}_heroes'.format(record['player_team'])]:\n",
    "            if players == record['hero_id']:  \n",
    "\n",
    "                p_skilled            = mn_1.at[players, 'skilled'] \n",
    "                p_gold_per_min       = mn_1.at[players, 'gold_per_min']\n",
    "                p_xp_per_min         = mn_1.at[players, 'xp_per_min']   \n",
    "                p_avg_kills_x16      = mn_1.at[players, 'avg_kills_x16']\n",
    "                p_avg_deaths_x16     = mn_1.at[players, 'avg_deaths_x16']\n",
    "                p_avg_assists_x16    = mn_1.at[players, 'avg_assists_x16']\n",
    "                p_avg_gpm_x16        = mn_1.at[players, 'avg_gpm_x16']\n",
    "                p_avg_xpm_x16        = mn_1.at[players, 'avg_xpm_x16']\n",
    "                p_best_kills_x16     = mn_1.at[players, 'best_kills_x16']\n",
    "                p_best_assists_x16   = mn_1.at[players, 'best_assists_x16']\n",
    "                p_best_gpm_x16       = mn_1.at[players, 'best_gpm_x16']\n",
    "                p_best_xpm_x16       = mn_1.at[players, 'best_xpm_x16']\n",
    "                p_win_streak         = mn_1.at[players, 'win_streak']\n",
    "                p_best_win_streak    = mn_1.at[players, 'best_win_streak']\n",
    "\n",
    "                l_skilled.append(p_skilled)\n",
    "                l_gold_per_min.append(p_gold_per_min)\n",
    "                l_xp_per_min.append(p_xp_per_min)\n",
    "                l_avg_kills_x16.append(p_avg_kills_x16)\n",
    "                l_avg_deaths_x16.append(p_avg_deaths_x16) \n",
    "                l_avg_assists_x16.append(p_avg_assists_x16)  \n",
    "                l_avg_gpm_x16.append(p_avg_gpm_x16)\n",
    "                l_avg_xpm_x16.append(p_avg_xpm_x16)\n",
    "                l_best_kills_x16.append(p_best_kills_x16) \n",
    "                l_best_assists_x16.append(p_best_assists_x16)   \n",
    "                l_best_gpm_x16.append(p_best_gpm_x16)\n",
    "                l_best_xpm_x16.append(p_best_xpm_x16)\n",
    "                l_win_streak.append(p_win_streak)\n",
    "                l_best_win_streak.append(p_best_win_streak)  \n",
    "\n",
    "            l_skilled.append(mn_1.at[players, 'skilled']) \n",
    "            l_gold_per_min.append(mn_1.at[players, 'gold_per_min'])\n",
    "            l_xp_per_min.append(mn_1.at[players, 'xp_per_min'])\n",
    "            l_avg_kills_x16.append(mn_1.at[players, 'avg_kills_x16'])\n",
    "            l_avg_deaths_x16.append(mn_1.at[players, 'avg_deaths_x16'])\n",
    "            l_avg_assists_x16.append(mn_1.at[players, 'avg_assists_x16'])\n",
    "            l_avg_gpm_x16.append(mn_1.at[players, 'avg_gpm_x16'])\n",
    "            l_avg_xpm_x16.append(mn_1.at[players, 'avg_xpm_x16'])\n",
    "            l_best_kills_x16.append(mn_1.at[players, 'best_kills_x16'])\n",
    "            l_best_assists_x16.append(mn_1.at[players, 'best_assists_x16'])  \n",
    "            l_best_gpm_x16.append(mn_1.at[players, 'best_gpm_x16'])\n",
    "            l_best_xpm_x16.append(mn_1.at[players, 'best_xpm_x16'])\n",
    "            l_win_streak.append(mn_1.at[players, 'win_streak'])\n",
    "            l_best_win_streak.append(mn_1.at[players, 'best_win_streak']) \n",
    "\n",
    "        delta_skilled = max(l_skilled) - p_skilled \n",
    "        delta_gold_per_min =  max(l_gold_per_min) - p_gold_per_min\n",
    "        delta_xp_per_min = max(l_xp_per_min) - p_xp_per_min\n",
    "        delta_avg_kills_x16 = max(l_avg_kills_x16) - p_avg_kills_x16\n",
    "        delta_avg_deaths_x16 = max(l_avg_deaths_x16) - p_avg_deaths_x16\n",
    "        delta_avg_assists_x16 =  max(l_avg_assists_x16) -  p_avg_assists_x16\n",
    "        delta_avg_gpm_x16 = max(l_avg_gpm_x16) - p_avg_gpm_x16  \n",
    "        delta_avg_xpm_x16 =  max(l_avg_xpm_x16) - p_avg_xpm_x16\n",
    "        delta_best_kills_x16 = max(l_best_kills_x16) - p_best_kills_x16\n",
    "        delta_best_assists_x16 = max(l_best_assists_x16) - p_best_assists_x16\n",
    "        delta_best_gpm_x16 = max(l_best_gpm_x16) - p_best_gpm_x16\n",
    "        delta_best_xpm_x16 = max(l_best_xpm_x16) - p_best_xpm_x16\n",
    "        delta_win_streak = max(l_win_streak) - p_win_streak\n",
    "        delta_best_win_streak = max(l_best_win_streak) -  p_best_win_streak\n",
    "        \n",
    "        train_deltas.append(  [delta_skilled, delta_gold_per_min, delta_xp_per_min, delta_avg_kills_x16 , delta_avg_deaths_x16 , delta_avg_assists_x16 , delta_avg_gpm_x16, delta_avg_xpm_x16, delta_best_kills_x16 , delta_best_assists_x16, delta_best_gpm_x16, delta_best_xpm_x16, delta_win_streak, delta_best_win_streak])\n",
    "        train_id.append(record['id'])"
   ]
  },
  {
   "cell_type": "code",
   "execution_count": 133,
   "metadata": {
    "collapsed": true
   },
   "outputs": [],
   "source": [
    "df = pd.DataFrame(train_deltas, index=train_id)"
   ]
  },
  {
   "cell_type": "code",
   "execution_count": 134,
   "metadata": {
    "collapsed": true
   },
   "outputs": [],
   "source": [
    "df.to_csv('data/deltas_p_team.csv')"
   ]
  },
  {
   "cell_type": "code",
   "execution_count": null,
   "metadata": {
    "collapsed": true
   },
   "outputs": [],
   "source": []
  }
 ],
 "metadata": {
  "kernelspec": {
   "display_name": "Python 3",
   "language": "python",
   "name": "python3"
  },
  "language_info": {
   "codemirror_mode": {
    "name": "ipython",
    "version": 3
   },
   "file_extension": ".py",
   "mimetype": "text/x-python",
   "name": "python",
   "nbconvert_exporter": "python",
   "pygments_lexer": "ipython3",
   "version": "3.6.8"
  },
  "widgets": {
   "application/vnd.jupyter.widget-state+json": {
    "state": {
     "009e78f7db0a4169982f22bef9e32f48": {
      "model_module": "@jupyter-widgets/controls",
      "model_module_version": "1.4.0",
      "model_name": "IntProgressModel",
      "state": {
       "bar_style": "danger",
       "layout": "IPY_MODEL_905a76d98d19412baa8a5209ed34b9cd",
       "max": 1,
       "style": "IPY_MODEL_dbcf8360b29d41249fa57d68a060ef13",
       "value": 1
      }
     },
     "01ac2c61837245a7aff6d5d62bade02c": {
      "model_module": "@jupyter-widgets/base",
      "model_module_version": "1.1.0",
      "model_name": "LayoutModel",
      "state": {}
     },
     "03122d72d08d4151886f2b78f398307b": {
      "model_module": "@jupyter-widgets/controls",
      "model_module_version": "1.4.0",
      "model_name": "DescriptionStyleModel",
      "state": {
       "description_width": ""
      }
     },
     "05ec3eaf190f4beaa6d4e0ef062dd3a2": {
      "model_module": "@jupyter-widgets/controls",
      "model_module_version": "1.4.0",
      "model_name": "ProgressStyleModel",
      "state": {
       "description_width": ""
      }
     },
     "06c97863443f49699e74ad8f17fbc130": {
      "model_module": "@jupyter-widgets/controls",
      "model_module_version": "1.4.0",
      "model_name": "HBoxModel",
      "state": {
       "children": [
        "IPY_MODEL_c2e1ca67d0194ee2a2a47dc7653382ba",
        "IPY_MODEL_28022156d06b44b0bbccab39c5d2d418"
       ],
       "layout": "IPY_MODEL_4aa4ae72a2b24ffcb1207e40f7e223de"
      }
     },
     "09731739e74f4e91abb75bb63bc461a8": {
      "model_module": "@jupyter-widgets/controls",
      "model_module_version": "1.4.0",
      "model_name": "HTMLModel",
      "state": {
       "layout": "IPY_MODEL_66457a479723496daa5a30b864bc5e6e",
       "style": "IPY_MODEL_78ceb2e05ac2480a8fa28e7fbedf1eff",
       "value": "17607it [43:15,  3.35it/s]"
      }
     },
     "0ba59c27780946489e8dae6ed2e8a6e0": {
      "model_module": "@jupyter-widgets/base",
      "model_module_version": "1.1.0",
      "model_name": "LayoutModel",
      "state": {}
     },
     "0c0be36c6a47416b922d18336e5d668f": {
      "model_module": "@jupyter-widgets/controls",
      "model_module_version": "1.4.0",
      "model_name": "HTMLModel",
      "state": {
       "layout": "IPY_MODEL_fdba7191b139431e819217603538be47",
       "style": "IPY_MODEL_fde843a1f30b4e2eb313d61665c0c982",
       "value": "99871it [01:06, 1492.98it/s]"
      }
     },
     "0d171b6eccb74872b4519ce68e94b4b9": {
      "model_module": "@jupyter-widgets/base",
      "model_module_version": "1.1.0",
      "model_name": "LayoutModel",
      "state": {}
     },
     "0fefaf0e97c04a44a2afd2e98d772839": {
      "model_module": "@jupyter-widgets/base",
      "model_module_version": "1.1.0",
      "model_name": "LayoutModel",
      "state": {}
     },
     "15fa210f4f004d89a27359b8077eec15": {
      "model_module": "@jupyter-widgets/base",
      "model_module_version": "1.1.0",
      "model_name": "LayoutModel",
      "state": {}
     },
     "18d9a91adfb248ae8e37d0c762713264": {
      "model_module": "@jupyter-widgets/base",
      "model_module_version": "1.1.0",
      "model_name": "LayoutModel",
      "state": {}
     },
     "1ce8b49405744881bc20644dc8fba833": {
      "model_module": "@jupyter-widgets/base",
      "model_module_version": "1.1.0",
      "model_name": "LayoutModel",
      "state": {}
     },
     "207ac8ae01724d489c0a70fd4c61b43c": {
      "model_module": "@jupyter-widgets/controls",
      "model_module_version": "1.4.0",
      "model_name": "IntProgressModel",
      "state": {
       "bar_style": "danger",
       "layout": "IPY_MODEL_6e92474c018d44bb9cedc8d5449c7379",
       "max": 1,
       "style": "IPY_MODEL_4556b64054fd4023b390fc5ed9d556da",
       "value": 1
      }
     },
     "22f595b4e9504ebfacd255795200ce8c": {
      "model_module": "@jupyter-widgets/controls",
      "model_module_version": "1.4.0",
      "model_name": "DescriptionStyleModel",
      "state": {
       "description_width": ""
      }
     },
     "235e7c02a896460bb35031a0e919e22c": {
      "model_module": "@jupyter-widgets/controls",
      "model_module_version": "1.4.0",
      "model_name": "HBoxModel",
      "state": {
       "children": [
        "IPY_MODEL_ddfff8b32b57482fb5101ed52051cc4b",
        "IPY_MODEL_3a82b99832a24c76b43aa02dd3cd1d54"
       ],
       "layout": "IPY_MODEL_8e919d4fc19b453a84c48fd6c662c1fe"
      }
     },
     "2573c24fe39f4f4084a9d2ba974431ed": {
      "model_module": "@jupyter-widgets/controls",
      "model_module_version": "1.4.0",
      "model_name": "DescriptionStyleModel",
      "state": {
       "description_width": ""
      }
     },
     "28022156d06b44b0bbccab39c5d2d418": {
      "model_module": "@jupyter-widgets/controls",
      "model_module_version": "1.4.0",
      "model_name": "HTMLModel",
      "state": {
       "layout": "IPY_MODEL_cb5c2120de0549cfb2f1713263d069b2",
       "style": "IPY_MODEL_78b4e347eee04cc79832a54f692871e9",
       "value": "17446it [00:28, 1575.49it/s]"
      }
     },
     "2a3c44737abd47c890f69c43de94086d": {
      "model_module": "@jupyter-widgets/controls",
      "model_module_version": "1.4.0",
      "model_name": "HTMLModel",
      "state": {
       "layout": "IPY_MODEL_ab9cab222c4a4319b2dd691759ea1240",
       "style": "IPY_MODEL_f2c529de29284265913b448f2747ecf6",
       "value": "  3% 2616/99871 [02:50&lt;1:41:46, 15.93it/s]"
      }
     },
     "2a428ca6eda846dc8d9a71b8dfdfc604": {
      "model_module": "@jupyter-widgets/controls",
      "model_module_version": "1.4.0",
      "model_name": "DescriptionStyleModel",
      "state": {
       "description_width": ""
      }
     },
     "2a6b390b60bb4e23b9f95c45bfa88d04": {
      "model_module": "@jupyter-widgets/base",
      "model_module_version": "1.1.0",
      "model_name": "LayoutModel",
      "state": {}
     },
     "2b1a3a565bbf4ff28569b5e75376b05a": {
      "model_module": "@jupyter-widgets/controls",
      "model_module_version": "1.4.0",
      "model_name": "IntProgressModel",
      "state": {
       "bar_style": "success",
       "layout": "IPY_MODEL_2a6b390b60bb4e23b9f95c45bfa88d04",
       "max": 1,
       "style": "IPY_MODEL_a457a0451f5242b7b7c78731ec1024a9",
       "value": 1
      }
     },
     "2c6be9140d6e40b48c6a4a4a029942ca": {
      "model_module": "@jupyter-widgets/base",
      "model_module_version": "1.1.0",
      "model_name": "LayoutModel",
      "state": {}
     },
     "2ca22ba28b624961b760f0cff4641ece": {
      "model_module": "@jupyter-widgets/controls",
      "model_module_version": "1.4.0",
      "model_name": "HTMLModel",
      "state": {
       "layout": "IPY_MODEL_d6140fa59cf543ed87de5d7e36c4b9e6",
       "style": "IPY_MODEL_89e17f51d90b4c509caf6ad228e7a08f",
       "value": "43265it [00:28, 1520.41it/s]"
      }
     },
     "2dc26a2b8fa84648b640a4e71c84980f": {
      "model_module": "@jupyter-widgets/controls",
      "model_module_version": "1.4.0",
      "model_name": "HBoxModel",
      "state": {
       "children": [
        "IPY_MODEL_009e78f7db0a4169982f22bef9e32f48",
        "IPY_MODEL_d9c46ed33026479dad0de6929c891616"
       ],
       "layout": "IPY_MODEL_b3e10a8c9209463781c89d83f1dcd07f"
      }
     },
     "2fb44211ac194d20b662d8ac2ba1f110": {
      "model_module": "@jupyter-widgets/base",
      "model_module_version": "1.1.0",
      "model_name": "LayoutModel",
      "state": {}
     },
     "313d46b88e494fb4a7d3b118dd8389db": {
      "model_module": "@jupyter-widgets/controls",
      "model_module_version": "1.4.0",
      "model_name": "IntProgressModel",
      "state": {
       "bar_style": "danger",
       "layout": "IPY_MODEL_b62d7fa5953b4959822a35fe22a5c129",
       "max": 1,
       "style": "IPY_MODEL_84cae4ab2f954412b67970f5876f1be5",
       "value": 1
      }
     },
     "33b75f1198d54a48bd68b844b0c63605": {
      "model_module": "@jupyter-widgets/controls",
      "model_module_version": "1.4.0",
      "model_name": "HTMLModel",
      "state": {
       "layout": "IPY_MODEL_bfd56e8463f24bab9c0488e965829f12",
       "style": "IPY_MODEL_93323daebd924611949047135810e54c",
       "value": "99871it [01:11, 1388.73it/s]"
      }
     },
     "34f9c7a6e6914f5198bec430fbe17ba0": {
      "model_module": "@jupyter-widgets/controls",
      "model_module_version": "1.4.0",
      "model_name": "HTMLModel",
      "state": {
       "layout": "IPY_MODEL_d0a85d8ec38b4c64a6f0b261a149aeab",
       "style": "IPY_MODEL_7efbc887492f4165a94f6434930c179f",
       "value": "100% 99871/99871 [1:43:58&lt;00:00, 16.01it/s]"
      }
     },
     "3521a51741d741cc8783cad497db187e": {
      "model_module": "@jupyter-widgets/controls",
      "model_module_version": "1.4.0",
      "model_name": "HTMLModel",
      "state": {
       "layout": "IPY_MODEL_2c6be9140d6e40b48c6a4a4a029942ca",
       "style": "IPY_MODEL_5c2db55ba64d48148608bca6524897e9",
       "value": "99871it [01:15, 1327.66it/s]"
      }
     },
     "36be87840efb4431a2fb0e1bcf90782b": {
      "model_module": "@jupyter-widgets/controls",
      "model_module_version": "1.4.0",
      "model_name": "HBoxModel",
      "state": {
       "children": [
        "IPY_MODEL_efd6bbcb11e84adf84187e34c2be0ef0",
        "IPY_MODEL_2a3c44737abd47c890f69c43de94086d"
       ],
       "layout": "IPY_MODEL_b4ddee58d98544ea9d8adb31b9f4d82b"
      }
     },
     "36d6f8727dc74b0c9da6e1343e684af6": {
      "model_module": "@jupyter-widgets/base",
      "model_module_version": "1.1.0",
      "model_name": "LayoutModel",
      "state": {}
     },
     "36ef2318d03546d4849a1f367cf2537e": {
      "model_module": "@jupyter-widgets/base",
      "model_module_version": "1.1.0",
      "model_name": "LayoutModel",
      "state": {}
     },
     "39899355abce401cb460ea1654bf1ed6": {
      "model_module": "@jupyter-widgets/controls",
      "model_module_version": "1.4.0",
      "model_name": "HBoxModel",
      "state": {
       "children": [
        "IPY_MODEL_97b45e93f4214b549b06b0dd7e6ca4f5",
        "IPY_MODEL_34f9c7a6e6914f5198bec430fbe17ba0"
       ],
       "layout": "IPY_MODEL_ca4b0be48774447589ec2053cdf1fce0"
      }
     },
     "3a521b91eb8e4f02a4e02cbbcd41e7ad": {
      "model_module": "@jupyter-widgets/controls",
      "model_module_version": "1.4.0",
      "model_name": "IntProgressModel",
      "state": {
       "bar_style": "danger",
       "layout": "IPY_MODEL_992959b660e4406ba8be1ed9d6f63102",
       "max": 1,
       "style": "IPY_MODEL_619bef950984438db602cde65f2d70b6",
       "value": 1
      }
     },
     "3a82b99832a24c76b43aa02dd3cd1d54": {
      "model_module": "@jupyter-widgets/controls",
      "model_module_version": "1.4.0",
      "model_name": "HTMLModel",
      "state": {
       "layout": "IPY_MODEL_1ce8b49405744881bc20644dc8fba833",
       "style": "IPY_MODEL_7e339c17e2ef4edaa76248a5f85be163",
       "value": "18453it [00:27, 1375.61it/s]"
      }
     },
     "3cdba5a196ce41569f825a6ebb4a169c": {
      "model_module": "@jupyter-widgets/base",
      "model_module_version": "1.1.0",
      "model_name": "LayoutModel",
      "state": {}
     },
     "3d5d1043485a4d89b355b2b549d3646f": {
      "model_module": "@jupyter-widgets/base",
      "model_module_version": "1.1.0",
      "model_name": "LayoutModel",
      "state": {}
     },
     "40d28e8661fe4c359b863038eec51a1c": {
      "model_module": "@jupyter-widgets/base",
      "model_module_version": "1.1.0",
      "model_name": "LayoutModel",
      "state": {}
     },
     "4192dfeafa264786979c1a5b68d43199": {
      "model_module": "@jupyter-widgets/base",
      "model_module_version": "1.1.0",
      "model_name": "LayoutModel",
      "state": {}
     },
     "43a35dcf98064cebada8db26cb05ee13": {
      "model_module": "@jupyter-widgets/controls",
      "model_module_version": "1.4.0",
      "model_name": "HBoxModel",
      "state": {
       "children": [
        "IPY_MODEL_de5600209ea449c48f78b2c2b99808d9",
        "IPY_MODEL_fd38977fde154cb688397d5b911382db"
       ],
       "layout": "IPY_MODEL_924c1a2dedd94f2993dd25999ab12176"
      }
     },
     "43f78c7e6b7644e2a2cca7186ddd4c4a": {
      "model_module": "@jupyter-widgets/controls",
      "model_module_version": "1.4.0",
      "model_name": "ProgressStyleModel",
      "state": {
       "description_width": ""
      }
     },
     "44a195bb86c64ecea622c24f975769b8": {
      "model_module": "@jupyter-widgets/base",
      "model_module_version": "1.1.0",
      "model_name": "LayoutModel",
      "state": {}
     },
     "4512181e9d03431d978d89584d16530c": {
      "model_module": "@jupyter-widgets/base",
      "model_module_version": "1.1.0",
      "model_name": "LayoutModel",
      "state": {}
     },
     "4556b64054fd4023b390fc5ed9d556da": {
      "model_module": "@jupyter-widgets/controls",
      "model_module_version": "1.4.0",
      "model_name": "ProgressStyleModel",
      "state": {
       "description_width": ""
      }
     },
     "45d10b914f3345d29468b7e1d6155fc0": {
      "model_module": "@jupyter-widgets/controls",
      "model_module_version": "1.4.0",
      "model_name": "DescriptionStyleModel",
      "state": {
       "description_width": ""
      }
     },
     "475dc414251746a8a9119e44202acd0c": {
      "model_module": "@jupyter-widgets/controls",
      "model_module_version": "1.4.0",
      "model_name": "ProgressStyleModel",
      "state": {
       "description_width": ""
      }
     },
     "4a5897b98ab14734b37d6489fab5ff7c": {
      "model_module": "@jupyter-widgets/controls",
      "model_module_version": "1.4.0",
      "model_name": "HBoxModel",
      "state": {
       "children": [
        "IPY_MODEL_2b1a3a565bbf4ff28569b5e75376b05a",
        "IPY_MODEL_33b75f1198d54a48bd68b844b0c63605"
       ],
       "layout": "IPY_MODEL_36ef2318d03546d4849a1f367cf2537e"
      }
     },
     "4aa4ae72a2b24ffcb1207e40f7e223de": {
      "model_module": "@jupyter-widgets/base",
      "model_module_version": "1.1.0",
      "model_name": "LayoutModel",
      "state": {}
     },
     "4b7eac7289d34cd6b259e2db4bf04989": {
      "model_module": "@jupyter-widgets/base",
      "model_module_version": "1.1.0",
      "model_name": "LayoutModel",
      "state": {}
     },
     "4beb09aea214459bbe58509773ab7f56": {
      "model_module": "@jupyter-widgets/controls",
      "model_module_version": "1.4.0",
      "model_name": "DescriptionStyleModel",
      "state": {
       "description_width": ""
      }
     },
     "4e5ec36cc610480694cdf4b3fe08e947": {
      "model_module": "@jupyter-widgets/base",
      "model_module_version": "1.1.0",
      "model_name": "LayoutModel",
      "state": {}
     },
     "4fb67a16893a45a88e0d4d84c11ddd4d": {
      "model_module": "@jupyter-widgets/base",
      "model_module_version": "1.1.0",
      "model_name": "LayoutModel",
      "state": {}
     },
     "4fd7b8e4a45143049cf5db65c55d2ffb": {
      "model_module": "@jupyter-widgets/controls",
      "model_module_version": "1.4.0",
      "model_name": "DescriptionStyleModel",
      "state": {
       "description_width": ""
      }
     },
     "50d4af23d31844fea33311504a1bb812": {
      "model_module": "@jupyter-widgets/controls",
      "model_module_version": "1.4.0",
      "model_name": "HBoxModel",
      "state": {
       "children": [
        "IPY_MODEL_99689d07fad44adba005c24023bcdf0a",
        "IPY_MODEL_b29222b3f91248bcaa47967dca6b165d"
       ],
       "layout": "IPY_MODEL_d02b0335dead4acaaf34129ca30f87ff"
      }
     },
     "536fcffc3e2b484ebbcae0a4d2164097": {
      "model_module": "@jupyter-widgets/controls",
      "model_module_version": "1.4.0",
      "model_name": "HBoxModel",
      "state": {
       "children": [
        "IPY_MODEL_b8e9652b2a414c38a679538123be13c3",
        "IPY_MODEL_79fc42cae97a4fcb9ad357ee16764638"
       ],
       "layout": "IPY_MODEL_0d171b6eccb74872b4519ce68e94b4b9"
      }
     },
     "549034e894924f68b74c8aa23cc8c25d": {
      "model_module": "@jupyter-widgets/controls",
      "model_module_version": "1.4.0",
      "model_name": "HTMLModel",
      "state": {
       "layout": "IPY_MODEL_cc42e685091f4267b72e0155627c2235",
       "style": "IPY_MODEL_22f595b4e9504ebfacd255795200ce8c",
       "value": "99871it [01:04, 1542.75it/s]"
      }
     },
     "5772ca3b0caa49bf8accd5bff9315e86": {
      "model_module": "@jupyter-widgets/controls",
      "model_module_version": "1.4.0",
      "model_name": "IntProgressModel",
      "state": {
       "bar_style": "success",
       "layout": "IPY_MODEL_4e5ec36cc610480694cdf4b3fe08e947",
       "max": 1,
       "style": "IPY_MODEL_bfc77ba5f1b24c898e368447dd2af945",
       "value": 1
      }
     },
     "594527c711e04ffd8e489b9ceb360c9f": {
      "model_module": "@jupyter-widgets/controls",
      "model_module_version": "1.4.0",
      "model_name": "DescriptionStyleModel",
      "state": {
       "description_width": ""
      }
     },
     "5a32c25fe72448aebdac06b233f56384": {
      "model_module": "@jupyter-widgets/controls",
      "model_module_version": "1.4.0",
      "model_name": "DescriptionStyleModel",
      "state": {
       "description_width": ""
      }
     },
     "5aaefea2304542ffafc50ed70123c49d": {
      "model_module": "@jupyter-widgets/controls",
      "model_module_version": "1.4.0",
      "model_name": "HBoxModel",
      "state": {
       "children": [
        "IPY_MODEL_a04c07297b2c4477830010b82ac35582",
        "IPY_MODEL_2ca22ba28b624961b760f0cff4641ece"
       ],
       "layout": "IPY_MODEL_c50c5c6df8854d9ca96b4ecfebb93883"
      }
     },
     "5c2db55ba64d48148608bca6524897e9": {
      "model_module": "@jupyter-widgets/controls",
      "model_module_version": "1.4.0",
      "model_name": "DescriptionStyleModel",
      "state": {
       "description_width": ""
      }
     },
     "603675d94d9348ef9d2a4809be1ec9e8": {
      "model_module": "@jupyter-widgets/controls",
      "model_module_version": "1.4.0",
      "model_name": "HBoxModel",
      "state": {
       "children": [
        "IPY_MODEL_207ac8ae01724d489c0a70fd4c61b43c",
        "IPY_MODEL_09731739e74f4e91abb75bb63bc461a8"
       ],
       "layout": "IPY_MODEL_b483d35615d246268746cb8d8bc95650"
      }
     },
     "618521a19d614b869238b663e25ed54b": {
      "model_module": "@jupyter-widgets/controls",
      "model_module_version": "1.4.0",
      "model_name": "HBoxModel",
      "state": {
       "children": [
        "IPY_MODEL_885c4e2000674c388c346f3bfd104f90",
        "IPY_MODEL_9ceabee80be944349c3ea27df8ccf521"
       ],
       "layout": "IPY_MODEL_d40543d9c2e74d54912b2512e61eab4b"
      }
     },
     "619bef950984438db602cde65f2d70b6": {
      "model_module": "@jupyter-widgets/controls",
      "model_module_version": "1.4.0",
      "model_name": "ProgressStyleModel",
      "state": {
       "description_width": ""
      }
     },
     "62c8862536e14be8830d802d6efecc32": {
      "model_module": "@jupyter-widgets/controls",
      "model_module_version": "1.4.0",
      "model_name": "HTMLModel",
      "state": {
       "layout": "IPY_MODEL_a88821636dcd43c2af140339ad8866f1",
       "style": "IPY_MODEL_4beb09aea214459bbe58509773ab7f56",
       "value": "23216it [1:15:49,  2.86it/s]"
      }
     },
     "64d8d2e80cbb446db631fcb99c5d5581": {
      "model_module": "@jupyter-widgets/controls",
      "model_module_version": "1.4.0",
      "model_name": "HBoxModel",
      "state": {
       "children": [
        "IPY_MODEL_6a2791a43bd74b9c8bd41af717f949dd",
        "IPY_MODEL_8f663f661b0f4b07ab06ef97be031157"
       ],
       "layout": "IPY_MODEL_c5d00be231194edfb1a0285eb8a31020"
      }
     },
     "66457a479723496daa5a30b864bc5e6e": {
      "model_module": "@jupyter-widgets/base",
      "model_module_version": "1.1.0",
      "model_name": "LayoutModel",
      "state": {}
     },
     "6743fa938d074c10b6e816bf62dd3802": {
      "model_module": "@jupyter-widgets/controls",
      "model_module_version": "1.4.0",
      "model_name": "ProgressStyleModel",
      "state": {
       "description_width": ""
      }
     },
     "698bb49d44ce473593b5ee2ed421e8f1": {
      "model_module": "@jupyter-widgets/controls",
      "model_module_version": "1.4.0",
      "model_name": "HBoxModel",
      "state": {
       "children": [
        "IPY_MODEL_907d6e7e05dc4ca2bb19440bbb5eb321",
        "IPY_MODEL_6b450053f26245d0ab0217507445071b"
       ],
       "layout": "IPY_MODEL_44a195bb86c64ecea622c24f975769b8"
      }
     },
     "6a2791a43bd74b9c8bd41af717f949dd": {
      "model_module": "@jupyter-widgets/controls",
      "model_module_version": "1.4.0",
      "model_name": "IntProgressModel",
      "state": {
       "bar_style": "danger",
       "layout": "IPY_MODEL_b8f162787e534c11b88d27fc1cb56ad0",
       "max": 43265,
       "style": "IPY_MODEL_ea0c8ba91090489f935fc7a3179d6fc9"
      }
     },
     "6b450053f26245d0ab0217507445071b": {
      "model_module": "@jupyter-widgets/controls",
      "model_module_version": "1.4.0",
      "model_name": "HTMLModel",
      "state": {
       "layout": "IPY_MODEL_0ba59c27780946489e8dae6ed2e8a6e0",
       "style": "IPY_MODEL_03122d72d08d4151886f2b78f398307b",
       "value": "0it [00:00, ?it/s]"
      }
     },
     "6e92474c018d44bb9cedc8d5449c7379": {
      "model_module": "@jupyter-widgets/base",
      "model_module_version": "1.1.0",
      "model_name": "LayoutModel",
      "state": {}
     },
     "6eed24664573475f8ee2e4e44bdc30d4": {
      "model_module": "@jupyter-widgets/base",
      "model_module_version": "1.1.0",
      "model_name": "LayoutModel",
      "state": {}
     },
     "6fc9119e95384d6a844648f9a5146df4": {
      "model_module": "@jupyter-widgets/controls",
      "model_module_version": "1.4.0",
      "model_name": "HBoxModel",
      "state": {
       "children": [
        "IPY_MODEL_d07f06b01f3a49fda779e7bb25fc22a2",
        "IPY_MODEL_87e49339200f49ffbcf4c3a115b4bf31"
       ],
       "layout": "IPY_MODEL_15fa210f4f004d89a27359b8077eec15"
      }
     },
     "71e1955ad26d48bca759bbe88973f7ca": {
      "model_module": "@jupyter-widgets/controls",
      "model_module_version": "1.4.0",
      "model_name": "IntProgressModel",
      "state": {
       "layout": "IPY_MODEL_f33ec7452cc949e59978f2f93c067821",
       "max": 43265,
       "style": "IPY_MODEL_c6de91b2790645dfaa2797a49252a9fe",
       "value": 39306
      }
     },
     "721800e7cede40f6a580e7ff4b4efb79": {
      "model_module": "@jupyter-widgets/controls",
      "model_module_version": "1.4.0",
      "model_name": "ProgressStyleModel",
      "state": {
       "description_width": ""
      }
     },
     "77cfabab987040e3a77e99937914efd1": {
      "model_module": "@jupyter-widgets/controls",
      "model_module_version": "1.4.0",
      "model_name": "HTMLModel",
      "state": {
       "layout": "IPY_MODEL_18d9a91adfb248ae8e37d0c762713264",
       "style": "IPY_MODEL_4fd7b8e4a45143049cf5db65c55d2ffb",
       "value": "99871it [01:12, 1376.78it/s]"
      }
     },
     "78b4e347eee04cc79832a54f692871e9": {
      "model_module": "@jupyter-widgets/controls",
      "model_module_version": "1.4.0",
      "model_name": "DescriptionStyleModel",
      "state": {
       "description_width": ""
      }
     },
     "78ceb2e05ac2480a8fa28e7fbedf1eff": {
      "model_module": "@jupyter-widgets/controls",
      "model_module_version": "1.4.0",
      "model_name": "DescriptionStyleModel",
      "state": {
       "description_width": ""
      }
     },
     "791e5053e5ae4a19bb9a078626ea8b28": {
      "model_module": "@jupyter-widgets/controls",
      "model_module_version": "1.4.0",
      "model_name": "HTMLModel",
      "state": {
       "layout": "IPY_MODEL_8440fd816153410b94ef19a5c90ec741",
       "style": "IPY_MODEL_8cfe6c89765644128fc3bfa6462a7b3f",
       "value": "49996it [01:10, 1203.49it/s]"
      }
     },
     "7929731900794fd99894b9f398c28dab": {
      "model_module": "@jupyter-widgets/controls",
      "model_module_version": "1.4.0",
      "model_name": "IntProgressModel",
      "state": {
       "bar_style": "success",
       "layout": "IPY_MODEL_ce8d3b24fa604071a2ea9557d89d1a94",
       "max": 1,
       "style": "IPY_MODEL_721800e7cede40f6a580e7ff4b4efb79",
       "value": 1
      }
     },
     "79fc42cae97a4fcb9ad357ee16764638": {
      "model_module": "@jupyter-widgets/controls",
      "model_module_version": "1.4.0",
      "model_name": "HTMLModel",
      "state": {
       "layout": "IPY_MODEL_ff903946451f44bc9d5ee5f5b45836f0",
       "style": "IPY_MODEL_82ed5e49a79d4601b41c3711727ae7b0",
       "value": "49931it [01:07, 1049.49it/s]"
      }
     },
     "7e339c17e2ef4edaa76248a5f85be163": {
      "model_module": "@jupyter-widgets/controls",
      "model_module_version": "1.4.0",
      "model_name": "DescriptionStyleModel",
      "state": {
       "description_width": ""
      }
     },
     "7efbc887492f4165a94f6434930c179f": {
      "model_module": "@jupyter-widgets/controls",
      "model_module_version": "1.4.0",
      "model_name": "DescriptionStyleModel",
      "state": {
       "description_width": ""
      }
     },
     "82ed5e49a79d4601b41c3711727ae7b0": {
      "model_module": "@jupyter-widgets/controls",
      "model_module_version": "1.4.0",
      "model_name": "DescriptionStyleModel",
      "state": {
       "description_width": ""
      }
     },
     "8440fd816153410b94ef19a5c90ec741": {
      "model_module": "@jupyter-widgets/base",
      "model_module_version": "1.1.0",
      "model_name": "LayoutModel",
      "state": {}
     },
     "84cae4ab2f954412b67970f5876f1be5": {
      "model_module": "@jupyter-widgets/controls",
      "model_module_version": "1.4.0",
      "model_name": "ProgressStyleModel",
      "state": {
       "description_width": ""
      }
     },
     "87e49339200f49ffbcf4c3a115b4bf31": {
      "model_module": "@jupyter-widgets/controls",
      "model_module_version": "1.4.0",
      "model_name": "HTMLModel",
      "state": {
       "layout": "IPY_MODEL_8e61e24137034c9dbcd334e83ea09a5f",
       "style": "IPY_MODEL_2a428ca6eda846dc8d9a71b8dfdfc604",
       "value": "43265it [00:40, 1077.24it/s]"
      }
     },
     "885c4e2000674c388c346f3bfd104f90": {
      "model_module": "@jupyter-widgets/controls",
      "model_module_version": "1.4.0",
      "model_name": "IntProgressModel",
      "state": {
       "bar_style": "danger",
       "layout": "IPY_MODEL_98e8fbd948244288a870a5d11d3dde3a",
       "max": 1,
       "style": "IPY_MODEL_eccea438f8014d05a7d47ebf6a34c6a5",
       "value": 1
      }
     },
     "89e17f51d90b4c509caf6ad228e7a08f": {
      "model_module": "@jupyter-widgets/controls",
      "model_module_version": "1.4.0",
      "model_name": "DescriptionStyleModel",
      "state": {
       "description_width": ""
      }
     },
     "8b7495811cba4d669aa863434a40c86d": {
      "model_module": "@jupyter-widgets/controls",
      "model_module_version": "1.4.0",
      "model_name": "DescriptionStyleModel",
      "state": {
       "description_width": ""
      }
     },
     "8cd344747ce845a0b91b91d3e8b33955": {
      "model_module": "@jupyter-widgets/controls",
      "model_module_version": "1.4.0",
      "model_name": "ProgressStyleModel",
      "state": {
       "description_width": ""
      }
     },
     "8cfe6c89765644128fc3bfa6462a7b3f": {
      "model_module": "@jupyter-widgets/controls",
      "model_module_version": "1.4.0",
      "model_name": "DescriptionStyleModel",
      "state": {
       "description_width": ""
      }
     },
     "8e61e24137034c9dbcd334e83ea09a5f": {
      "model_module": "@jupyter-widgets/base",
      "model_module_version": "1.1.0",
      "model_name": "LayoutModel",
      "state": {}
     },
     "8e919d4fc19b453a84c48fd6c662c1fe": {
      "model_module": "@jupyter-widgets/base",
      "model_module_version": "1.1.0",
      "model_name": "LayoutModel",
      "state": {}
     },
     "8f663f661b0f4b07ab06ef97be031157": {
      "model_module": "@jupyter-widgets/controls",
      "model_module_version": "1.4.0",
      "model_name": "HTMLModel",
      "state": {
       "layout": "IPY_MODEL_3d5d1043485a4d89b355b2b549d3646f",
       "style": "IPY_MODEL_2573c24fe39f4f4084a9d2ba974431ed",
       "value": "  0% 0/43265 [00:00&lt;?, ?it/s]"
      }
     },
     "905a76d98d19412baa8a5209ed34b9cd": {
      "model_module": "@jupyter-widgets/base",
      "model_module_version": "1.1.0",
      "model_name": "LayoutModel",
      "state": {}
     },
     "907d6e7e05dc4ca2bb19440bbb5eb321": {
      "model_module": "@jupyter-widgets/controls",
      "model_module_version": "1.4.0",
      "model_name": "IntProgressModel",
      "state": {
       "bar_style": "danger",
       "layout": "IPY_MODEL_d23f28a76890460cbc1bf0b9d405b194",
       "max": 1,
       "style": "IPY_MODEL_a5981e632ebc4d6fa57a494361bd71e8",
       "value": 1
      }
     },
     "91210424068e437b83c1edab46738db4": {
      "model_module": "@jupyter-widgets/controls",
      "model_module_version": "1.4.0",
      "model_name": "HTMLModel",
      "state": {
       "layout": "IPY_MODEL_4192dfeafa264786979c1a5b68d43199",
       "style": "IPY_MODEL_45d10b914f3345d29468b7e1d6155fc0",
       "value": "470it [00:00, 675.03it/s]"
      }
     },
     "924c1a2dedd94f2993dd25999ab12176": {
      "model_module": "@jupyter-widgets/base",
      "model_module_version": "1.1.0",
      "model_name": "LayoutModel",
      "state": {}
     },
     "93323daebd924611949047135810e54c": {
      "model_module": "@jupyter-widgets/controls",
      "model_module_version": "1.4.0",
      "model_name": "DescriptionStyleModel",
      "state": {
       "description_width": ""
      }
     },
     "97b45e93f4214b549b06b0dd7e6ca4f5": {
      "model_module": "@jupyter-widgets/controls",
      "model_module_version": "1.4.0",
      "model_name": "IntProgressModel",
      "state": {
       "bar_style": "success",
       "layout": "IPY_MODEL_fdd4855304e2446e9c2d24ba88e90ac8",
       "max": 99871,
       "style": "IPY_MODEL_e8d6d8c0e8a940eba7dab4330a39e126",
       "value": 99871
      }
     },
     "98e8fbd948244288a870a5d11d3dde3a": {
      "model_module": "@jupyter-widgets/base",
      "model_module_version": "1.1.0",
      "model_name": "LayoutModel",
      "state": {}
     },
     "992959b660e4406ba8be1ed9d6f63102": {
      "model_module": "@jupyter-widgets/base",
      "model_module_version": "1.1.0",
      "model_name": "LayoutModel",
      "state": {}
     },
     "99689d07fad44adba005c24023bcdf0a": {
      "model_module": "@jupyter-widgets/controls",
      "model_module_version": "1.4.0",
      "model_name": "IntProgressModel",
      "state": {
       "bar_style": "danger",
       "layout": "IPY_MODEL_0fefaf0e97c04a44a2afd2e98d772839",
       "max": 99871,
       "style": "IPY_MODEL_6743fa938d074c10b6e816bf62dd3802",
       "value": 299
      }
     },
     "996b7a8b2b054f5e93b75ed6bede86e8": {
      "model_module": "@jupyter-widgets/controls",
      "model_module_version": "1.4.0",
      "model_name": "HBoxModel",
      "state": {
       "children": [
        "IPY_MODEL_a5a4d6dabb4241a0af86d522b06d7839",
        "IPY_MODEL_0c0be36c6a47416b922d18336e5d668f"
       ],
       "layout": "IPY_MODEL_a2c44d55065e4cd1b43b9a6ba886fa97"
      }
     },
     "9b9e668b2bb348dfb029a6888e733c9f": {
      "model_module": "@jupyter-widgets/controls",
      "model_module_version": "1.4.0",
      "model_name": "HBoxModel",
      "state": {
       "children": [
        "IPY_MODEL_313d46b88e494fb4a7d3b118dd8389db",
        "IPY_MODEL_791e5053e5ae4a19bb9a078626ea8b28"
       ],
       "layout": "IPY_MODEL_6eed24664573475f8ee2e4e44bdc30d4"
      }
     },
     "9ceabee80be944349c3ea27df8ccf521": {
      "model_module": "@jupyter-widgets/controls",
      "model_module_version": "1.4.0",
      "model_name": "HTMLModel",
      "state": {
       "layout": "IPY_MODEL_fa0de4deb85e470e914573bcd03f722c",
       "style": "IPY_MODEL_a713d8d6f19c4778ac34b7405a2ebc85",
       "value": "19186it [00:30, 1163.17it/s]"
      }
     },
     "9e645439a66943d7906de50cb6023e0e": {
      "model_module": "@jupyter-widgets/controls",
      "model_module_version": "1.4.0",
      "model_name": "HBoxModel",
      "state": {
       "children": [
        "IPY_MODEL_5772ca3b0caa49bf8accd5bff9315e86",
        "IPY_MODEL_3521a51741d741cc8783cad497db187e"
       ],
       "layout": "IPY_MODEL_3cdba5a196ce41569f825a6ebb4a169c"
      }
     },
     "a04c07297b2c4477830010b82ac35582": {
      "model_module": "@jupyter-widgets/controls",
      "model_module_version": "1.4.0",
      "model_name": "IntProgressModel",
      "state": {
       "bar_style": "success",
       "layout": "IPY_MODEL_d6630449437b4514ab80ec623e690c4f",
       "max": 1,
       "style": "IPY_MODEL_d9d7b0f137864bfda99aae8c6fc37e3d",
       "value": 1
      }
     },
     "a266709a22c8491d8cb27cf76cf508d7": {
      "model_module": "@jupyter-widgets/controls",
      "model_module_version": "1.4.0",
      "model_name": "HBoxModel",
      "state": {
       "children": [
        "IPY_MODEL_7929731900794fd99894b9f398c28dab",
        "IPY_MODEL_77cfabab987040e3a77e99937914efd1"
       ],
       "layout": "IPY_MODEL_40d28e8661fe4c359b863038eec51a1c"
      }
     },
     "a2c44d55065e4cd1b43b9a6ba886fa97": {
      "model_module": "@jupyter-widgets/base",
      "model_module_version": "1.1.0",
      "model_name": "LayoutModel",
      "state": {}
     },
     "a457a0451f5242b7b7c78731ec1024a9": {
      "model_module": "@jupyter-widgets/controls",
      "model_module_version": "1.4.0",
      "model_name": "ProgressStyleModel",
      "state": {
       "description_width": ""
      }
     },
     "a5981e632ebc4d6fa57a494361bd71e8": {
      "model_module": "@jupyter-widgets/controls",
      "model_module_version": "1.4.0",
      "model_name": "ProgressStyleModel",
      "state": {
       "description_width": ""
      }
     },
     "a5a4d6dabb4241a0af86d522b06d7839": {
      "model_module": "@jupyter-widgets/controls",
      "model_module_version": "1.4.0",
      "model_name": "IntProgressModel",
      "state": {
       "bar_style": "success",
       "layout": "IPY_MODEL_36d6f8727dc74b0c9da6e1343e684af6",
       "max": 1,
       "style": "IPY_MODEL_43f78c7e6b7644e2a2cca7186ddd4c4a",
       "value": 1
      }
     },
     "a713d8d6f19c4778ac34b7405a2ebc85": {
      "model_module": "@jupyter-widgets/controls",
      "model_module_version": "1.4.0",
      "model_name": "DescriptionStyleModel",
      "state": {
       "description_width": ""
      }
     },
     "a88821636dcd43c2af140339ad8866f1": {
      "model_module": "@jupyter-widgets/base",
      "model_module_version": "1.1.0",
      "model_name": "LayoutModel",
      "state": {}
     },
     "a8fb964337c64cc79196ae6186f1ce7a": {
      "model_module": "@jupyter-widgets/controls",
      "model_module_version": "1.4.0",
      "model_name": "HBoxModel",
      "state": {
       "children": [
        "IPY_MODEL_71e1955ad26d48bca759bbe88973f7ca",
        "IPY_MODEL_fcd873a8bdbb4715af3c1a4416da565b"
       ],
       "layout": "IPY_MODEL_01ac2c61837245a7aff6d5d62bade02c"
      }
     },
     "aa9ffc549f494643996b61de92f4ca61": {
      "model_module": "@jupyter-widgets/controls",
      "model_module_version": "1.4.0",
      "model_name": "ProgressStyleModel",
      "state": {
       "description_width": ""
      }
     },
     "ab9cab222c4a4319b2dd691759ea1240": {
      "model_module": "@jupyter-widgets/base",
      "model_module_version": "1.1.0",
      "model_name": "LayoutModel",
      "state": {}
     },
     "b183cc56fa6c4a19b4a8f95af22013b1": {
      "model_module": "@jupyter-widgets/base",
      "model_module_version": "1.1.0",
      "model_name": "LayoutModel",
      "state": {}
     },
     "b1e61e41239248ff88e7192598692077": {
      "model_module": "@jupyter-widgets/controls",
      "model_module_version": "1.4.0",
      "model_name": "ProgressStyleModel",
      "state": {
       "description_width": ""
      }
     },
     "b29222b3f91248bcaa47967dca6b165d": {
      "model_module": "@jupyter-widgets/controls",
      "model_module_version": "1.4.0",
      "model_name": "HTMLModel",
      "state": {
       "layout": "IPY_MODEL_4512181e9d03431d978d89584d16530c",
       "style": "IPY_MODEL_594527c711e04ffd8e489b9ceb360c9f",
       "value": "  0% 299/99871 [00:31&lt;1:46:41, 15.55it/s]"
      }
     },
     "b3e10a8c9209463781c89d83f1dcd07f": {
      "model_module": "@jupyter-widgets/base",
      "model_module_version": "1.1.0",
      "model_name": "LayoutModel",
      "state": {}
     },
     "b483d35615d246268746cb8d8bc95650": {
      "model_module": "@jupyter-widgets/base",
      "model_module_version": "1.1.0",
      "model_name": "LayoutModel",
      "state": {}
     },
     "b4ddee58d98544ea9d8adb31b9f4d82b": {
      "model_module": "@jupyter-widgets/base",
      "model_module_version": "1.1.0",
      "model_name": "LayoutModel",
      "state": {}
     },
     "b62d7fa5953b4959822a35fe22a5c129": {
      "model_module": "@jupyter-widgets/base",
      "model_module_version": "1.1.0",
      "model_name": "LayoutModel",
      "state": {}
     },
     "b6de53e19f7c4c568cec7a1c0a2793ca": {
      "model_module": "@jupyter-widgets/base",
      "model_module_version": "1.1.0",
      "model_name": "LayoutModel",
      "state": {}
     },
     "b7c7bdbbf9cd42e99440d9b35cdd0a9d": {
      "model_module": "@jupyter-widgets/controls",
      "model_module_version": "1.4.0",
      "model_name": "HBoxModel",
      "state": {
       "children": [
        "IPY_MODEL_bfaffa4cbc824d2cb2a545b40712e115",
        "IPY_MODEL_62c8862536e14be8830d802d6efecc32"
       ],
       "layout": "IPY_MODEL_ef7c48430b2b413694d49154ccb64b68"
      }
     },
     "b8d3b15bc0ab407caa4f2a1238f9a742": {
      "model_module": "@jupyter-widgets/controls",
      "model_module_version": "1.4.0",
      "model_name": "IntProgressModel",
      "state": {
       "bar_style": "success",
       "layout": "IPY_MODEL_b6de53e19f7c4c568cec7a1c0a2793ca",
       "max": 1,
       "style": "IPY_MODEL_8cd344747ce845a0b91b91d3e8b33955",
       "value": 1
      }
     },
     "b8e9652b2a414c38a679538123be13c3": {
      "model_module": "@jupyter-widgets/controls",
      "model_module_version": "1.4.0",
      "model_name": "IntProgressModel",
      "state": {
       "bar_style": "danger",
       "layout": "IPY_MODEL_cbef2f3892734d219b861b28520fd84d",
       "max": 1,
       "style": "IPY_MODEL_aa9ffc549f494643996b61de92f4ca61",
       "value": 1
      }
     },
     "b8f162787e534c11b88d27fc1cb56ad0": {
      "model_module": "@jupyter-widgets/base",
      "model_module_version": "1.1.0",
      "model_name": "LayoutModel",
      "state": {}
     },
     "bbc04c7ec90f4dad879b67523164019e": {
      "model_module": "@jupyter-widgets/base",
      "model_module_version": "1.1.0",
      "model_name": "LayoutModel",
      "state": {}
     },
     "bbdba267369c4a2aac7746ac329f5457": {
      "model_module": "@jupyter-widgets/controls",
      "model_module_version": "1.4.0",
      "model_name": "ProgressStyleModel",
      "state": {
       "description_width": ""
      }
     },
     "bfaffa4cbc824d2cb2a545b40712e115": {
      "model_module": "@jupyter-widgets/controls",
      "model_module_version": "1.4.0",
      "model_name": "IntProgressModel",
      "state": {
       "bar_style": "danger",
       "layout": "IPY_MODEL_e4a2747936d54722b936bfa99c51f7d4",
       "max": 1,
       "style": "IPY_MODEL_bbdba267369c4a2aac7746ac329f5457",
       "value": 1
      }
     },
     "bfc77ba5f1b24c898e368447dd2af945": {
      "model_module": "@jupyter-widgets/controls",
      "model_module_version": "1.4.0",
      "model_name": "ProgressStyleModel",
      "state": {
       "description_width": ""
      }
     },
     "bfd56e8463f24bab9c0488e965829f12": {
      "model_module": "@jupyter-widgets/base",
      "model_module_version": "1.1.0",
      "model_name": "LayoutModel",
      "state": {}
     },
     "c2e1ca67d0194ee2a2a47dc7653382ba": {
      "model_module": "@jupyter-widgets/controls",
      "model_module_version": "1.4.0",
      "model_name": "IntProgressModel",
      "state": {
       "bar_style": "danger",
       "layout": "IPY_MODEL_bbc04c7ec90f4dad879b67523164019e",
       "max": 1,
       "style": "IPY_MODEL_475dc414251746a8a9119e44202acd0c",
       "value": 1
      }
     },
     "c3b9fa982ef347ac99cc541944dd9437": {
      "model_module": "@jupyter-widgets/controls",
      "model_module_version": "1.4.0",
      "model_name": "ProgressStyleModel",
      "state": {
       "description_width": ""
      }
     },
     "c50c5c6df8854d9ca96b4ecfebb93883": {
      "model_module": "@jupyter-widgets/base",
      "model_module_version": "1.1.0",
      "model_name": "LayoutModel",
      "state": {}
     },
     "c5d00be231194edfb1a0285eb8a31020": {
      "model_module": "@jupyter-widgets/base",
      "model_module_version": "1.1.0",
      "model_name": "LayoutModel",
      "state": {}
     },
     "c6de91b2790645dfaa2797a49252a9fe": {
      "model_module": "@jupyter-widgets/controls",
      "model_module_version": "1.4.0",
      "model_name": "ProgressStyleModel",
      "state": {
       "description_width": ""
      }
     },
     "ca4b0be48774447589ec2053cdf1fce0": {
      "model_module": "@jupyter-widgets/base",
      "model_module_version": "1.1.0",
      "model_name": "LayoutModel",
      "state": {}
     },
     "cb591a300619466484e24b64fc30afa8": {
      "model_module": "@jupyter-widgets/base",
      "model_module_version": "1.1.0",
      "model_name": "LayoutModel",
      "state": {}
     },
     "cb5c2120de0549cfb2f1713263d069b2": {
      "model_module": "@jupyter-widgets/base",
      "model_module_version": "1.1.0",
      "model_name": "LayoutModel",
      "state": {}
     },
     "cbef2f3892734d219b861b28520fd84d": {
      "model_module": "@jupyter-widgets/base",
      "model_module_version": "1.1.0",
      "model_name": "LayoutModel",
      "state": {}
     },
     "cc42e685091f4267b72e0155627c2235": {
      "model_module": "@jupyter-widgets/base",
      "model_module_version": "1.1.0",
      "model_name": "LayoutModel",
      "state": {}
     },
     "ce8d3b24fa604071a2ea9557d89d1a94": {
      "model_module": "@jupyter-widgets/base",
      "model_module_version": "1.1.0",
      "model_name": "LayoutModel",
      "state": {}
     },
     "d02b0335dead4acaaf34129ca30f87ff": {
      "model_module": "@jupyter-widgets/base",
      "model_module_version": "1.1.0",
      "model_name": "LayoutModel",
      "state": {}
     },
     "d07f06b01f3a49fda779e7bb25fc22a2": {
      "model_module": "@jupyter-widgets/controls",
      "model_module_version": "1.4.0",
      "model_name": "IntProgressModel",
      "state": {
       "bar_style": "success",
       "layout": "IPY_MODEL_e2774a179cd44b989880a1ccbb284d12",
       "max": 1,
       "style": "IPY_MODEL_ed30b164f9754d57a678bfe37e6ea253",
       "value": 1
      }
     },
     "d0a85d8ec38b4c64a6f0b261a149aeab": {
      "model_module": "@jupyter-widgets/base",
      "model_module_version": "1.1.0",
      "model_name": "LayoutModel",
      "state": {}
     },
     "d23f28a76890460cbc1bf0b9d405b194": {
      "model_module": "@jupyter-widgets/base",
      "model_module_version": "1.1.0",
      "model_name": "LayoutModel",
      "state": {}
     },
     "d40543d9c2e74d54912b2512e61eab4b": {
      "model_module": "@jupyter-widgets/base",
      "model_module_version": "1.1.0",
      "model_name": "LayoutModel",
      "state": {}
     },
     "d6140fa59cf543ed87de5d7e36c4b9e6": {
      "model_module": "@jupyter-widgets/base",
      "model_module_version": "1.1.0",
      "model_name": "LayoutModel",
      "state": {}
     },
     "d6630449437b4514ab80ec623e690c4f": {
      "model_module": "@jupyter-widgets/base",
      "model_module_version": "1.1.0",
      "model_name": "LayoutModel",
      "state": {}
     },
     "d9c46ed33026479dad0de6929c891616": {
      "model_module": "@jupyter-widgets/controls",
      "model_module_version": "1.4.0",
      "model_name": "HTMLModel",
      "state": {
       "layout": "IPY_MODEL_2fb44211ac194d20b662d8ac2ba1f110",
       "style": "IPY_MODEL_8b7495811cba4d669aa863434a40c86d",
       "value": "0it [00:00, ?it/s]"
      }
     },
     "d9d7b0f137864bfda99aae8c6fc37e3d": {
      "model_module": "@jupyter-widgets/controls",
      "model_module_version": "1.4.0",
      "model_name": "ProgressStyleModel",
      "state": {
       "description_width": ""
      }
     },
     "db313f4291b14587a5f7c9882f4a6ad8": {
      "model_module": "@jupyter-widgets/base",
      "model_module_version": "1.1.0",
      "model_name": "LayoutModel",
      "state": {}
     },
     "dbcf8360b29d41249fa57d68a060ef13": {
      "model_module": "@jupyter-widgets/controls",
      "model_module_version": "1.4.0",
      "model_name": "ProgressStyleModel",
      "state": {
       "description_width": ""
      }
     },
     "dc1a4adc27654812872031c0409efd23": {
      "model_module": "@jupyter-widgets/base",
      "model_module_version": "1.1.0",
      "model_name": "LayoutModel",
      "state": {}
     },
     "ddfff8b32b57482fb5101ed52051cc4b": {
      "model_module": "@jupyter-widgets/controls",
      "model_module_version": "1.4.0",
      "model_name": "IntProgressModel",
      "state": {
       "bar_style": "danger",
       "layout": "IPY_MODEL_b183cc56fa6c4a19b4a8f95af22013b1",
       "max": 1,
       "style": "IPY_MODEL_c3b9fa982ef347ac99cc541944dd9437",
       "value": 1
      }
     },
     "de5600209ea449c48f78b2c2b99808d9": {
      "model_module": "@jupyter-widgets/controls",
      "model_module_version": "1.4.0",
      "model_name": "IntProgressModel",
      "state": {
       "bar_style": "danger",
       "layout": "IPY_MODEL_dc1a4adc27654812872031c0409efd23",
       "max": 1,
       "style": "IPY_MODEL_05ec3eaf190f4beaa6d4e0ef062dd3a2",
       "value": 1
      }
     },
     "df3ac1e4a2014d5eb41c46d49a7b1aa7": {
      "model_module": "@jupyter-widgets/controls",
      "model_module_version": "1.4.0",
      "model_name": "HBoxModel",
      "state": {
       "children": [
        "IPY_MODEL_b8d3b15bc0ab407caa4f2a1238f9a742",
        "IPY_MODEL_549034e894924f68b74c8aa23cc8c25d"
       ],
       "layout": "IPY_MODEL_cb591a300619466484e24b64fc30afa8"
      }
     },
     "dfaf69c21d9542fdbe6e9da1dd4d601c": {
      "model_module": "@jupyter-widgets/base",
      "model_module_version": "1.1.0",
      "model_name": "LayoutModel",
      "state": {}
     },
     "e2774a179cd44b989880a1ccbb284d12": {
      "model_module": "@jupyter-widgets/base",
      "model_module_version": "1.1.0",
      "model_name": "LayoutModel",
      "state": {}
     },
     "e4a2747936d54722b936bfa99c51f7d4": {
      "model_module": "@jupyter-widgets/base",
      "model_module_version": "1.1.0",
      "model_name": "LayoutModel",
      "state": {}
     },
     "e8d6d8c0e8a940eba7dab4330a39e126": {
      "model_module": "@jupyter-widgets/controls",
      "model_module_version": "1.4.0",
      "model_name": "ProgressStyleModel",
      "state": {
       "description_width": ""
      }
     },
     "ea0c8ba91090489f935fc7a3179d6fc9": {
      "model_module": "@jupyter-widgets/controls",
      "model_module_version": "1.4.0",
      "model_name": "ProgressStyleModel",
      "state": {
       "description_width": ""
      }
     },
     "eccea438f8014d05a7d47ebf6a34c6a5": {
      "model_module": "@jupyter-widgets/controls",
      "model_module_version": "1.4.0",
      "model_name": "ProgressStyleModel",
      "state": {
       "description_width": ""
      }
     },
     "ed30b164f9754d57a678bfe37e6ea253": {
      "model_module": "@jupyter-widgets/controls",
      "model_module_version": "1.4.0",
      "model_name": "ProgressStyleModel",
      "state": {
       "description_width": ""
      }
     },
     "ef7c48430b2b413694d49154ccb64b68": {
      "model_module": "@jupyter-widgets/base",
      "model_module_version": "1.1.0",
      "model_name": "LayoutModel",
      "state": {}
     },
     "efd6bbcb11e84adf84187e34c2be0ef0": {
      "model_module": "@jupyter-widgets/controls",
      "model_module_version": "1.4.0",
      "model_name": "IntProgressModel",
      "state": {
       "bar_style": "danger",
       "layout": "IPY_MODEL_db313f4291b14587a5f7c9882f4a6ad8",
       "max": 99871,
       "style": "IPY_MODEL_b1e61e41239248ff88e7192598692077",
       "value": 2616
      }
     },
     "f180927f40904baab0d0c20c7ce68f38": {
      "model_module": "@jupyter-widgets/controls",
      "model_module_version": "1.4.0",
      "model_name": "HBoxModel",
      "state": {
       "children": [
        "IPY_MODEL_3a521b91eb8e4f02a4e02cbbcd41e7ad",
        "IPY_MODEL_91210424068e437b83c1edab46738db4"
       ],
       "layout": "IPY_MODEL_4b7eac7289d34cd6b259e2db4bf04989"
      }
     },
     "f2c529de29284265913b448f2747ecf6": {
      "model_module": "@jupyter-widgets/controls",
      "model_module_version": "1.4.0",
      "model_name": "DescriptionStyleModel",
      "state": {
       "description_width": ""
      }
     },
     "f33ec7452cc949e59978f2f93c067821": {
      "model_module": "@jupyter-widgets/base",
      "model_module_version": "1.1.0",
      "model_name": "LayoutModel",
      "state": {}
     },
     "fa0de4deb85e470e914573bcd03f722c": {
      "model_module": "@jupyter-widgets/base",
      "model_module_version": "1.1.0",
      "model_name": "LayoutModel",
      "state": {}
     },
     "fa511d3123074eadb9a69ce5827730b5": {
      "model_module": "@jupyter-widgets/controls",
      "model_module_version": "1.4.0",
      "model_name": "DescriptionStyleModel",
      "state": {
       "description_width": ""
      }
     },
     "fcd873a8bdbb4715af3c1a4416da565b": {
      "model_module": "@jupyter-widgets/controls",
      "model_module_version": "1.4.0",
      "model_name": "HTMLModel",
      "state": {
       "layout": "IPY_MODEL_4fb67a16893a45a88e0d4d84c11ddd4d",
       "style": "IPY_MODEL_fa511d3123074eadb9a69ce5827730b5",
       "value": " 91% 39303/43265 [42:20&lt;03:51, 17.14it/s]"
      }
     },
     "fd38977fde154cb688397d5b911382db": {
      "model_module": "@jupyter-widgets/controls",
      "model_module_version": "1.4.0",
      "model_name": "HTMLModel",
      "state": {
       "layout": "IPY_MODEL_dfaf69c21d9542fdbe6e9da1dd4d601c",
       "style": "IPY_MODEL_5a32c25fe72448aebdac06b233f56384",
       "value": "0it [00:00, ?it/s]"
      }
     },
     "fdba7191b139431e819217603538be47": {
      "model_module": "@jupyter-widgets/base",
      "model_module_version": "1.1.0",
      "model_name": "LayoutModel",
      "state": {}
     },
     "fdd4855304e2446e9c2d24ba88e90ac8": {
      "model_module": "@jupyter-widgets/base",
      "model_module_version": "1.1.0",
      "model_name": "LayoutModel",
      "state": {}
     },
     "fde843a1f30b4e2eb313d61665c0c982": {
      "model_module": "@jupyter-widgets/controls",
      "model_module_version": "1.4.0",
      "model_name": "DescriptionStyleModel",
      "state": {
       "description_width": ""
      }
     },
     "ff903946451f44bc9d5ee5f5b45836f0": {
      "model_module": "@jupyter-widgets/base",
      "model_module_version": "1.1.0",
      "model_name": "LayoutModel",
      "state": {}
     }
    },
    "version_major": 2,
    "version_minor": 0
   }
  }
 },
 "nbformat": 4,
 "nbformat_minor": 2
}
