{
 "cells": [
  {
   "cell_type": "code",
   "execution_count": 1,
   "metadata": {},
   "outputs": [
    {
     "name": "stdout",
     "output_type": "stream",
     "text": [
      "Populating the interactive namespace from numpy and matplotlib\n"
     ]
    }
   ],
   "source": [
    "import pandas as pd\n",
    "import matplotlib.pyplot as plt\n",
    "import seaborn as sns\n",
    "sns.set()\n",
    "import numpy as np\n",
    "import sklearn \n",
    "from tqdm import tqdm_notebook\n",
    "import warnings\n",
    "warnings.filterwarnings('ignore')\n",
    "%matplotlib inline\n",
    "import catboost\n",
    "import lightgbm\n",
    "import xgboost\n",
    "%pylab inline\n",
    "from sklearn.tree import DecisionTreeClassifier\n",
    "from sklearn.ensemble import RandomForestClassifier\n",
    "from sklearn.linear_model import LinearRegression\n",
    "from sklearn.model_selection import train_test_split\n",
    "from sklearn.metrics import accuracy_score\n",
    "from sklearn.preprocessing import PolynomialFeatures\n",
    "from sklearn.neighbors import KNeighborsRegressor\n",
    "from sklearn.linear_model import Ridge, Lasso\n",
    "import eli5\n",
    "from eli5.sklearn import PermutationImportance\n",
    "from sklearn.ensemble import RandomForestRegressor"
   ]
  },
  {
   "cell_type": "code",
   "execution_count": 2,
   "metadata": {
    "collapsed": true
   },
   "outputs": [],
   "source": [
    "import time\n",
    "iss = 0\n",
    "\n",
    "def make_submit(pred):\n",
    "    global iss\n",
    "    submit = pd.DataFrame()\n",
    "    submit['id'] = data_test['id']\n",
    "    submit['skilled'] = pred\n",
    "    iss += 1\n",
    "    submit.to_csv('submissions/submission{}-{}.csv'.format(''.join(time.ctime().split()[2]), iss), index=False)\n",
    "    print('last: ', 'submissions/submission{}-{}.csv'.format(''.join(time.ctime().split()[2]), iss))"
   ]
  },
  {
   "cell_type": "code",
   "execution_count": 3,
   "metadata": {
    "collapsed": true
   },
   "outputs": [],
   "source": [
    "data_train = pd.read_csv('data/data_train_v6_1.csv')\n",
    "data_test = pd.read_csv('data/data_test_v6_1.csv')\n",
    "target = data_train.skilled\n",
    "data_train = data_train.drop(['skilled','player_team', 'winner_team','Unnamed: 0' ,'Unnamed: 0.1','Unnamed: 0.1.1', 'Unnamed: 0.1.1.1','Unnamed: 0.1.1.1.1', 'Unnamed: 0.1.1.1.1.1', 'Unnamed: 0.1.1.1.1.1.1','Unnamed: 0.1.1.1.1.1.1.1'], axis=1)\n",
    "data_test = data_test.drop(['Unnamed: 0','player_team', 'winner_team', 'Unnamed: 0.1', 'Unnamed: 0.1.1', 'Unnamed: 0.1.1.1', 'Unnamed: 0.1.1.1.1', 'Unnamed: 0.1.1.1.1.1', 'Unnamed: 0.1.1.1.1.1.1','Unnamed: 0.1.1.1.1.1.1.1'], axis=1)"
   ]
  },
  {
   "cell_type": "code",
   "execution_count": 4,
   "metadata": {
    "collapsed": true
   },
   "outputs": [],
   "source": [
    "X = data_train\n",
    "x_test = data_test\n",
    "y = target"
   ]
  },
  {
   "cell_type": "code",
   "execution_count": 5,
   "metadata": {
    "collapsed": true
   },
   "outputs": [],
   "source": [
    "X_train, X_test, y_train, y_test = train_test_split(X, y, test_size=0.33, random_state=42)"
   ]
  },
  {
   "cell_type": "code",
   "execution_count": 19,
   "metadata": {
    "collapsed": true
   },
   "outputs": [],
   "source": [
    "lgbm =  lightgbm.LGBMClassifier(n_estimators=1500, learning_rate=0.1, max_depth=12, reg_alpha=9, min_child_weight=8, n_jobs=-1, random_state=1)"
   ]
  },
  {
   "cell_type": "code",
   "execution_count": null,
   "metadata": {
    "scrolled": false
   },
   "outputs": [
    {
     "data": {
      "application/vnd.jupyter.widget-view+json": {
       "model_id": "8c5c3e97b1de4f37a2738cd3923118d6",
       "version_major": 2,
       "version_minor": 0
      },
      "text/plain": [
       "HBox(children=(IntProgress(value=0, max=577), HTML(value='')))"
      ]
     },
     "metadata": {},
     "output_type": "display_data"
    },
    {
     "name": "stdout",
     "output_type": "stream",
     "text": [
      "is_hero_41  -  0.8190424176224286\n",
      "is_hero_42  -  0.8190424176224286\n",
      "is_hero_43  -  0.8190424176224286\n",
      "is_hero_44  -  0.8206201832635476\n",
      "is_hero_45  -  0.8190424176224286\n",
      "is_hero_46  -  0.8190424176224286\n",
      "is_hero_47  -  0.8190424176224286\n",
      "is_hero_48  -  0.818708659506038\n",
      "is_hero_49  -  0.8190424176224286\n",
      "is_hero_50  -  0.8190424176224286\n",
      "is_hero_51  -  0.8190424176224286\n",
      "is_hero_52  -  0.8190424176224286\n",
      "is_hero_53  -  0.8206808665574368\n",
      "is_hero_54  -  0.8190424176224286\n",
      "is_hero_55  -  0.8190424176224286\n",
      "is_hero_56  -  0.8190424176224286\n",
      "is_hero_57  -  0.8190424176224286\n",
      "is_hero_58  -  0.8190424176224286\n",
      "is_hero_59  -  0.8179197766854784\n",
      "is_hero_60  -  0.8190424176224286\n",
      "is_hero_61  -  0.8190424176224286\n",
      "is_hero_62  -  0.819983008677711\n",
      "is_hero_63  -  0.8190424176224286\n",
      "is_hero_64  -  0.8190424176224286\n",
      "is_hero_65  -  0.8190424176224286\n",
      "is_hero_66  -  0.8190424176224286\n",
      "is_hero_67  -  0.8190424176224286\n",
      "is_hero_68  -  0.8190424176224286\n",
      "is_hero_69  -  0.8190424176224286\n",
      "is_hero_70  -  0.8190424176224286\n",
      "is_hero_71  -  0.8190424176224286\n",
      "is_hero_72  -  0.8190424176224286\n",
      "is_hero_73  -  0.8190424176224286\n",
      "is_hero_74  -  0.8174646519813096\n",
      "is_hero_75  -  0.8190424176224286\n",
      "is_hero_76  -  0.8190424176224286\n",
      "is_hero_77  -  0.8190424176224286\n",
      "is_hero_78  -  0.8190424176224286\n",
      "is_hero_79  -  0.8190424176224286\n",
      "is_hero_80  -  0.8190424176224286\n",
      "is_hero_81  -  0.8190424176224286\n",
      "is_hero_82  -  0.8190424176224286\n",
      "is_hero_83  -  0.8190424176224286\n",
      "is_hero_84  -  0.8190424176224286\n",
      "is_hero_85  -  0.8190424176224286\n",
      "is_hero_86  -  0.8190424176224286\n",
      "is_hero_87  -  0.8190424176224286\n",
      "is_hero_88  -  0.8190424176224286\n",
      "is_hero_89  -  0.8190424176224286\n",
      "is_hero_90  -  0.8190424176224286\n",
      "is_hero_91  -  0.8190424176224286\n",
      "is_hero_92  -  0.8190424176224286\n",
      "is_hero_93  -  0.8190424176224286\n",
      "is_hero_94  -  0.8190424176224286\n",
      "is_hero_95  -  0.8190424176224286\n",
      "is_hero_96  -  0.8190424176224286\n",
      "is_hero_97  -  0.8190424176224286\n",
      "is_hero_98  -  0.8190424176224286\n",
      "is_hero_99  -  0.8190424176224286\n",
      "is_hero_100  -  0.8190424176224286\n",
      "is_hero_101  -  0.8190424176224286\n",
      "is_hero_102  -  0.8190424176224286\n",
      "is_hero_103  -  0.8190424176224286\n",
      "is_hero_104  -  0.8190424176224286\n",
      "is_hero_105  -  0.8190424176224286\n",
      "is_hero_106  -  0.8190424176224286\n",
      "is_hero_107  -  0.8190424176224286\n",
      "is_hero_108  -  0.8190424176224286\n",
      "is_hero_109  -  0.8190424176224286\n",
      "is_hero_110  -  0.8190424176224286\n",
      "is_hero_111  -  0.8190424176224286\n",
      "is_hero_112  -  0.8190424176224286\n",
      "is_hero_113  -  0.81931549244493\n",
      "is_hero_114  -  0.8190424176224286\n",
      "is_hero_119  -  0.8190424176224286\n",
      "is_hero_120  -  0.8190424176224286\n",
      "is_hero_121  -  0.8190424176224286\n",
      "is_hero_129  -  0.8190424176224286\n",
      "upgrade_behavior Unit Target  -  0.8181928515079798\n",
      "upgrade_behavior Hidden  -  0.8190424176224286\n",
      "upgrade_behavior Instant Cast  -  0.8190424176224286\n",
      "upgrade_behavior Point Target  -  0.818860367740761\n",
      "upgrade_behavior Channeled  -  0.8190424176224286\n",
      "upgrade_behavior No Target  -  0.8180714849202014\n",
      "upgrade_behavior empty  -  0.8179804599793676\n",
      "upgrade_behavior Passive  -  0.8210753079677164\n",
      "upgrade_behavior AOE  -  0.8197402755021542\n",
      "is_aegis  -  0.8190424176224286\n",
      "winrate  -  0.8207112082043814\n",
      "Carry  -  0.818860367740761\n",
      "Escape  -  0.820741549851326\n",
      "Nuker  -  0.8194672006796528\n",
      "Initiator  -  0.8194975423265974\n",
      "Durable  -  0.8214394077310516\n",
      "Disabler  -  0.8210146246738272\n",
      "Jungler  -  0.8194065173857636\n",
      "Support  -  0.8191031009163178\n",
      "qual_item_component_count  -  0.8211966745554948\n",
      "qual_item_rare_count  -  0.8195885672674312\n",
      "qual_item_epic_count  -  0.8200133503246556\n",
      "qual_item_consumable_count  -  0.8155834698707446\n",
      "qual_item_artifact_count  -  0.819831300442988\n",
      "qual_item_common_count  -  0.819983008677711\n",
      "qual_item_secret_shop_count  -  0.8202560835002124\n",
      "final_items_sum  -  0.81931549244493\n",
      "final_items_component  -  0.8201043752654894\n",
      "final_items_rare  -  0.8181321682140906\n",
      "final_items_epic  -  0.82043813338188\n",
      "final_items_consumable  -  0.8200436919716002\n",
      "final_items_artifact  -  0.8179804599793676\n",
      "final_items_common  -  0.8195582256204866\n",
      "final_items_secret_shop  -  0.8195582256204866\n",
      "level_up_speed  -  0.818708659506038\n",
      "npc_dota_creep_goodguys_ranged  -  0.8197402755021542\n",
      "npc_dota_neutral_forest_troll_berserker  -  0.8189210510346502\n",
      "npc_dota_goodguys_tower1_mid  -  0.8200740336185448\n",
      "npc_dota_hero_pangolier  -  0.8196492505613204\n",
      "npc_dota_goodguys_tower1_bot  -  0.8197099338552096\n",
      "npc_dota_neutral_polar_furbolg_ursa_warrior  -  0.818405243036592\n",
      "npc_dota_hero_oracle  -  0.8189817343285394\n",
      "npc_dota_neutral_satyr_hellcaller  -  0.8198919837368772\n",
      "npc_dota_neutral_giant_wolf  -  0.8187996844468718\n",
      "npc_dota_goodguys_tower2_mid  -  0.820286425147157\n",
      "npc_dota_neutral_satyr_soulstealer  -  0.8200436919716002\n",
      "npc_dota_creep_goodguys_melee  -  0.819163784210207\n",
      "npc_dota_goodguys_tower1_top  -  0.8194065173857636\n",
      "npc_dota_neutral_centaur_khan  -  0.8199526670307664\n",
      "npc_dota_goodguys_tower2_bot  -  0.8183445597427028\n",
      "npc_dota_hero_skywrath_mage  -  0.8190727592693732\n",
      "npc_dota_neutral_forest_troll_high_priest  - "
     ]
    }
   ],
   "source": [
    "for col in tqdm_notebook(X.columns[94:]):\n",
    "    \n",
    "    #col_drop = np.random.choice(X.columns, np.random.random_integers(100))\n",
    "    \n",
    "    lgbm.fit(X_train.drop(col, axis=1), y_train)\n",
    "    \n",
    "    ac = accuracy_score(y_test, lgbm.predict( X_test.drop(col, axis=1) ) )\n",
    "    \n",
    "    print(col, ' - ', ac)"
   ]
  }
 ],
 "metadata": {
  "kernelspec": {
   "display_name": "Python 3",
   "language": "python",
   "name": "python3"
  },
  "language_info": {
   "codemirror_mode": {
    "name": "ipython",
    "version": 3
   },
   "file_extension": ".py",
   "mimetype": "text/x-python",
   "name": "python",
   "nbconvert_exporter": "python",
   "pygments_lexer": "ipython3",
   "version": "3.6.6"
  }
 },
 "nbformat": 4,
 "nbformat_minor": 2
}
