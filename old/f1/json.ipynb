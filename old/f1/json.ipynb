{
 "cells": [
  {
   "cell_type": "code",
   "execution_count": 5,
   "metadata": {},
   "outputs": [
    {
     "name": "stdout",
     "output_type": "stream",
     "text": [
      "Populating the interactive namespace from numpy and matplotlib\n"
     ]
    }
   ],
   "source": [
    "import pandas as pd\n",
    "import matplotlib.pyplot as plt\n",
    "import seaborn as sns\n",
    "sns.set()\n",
    "import numpy as np\n",
    "import sklearn \n",
    "from tqdm import tqdm_notebook\n",
    "import warnings\n",
    "warnings.filterwarnings('ignore')\n",
    "%matplotlib inline\n",
    "import catboost\n",
    "import lightgbm\n",
    "import xgboost\n",
    "import json \n",
    "%pylab inline"
   ]
  },
  {
   "cell_type": "code",
   "execution_count": 6,
   "metadata": {
    "collapsed": true
   },
   "outputs": [],
   "source": [
    "train = pd.read_csv('data/dota2_skill_train.csv', index_col='id')\n",
    "test = pd.read_csv('data/dota2_skill_test.csv', index_col='id')\n",
    "\n",
    "heroes = pd.read_csv('data/dota2_heroes.csv', index_col='hero_id')\n",
    "abilities = pd.read_csv('data/dota2_abilities.csv', index_col='ability_id')\n",
    "items = pd.read_csv('data/dota2_items.csv', index_col='item_id')"
   ]
  },
  {
   "cell_type": "code",
   "execution_count": 7,
   "metadata": {},
   "outputs": [
    {
     "data": {
      "application/vnd.jupyter.widget-view+json": {
       "model_id": "266375fcd1c34ff5a66c61870a7065b1",
       "version_major": 2,
       "version_minor": 0
      },
      "text/plain": [
       "HBox(children=(IntProgress(value=1, bar_style='info', max=1), HTML(value='')))"
      ]
     },
     "metadata": {},
     "output_type": "display_data"
    },
    {
     "name": "stdout",
     "output_type": "stream",
     "text": [
      "\n"
     ]
    }
   ],
   "source": [
    "records = []\n",
    "import json\n",
    "i = 0\n",
    "with open('data/dota2_skill_train.jsonlines') as fin:\n",
    "    for line in tqdm_notebook(fin):\n",
    "        record = json.loads(line)\n",
    "        records.append(record)\n",
    "        i+=1\n",
    "        if i == 500:\n",
    "            break"
   ]
  },
  {
   "cell_type": "markdown",
   "metadata": {},
   "source": [
    "# damage_targets"
   ]
  },
  {
   "cell_type": "code",
   "execution_count": 4,
   "metadata": {
    "collapsed": true
   },
   "outputs": [
    {
     "data": {
      "application/vnd.jupyter.widget-view+json": {
       "model_id": "d80e6df55507495092106eb57b2af602",
       "version_major": 2,
       "version_minor": 0
      },
      "text/plain": [
       "HBox(children=(IntProgress(value=1, bar_style='info', max=1), HTML(value='')))"
      ]
     },
     "metadata": {},
     "output_type": "display_data"
    },
    {
     "name": "stdout",
     "output_type": "stream",
     "text": [
      "\n"
     ]
    },
    {
     "ename": "KeyboardInterrupt",
     "evalue": "",
     "output_type": "error",
     "traceback": [
      "\u001b[0;31m---------------------------------------------------------------------------\u001b[0m",
      "\u001b[0;31mKeyboardInterrupt\u001b[0m                         Traceback (most recent call last)",
      "\u001b[0;32m<ipython-input-4-b95ae56eb405>\u001b[0m in \u001b[0;36m<module>\u001b[0;34m()\u001b[0m\n\u001b[1;32m      5\u001b[0m \u001b[0;32mwith\u001b[0m \u001b[0mopen\u001b[0m\u001b[0;34m(\u001b[0m\u001b[0;34m'data/dota2_skill_train.jsonlines'\u001b[0m\u001b[0;34m)\u001b[0m \u001b[0;32mas\u001b[0m \u001b[0mfin\u001b[0m\u001b[0;34m:\u001b[0m\u001b[0;34m\u001b[0m\u001b[0m\n\u001b[1;32m      6\u001b[0m     \u001b[0;32mfor\u001b[0m \u001b[0mline\u001b[0m \u001b[0;32min\u001b[0m \u001b[0mtqdm_notebook\u001b[0m\u001b[0;34m(\u001b[0m\u001b[0mfin\u001b[0m\u001b[0;34m)\u001b[0m\u001b[0;34m:\u001b[0m\u001b[0;34m\u001b[0m\u001b[0m\n\u001b[0;32m----> 7\u001b[0;31m         \u001b[0mrecord\u001b[0m \u001b[0;34m=\u001b[0m \u001b[0mjson\u001b[0m\u001b[0;34m.\u001b[0m\u001b[0mloads\u001b[0m\u001b[0;34m(\u001b[0m\u001b[0mline\u001b[0m\u001b[0;34m)\u001b[0m\u001b[0;34m\u001b[0m\u001b[0m\n\u001b[0m\u001b[1;32m      8\u001b[0m \u001b[0;34m\u001b[0m\u001b[0m\n\u001b[1;32m      9\u001b[0m         \u001b[0mmid_ar\u001b[0m \u001b[0;34m=\u001b[0m \u001b[0;34m[\u001b[0m\u001b[0;34m]\u001b[0m\u001b[0;34m\u001b[0m\u001b[0m\n",
      "\u001b[0;32m/home/ubuntu/anaconda3/lib/python3.6/json/__init__.py\u001b[0m in \u001b[0;36mloads\u001b[0;34m(s, encoding, cls, object_hook, parse_float, parse_int, parse_constant, object_pairs_hook, **kw)\u001b[0m\n\u001b[1;32m    352\u001b[0m             \u001b[0mparse_int\u001b[0m \u001b[0;32mis\u001b[0m \u001b[0;32mNone\u001b[0m \u001b[0;32mand\u001b[0m \u001b[0mparse_float\u001b[0m \u001b[0;32mis\u001b[0m \u001b[0;32mNone\u001b[0m \u001b[0;32mand\u001b[0m\u001b[0;34m\u001b[0m\u001b[0m\n\u001b[1;32m    353\u001b[0m             parse_constant is None and object_pairs_hook is None and not kw):\n\u001b[0;32m--> 354\u001b[0;31m         \u001b[0;32mreturn\u001b[0m \u001b[0m_default_decoder\u001b[0m\u001b[0;34m.\u001b[0m\u001b[0mdecode\u001b[0m\u001b[0;34m(\u001b[0m\u001b[0ms\u001b[0m\u001b[0;34m)\u001b[0m\u001b[0;34m\u001b[0m\u001b[0m\n\u001b[0m\u001b[1;32m    355\u001b[0m     \u001b[0;32mif\u001b[0m \u001b[0mcls\u001b[0m \u001b[0;32mis\u001b[0m \u001b[0;32mNone\u001b[0m\u001b[0;34m:\u001b[0m\u001b[0;34m\u001b[0m\u001b[0m\n\u001b[1;32m    356\u001b[0m         \u001b[0mcls\u001b[0m \u001b[0;34m=\u001b[0m \u001b[0mJSONDecoder\u001b[0m\u001b[0;34m\u001b[0m\u001b[0m\n",
      "\u001b[0;32m/home/ubuntu/anaconda3/lib/python3.6/json/decoder.py\u001b[0m in \u001b[0;36mdecode\u001b[0;34m(self, s, _w)\u001b[0m\n\u001b[1;32m    337\u001b[0m \u001b[0;34m\u001b[0m\u001b[0m\n\u001b[1;32m    338\u001b[0m         \"\"\"\n\u001b[0;32m--> 339\u001b[0;31m         \u001b[0mobj\u001b[0m\u001b[0;34m,\u001b[0m \u001b[0mend\u001b[0m \u001b[0;34m=\u001b[0m \u001b[0mself\u001b[0m\u001b[0;34m.\u001b[0m\u001b[0mraw_decode\u001b[0m\u001b[0;34m(\u001b[0m\u001b[0ms\u001b[0m\u001b[0;34m,\u001b[0m \u001b[0midx\u001b[0m\u001b[0;34m=\u001b[0m\u001b[0m_w\u001b[0m\u001b[0;34m(\u001b[0m\u001b[0ms\u001b[0m\u001b[0;34m,\u001b[0m \u001b[0;36m0\u001b[0m\u001b[0;34m)\u001b[0m\u001b[0;34m.\u001b[0m\u001b[0mend\u001b[0m\u001b[0;34m(\u001b[0m\u001b[0;34m)\u001b[0m\u001b[0;34m)\u001b[0m\u001b[0;34m\u001b[0m\u001b[0m\n\u001b[0m\u001b[1;32m    340\u001b[0m         \u001b[0mend\u001b[0m \u001b[0;34m=\u001b[0m \u001b[0m_w\u001b[0m\u001b[0;34m(\u001b[0m\u001b[0ms\u001b[0m\u001b[0;34m,\u001b[0m \u001b[0mend\u001b[0m\u001b[0;34m)\u001b[0m\u001b[0;34m.\u001b[0m\u001b[0mend\u001b[0m\u001b[0;34m(\u001b[0m\u001b[0;34m)\u001b[0m\u001b[0;34m\u001b[0m\u001b[0m\n\u001b[1;32m    341\u001b[0m         \u001b[0;32mif\u001b[0m \u001b[0mend\u001b[0m \u001b[0;34m!=\u001b[0m \u001b[0mlen\u001b[0m\u001b[0;34m(\u001b[0m\u001b[0ms\u001b[0m\u001b[0;34m)\u001b[0m\u001b[0;34m:\u001b[0m\u001b[0;34m\u001b[0m\u001b[0m\n",
      "\u001b[0;32m/home/ubuntu/anaconda3/lib/python3.6/json/decoder.py\u001b[0m in \u001b[0;36mraw_decode\u001b[0;34m(self, s, idx)\u001b[0m\n\u001b[1;32m    353\u001b[0m         \"\"\"\n\u001b[1;32m    354\u001b[0m         \u001b[0;32mtry\u001b[0m\u001b[0;34m:\u001b[0m\u001b[0;34m\u001b[0m\u001b[0m\n\u001b[0;32m--> 355\u001b[0;31m             \u001b[0mobj\u001b[0m\u001b[0;34m,\u001b[0m \u001b[0mend\u001b[0m \u001b[0;34m=\u001b[0m \u001b[0mself\u001b[0m\u001b[0;34m.\u001b[0m\u001b[0mscan_once\u001b[0m\u001b[0;34m(\u001b[0m\u001b[0ms\u001b[0m\u001b[0;34m,\u001b[0m \u001b[0midx\u001b[0m\u001b[0;34m)\u001b[0m\u001b[0;34m\u001b[0m\u001b[0m\n\u001b[0m\u001b[1;32m    356\u001b[0m         \u001b[0;32mexcept\u001b[0m \u001b[0mStopIteration\u001b[0m \u001b[0;32mas\u001b[0m \u001b[0merr\u001b[0m\u001b[0;34m:\u001b[0m\u001b[0;34m\u001b[0m\u001b[0m\n\u001b[1;32m    357\u001b[0m             \u001b[0;32mraise\u001b[0m \u001b[0mJSONDecodeError\u001b[0m\u001b[0;34m(\u001b[0m\u001b[0;34m\"Expecting value\"\u001b[0m\u001b[0;34m,\u001b[0m \u001b[0ms\u001b[0m\u001b[0;34m,\u001b[0m \u001b[0merr\u001b[0m\u001b[0;34m.\u001b[0m\u001b[0mvalue\u001b[0m\u001b[0;34m)\u001b[0m \u001b[0;32mfrom\u001b[0m \u001b[0;32mNone\u001b[0m\u001b[0;34m\u001b[0m\u001b[0m\n",
      "\u001b[0;31mKeyboardInterrupt\u001b[0m: "
     ]
    }
   ],
   "source": [
    "train_id_damage_targets = []\n",
    "train_id = []\n",
    "import json\n",
    "it = 0\n",
    "with open('data/dota2_skill_train.jsonlines') as fin:\n",
    "    for line in tqdm_notebook(fin):\n",
    "        record = json.loads(line)\n",
    "        \n",
    "        mid_ar = []\n",
    "        for i in record['damage_targets'].items():\n",
    "            mid_ar.append(i)\n",
    "            \n",
    "        train_id_damage_targets.append(mid_ar)\n",
    "        train_id.append(record['id'])\n",
    "\n",
    "train_id_damage_targets_log = pd.DataFrame(train_id_damage_targets, index=train_id)\n",
    "train_id_damage_targets = pd.DataFrame(index=train_id)\n",
    "\n",
    "for train_id in tqdm_notebook(train_id_damage_targets_log.index):\n",
    "    for i in train_id_damage_targets_log[train_id_damage_targets_log.index == train_id].values[0]:\n",
    "        if i != None:\n",
    "            train_id_damage_targets.at[train_id, '{}'.format(i[0])] = i[1]"
   ]
  },
  {
   "cell_type": "code",
   "execution_count": null,
   "metadata": {
    "collapsed": true
   },
   "outputs": [],
   "source": [
    "test_id_damage_targets = []\n",
    "test_id = []\n",
    "import json\n",
    "it = 0\n",
    "with open('data/dota2_skill_test.jsonlines') as fin:\n",
    "    for line in tqdm_notebook(fin):\n",
    "        record = json.loads(line)\n",
    "        \n",
    "        mid_ar = []\n",
    "        for i in record['damage_targets'].items():\n",
    "            mid_ar.append(i)\n",
    "            \n",
    "        test_id_damage_targets.append(mid_ar)\n",
    "        test_id.append(record['id'])\n",
    "\n",
    "test_id_damage_targets_log = pd.DataFrame(test_id_damage_targets, index=test_id)\n",
    "test_id_damage_targets = pd.DataFrame(index=test_id)\n",
    "\n",
    "for test_id in tqdm_notebook(test_id_damage_targets_log.index):\n",
    "    for i in test_id_damage_targets_log[test_id_damage_targets_log.index == test_id].values[0]:\n",
    "        if i != None:\n",
    "            test_id_damage_targets.at[test_id, '{}'.format(i[0])] = i[1]"
   ]
  },
  {
   "cell_type": "code",
   "execution_count": null,
   "metadata": {
    "collapsed": true
   },
   "outputs": [],
   "source": [
    "train_id_damage_targets.fillna(0.01).to_csv('json_data/train_id_damage_targets.csv')\n",
    "test_id_damage_targets.fillna(0.01).to_csv('json_data/test_id_damage_targets.csv')"
   ]
  },
  {
   "cell_type": "markdown",
   "metadata": {},
   "source": [
    "# item_purchase_log, final_items"
   ]
  },
  {
   "cell_type": "code",
   "execution_count": null,
   "metadata": {
    "collapsed": true
   },
   "outputs": [],
   "source": [
    "train_id_items = []\n",
    "train_id = []\n",
    "import json\n",
    "it = 0\n",
    "with open('data/dota2_skill_train.jsonlines') as fin:\n",
    "    for line in tqdm_notebook(fin):\n",
    "        record = json.loads(line)\n",
    "        mid_items = []\n",
    "        for i in record['item_purchase_log']:\n",
    "            mid_items.append(i['item_id'])\n",
    "        train_id_items.append(mid_items)\n",
    "        train_id.append(record['id'])\n",
    "        \n",
    "train_items_log = pd.DataFrame(train_id_items, index=train_id)\n",
    "train_items_qual_count = pd.DataFrame(index=train_id)\n",
    "\n",
    "for train_id in tqdm_notebook(train_items_log.index):\n",
    "    x = train_items_log[train_items_log.index == train_id].values\n",
    "    x = x[~np.isnan(x)]\n",
    "    train_items_qual_count.at[train_id, 'x_len'] = len(x)\n",
    "    qual_item = [items[items.index == i]['qual'].values[0] for i in x]\n",
    "    for q_i in ['component', 'rare', 'epic', 'consumable', 'artifact', 'common', 'secret_shop']:\n",
    "        train_items_qual_count.at[train_id, 'qual_item_{}_count'.format(q_i)] = qual_item.count(q_i)"
   ]
  },
  {
   "cell_type": "code",
   "execution_count": null,
   "metadata": {
    "collapsed": true
   },
   "outputs": [],
   "source": [
    "train_items_qual_count.astype(int).to_csv('json_data/train_items_qual_count.csv')"
   ]
  },
  {
   "cell_type": "code",
   "execution_count": 12,
   "metadata": {},
   "outputs": [
    {
     "data": {
      "application/vnd.jupyter.widget-view+json": {
       "model_id": "383e1207fe6a4c68bb873d4e9a40e772",
       "version_major": 2,
       "version_minor": 0
      },
      "text/plain": [
       "HBox(children=(IntProgress(value=1, bar_style='info', max=1), HTML(value='')))"
      ]
     },
     "metadata": {},
     "output_type": "display_data"
    },
    {
     "name": "stdout",
     "output_type": "stream",
     "text": [
      "\n"
     ]
    },
    {
     "data": {
      "application/vnd.jupyter.widget-view+json": {
       "model_id": "a8c232b190cb4aca8d721c4992975e25",
       "version_major": 2,
       "version_minor": 0
      },
      "text/plain": [
       "HBox(children=(IntProgress(value=0, max=21108), HTML(value='')))"
      ]
     },
     "metadata": {},
     "output_type": "display_data"
    },
    {
     "name": "stdout",
     "output_type": "stream",
     "text": [
      "\n"
     ]
    }
   ],
   "source": [
    "test_id_items = []\n",
    "test_id = []\n",
    "import json\n",
    "it = 0\n",
    "with open('data/dota2_skill_test.jsonlines') as fin:\n",
    "    for line in tqdm_notebook(fin):\n",
    "        record = json.loads(line)\n",
    "        mid_items = []\n",
    "        for i in record['item_purchase_log']:\n",
    "            mid_items.append(i['item_id'])\n",
    "        test_id_items.append(mid_items)\n",
    "        test_id.append(record['id'])\n",
    "\n",
    "test_items_log = pd.DataFrame(test_id_items, index=test_id)\n",
    "test_items_qual_count = pd.DataFrame(index=test_id)\n",
    "\n",
    "for test_id in tqdm_notebook(test_items_log.index):\n",
    "    x = test_items_log[test_items_log.index == test_id].values\n",
    "    x = x[~np.isnan(x)]\n",
    "    test_items_qual_count.at[test_id, 'x_len'] = len(x)\n",
    "    qual_item = [items[items.index == i]['qual'].values[0] for i in x]\n",
    "    for q_i in ['component', 'rare', 'epic', 'consumable', 'artifact', 'common', 'secret_shop']:\n",
    "        test_items_qual_count.at[test_id, 'qual_item_{}_count'.format(q_i)] = qual_item.count(q_i)"
   ]
  },
  {
   "cell_type": "code",
   "execution_count": 13,
   "metadata": {
    "collapsed": true
   },
   "outputs": [],
   "source": [
    "test_items_qual_count.astype(int).to_csv('json_data/test_items_qual_count.csv')"
   ]
  },
  {
   "cell_type": "markdown",
   "metadata": {},
   "source": [
    "<hr`>"
   ]
  },
  {
   "cell_type": "code",
   "execution_count": 14,
   "metadata": {},
   "outputs": [
    {
     "data": {
      "application/vnd.jupyter.widget-view+json": {
       "model_id": "9235b87daa7240cc9dcd98349c3ee807",
       "version_major": 2,
       "version_minor": 0
      },
      "text/plain": [
       "HBox(children=(IntProgress(value=1, bar_style='info', max=1), HTML(value='')))"
      ]
     },
     "metadata": {},
     "output_type": "display_data"
    },
    {
     "name": "stdout",
     "output_type": "stream",
     "text": [
      "\n"
     ]
    },
    {
     "data": {
      "application/vnd.jupyter.widget-view+json": {
       "model_id": "b04c9ea8e9f141d2bc071c3af9b6f9ca",
       "version_major": 2,
       "version_minor": 0
      },
      "text/plain": [
       "HBox(children=(IntProgress(value=0, max=49331), HTML(value='')))"
      ]
     },
     "metadata": {},
     "output_type": "display_data"
    },
    {
     "name": "stdout",
     "output_type": "stream",
     "text": [
      "\n"
     ]
    }
   ],
   "source": [
    "train_id_items = []\n",
    "train_id = []\n",
    "import json\n",
    "it = 0\n",
    "with open('data/dota2_skill_train.jsonlines') as fin:\n",
    "    for line in tqdm_notebook(fin):\n",
    "        record = json.loads(line)\n",
    "        train_id_items.append(record['final_items'])\n",
    "        train_id.append(record['id'])\n",
    "        \n",
    "train_final_items_log = pd.DataFrame(train_id_items, index=train_id)\n",
    "train_final_items_qual_and_cost = pd.DataFrame(index=train_id)\n",
    "\n",
    "for train_id in tqdm_notebook(train_final_items_log.index):\n",
    "    x = train_final_items_log[train_final_items_log.index == train_id].values[0]\n",
    "    qual_item = [items[items.index == i]['qual'].values[0] for i in x if i != 0]\n",
    "    sum_cost_items = sum([items[items.index == i]['cost'].values[0] for i in x if i != 0])\n",
    "    \n",
    "    train_final_items_qual_and_cost.at[train_id, 'final_items_sum'] = sum_cost_items\n",
    "    for q_i in ['component', 'rare', 'epic', 'consumable', 'artifact', 'common', 'secret_shop']:\n",
    "        train_final_items_qual_and_cost.at[train_id, 'final_items_{}'.format(q_i)] = qual_item.count(q_i)"
   ]
  },
  {
   "cell_type": "code",
   "execution_count": 15,
   "metadata": {},
   "outputs": [
    {
     "data": {
      "application/vnd.jupyter.widget-view+json": {
       "model_id": "63d4ad2e64e440e7be78e82541ed1efd",
       "version_major": 2,
       "version_minor": 0
      },
      "text/plain": [
       "HBox(children=(IntProgress(value=1, bar_style='info', max=1), HTML(value='')))"
      ]
     },
     "metadata": {},
     "output_type": "display_data"
    },
    {
     "name": "stdout",
     "output_type": "stream",
     "text": [
      "\n"
     ]
    },
    {
     "data": {
      "application/vnd.jupyter.widget-view+json": {
       "model_id": "86da962351d94c0c9308c45a0689ed96",
       "version_major": 2,
       "version_minor": 0
      },
      "text/plain": [
       "HBox(children=(IntProgress(value=0, max=21108), HTML(value='')))"
      ]
     },
     "metadata": {},
     "output_type": "display_data"
    },
    {
     "name": "stdout",
     "output_type": "stream",
     "text": [
      "\n"
     ]
    }
   ],
   "source": [
    "test_id_items = []\n",
    "test_id = []\n",
    "import json\n",
    "it = 0\n",
    "with open('data/dota2_skill_test.jsonlines') as fin:\n",
    "    for line in tqdm_notebook(fin):\n",
    "        record = json.loads(line)\n",
    "        test_id_items.append(record['final_items'])\n",
    "        test_id.append(record['id'])\n",
    "\n",
    "test_final_items_log = pd.DataFrame(test_id_items, index=test_id)\n",
    "test_final_items_qual_and_cost = pd.DataFrame(index=test_id)\n",
    "\n",
    "for test_id in tqdm_notebook(test_final_items_log.index):\n",
    "    x = test_final_items_log[test_final_items_log.index == test_id].values[0]\n",
    "    qual_item = [items[items.index == i]['qual'].values[0] for i in x if i != 0]\n",
    "    sum_cost_items = sum([items[items.index == i]['cost'].values[0] for i in x if i != 0])\n",
    "    \n",
    "    test_final_items_qual_and_cost.at[test_id, 'final_items_sum'] = sum_cost_items\n",
    "    for q_i in ['component', 'rare', 'epic', 'consumable', 'artifact', 'common', 'secret_shop']:\n",
    "        test_final_items_qual_and_cost.at[test_id, 'final_items_{}'.format(q_i)] = qual_item.count(q_i)"
   ]
  },
  {
   "cell_type": "code",
   "execution_count": 16,
   "metadata": {
    "collapsed": true
   },
   "outputs": [],
   "source": [
    "train_final_items_qual_and_cost['final_items_len'] = (train_final_items_qual_and_cost.iloc[:, -7:].sum(axis=1)).astype(int)\n",
    "test_final_items_qual_and_cost['final_items_len'] = (test_final_items_qual_and_cost.iloc[:, -7:].sum(axis=1)).astype(int)\n",
    "train_final_items_qual_and_cost.to_csv('json_data/train_final_items_qual_and_cost.csv')\n",
    "test_final_items_qual_and_cost.to_csv('json_data/test_final_items_qual_and_cost.csv')"
   ]
  },
  {
   "cell_type": "markdown",
   "metadata": {},
   "source": [
    "# series"
   ]
  },
  {
   "cell_type": "code",
   "execution_count": 17,
   "metadata": {},
   "outputs": [
    {
     "data": {
      "application/vnd.jupyter.widget-view+json": {
       "model_id": "8629fca6e38149a3bd94dd054273a3fe",
       "version_major": 2,
       "version_minor": 0
      },
      "text/plain": [
       "HBox(children=(IntProgress(value=1, bar_style='info', max=1), HTML(value='')))"
      ]
     },
     "metadata": {},
     "output_type": "display_data"
    },
    {
     "name": "stdout",
     "output_type": "stream",
     "text": [
      "\n"
     ]
    }
   ],
   "source": [
    "train_series = []\n",
    "train_id = []\n",
    "import json\n",
    "it = 0\n",
    "with open('data/dota2_skill_train.jsonlines') as fin:\n",
    "    for line in tqdm_notebook(fin):\n",
    "        record = json.loads(line)\n",
    "        \n",
    "        p = np.array(record['series']['player_gold'])\n",
    "        p_sum = p.sum()\n",
    "        p_mean = p.mean()\n",
    "        p_std = p.std()\n",
    "        p_median = np.median(p)\n",
    "        \n",
    "        t = np.array(record['series']['dire_gold'])\n",
    "        t_sum = t.sum()\n",
    "        t_mean = t.mean()\n",
    "        t_std = t.std()\n",
    "        t_median = np.median(t)\n",
    "        \n",
    "        t1 = np.array(record['series']['radiant_gold'])\n",
    "        t1_sum = t1.sum()\n",
    "        t1_mean = t1.mean()\n",
    "        t1_std = t1.std()\n",
    "        t1_median = np.median(t1)\n",
    "        \n",
    "        \n",
    "        delta_sum =  t_sum - p_sum\n",
    "        delta_mean = t_mean - p_mean\n",
    "        delta_std = t_std - p_std\n",
    "        delta_median = t_median - p_median\n",
    "        \n",
    "        delta1_sum =  t1_sum - p_sum\n",
    "        delta1_mean = t1_mean - p_mean\n",
    "        delta1_std = t1_std - p_std\n",
    "        delta1_median = t1_median - p_median\n",
    "        \n",
    "        \n",
    "        train_id.append(record['id'])\n",
    "        train_series.append([p_sum, p_mean, p_std, p_median, t_sum, t_mean, t_std, t_median, t1_sum, t1_mean, t1_std, t1_median, delta_sum, delta_mean, delta_std, delta_median, delta1_sum, delta1_mean, delta1_std, delta1_median])"
   ]
  },
  {
   "cell_type": "code",
   "execution_count": 18,
   "metadata": {
    "collapsed": true
   },
   "outputs": [],
   "source": [
    "train_series = pd.DataFrame(train_series, index=train_id)\n",
    "train_series.columns = ['p_sum','p_mean','p_std','p_median','t_sum','t_mean','t_std','t_median', 't1_sum','t1_mean','t1_std','t1_median', 'delta_sum', 'delta_mean', 'delta_std', 'delta_median', 'delta1_sum', 'delta1_mean', 'delta1_std', 'delta1_median']\n",
    "train_series.fillna(0).to_csv('json_data/train_series.csv')"
   ]
  },
  {
   "cell_type": "code",
   "execution_count": 19,
   "metadata": {},
   "outputs": [
    {
     "data": {
      "application/vnd.jupyter.widget-view+json": {
       "model_id": "58a00aa3b04b429ea22b66da6e1e74a7",
       "version_major": 2,
       "version_minor": 0
      },
      "text/plain": [
       "HBox(children=(IntProgress(value=1, bar_style='info', max=1), HTML(value='')))"
      ]
     },
     "metadata": {},
     "output_type": "display_data"
    },
    {
     "name": "stdout",
     "output_type": "stream",
     "text": [
      "\n"
     ]
    }
   ],
   "source": [
    "test_series = []\n",
    "test_id = []\n",
    "import json\n",
    "it = 0\n",
    "with open('data/dota2_skill_test.jsonlines') as fin:\n",
    "    for line in tqdm_notebook(fin):\n",
    "        record = json.loads(line)\n",
    "        \n",
    "        p = np.array(record['series']['player_gold'])\n",
    "        p_sum = p.sum()\n",
    "        p_mean = p.mean()\n",
    "        p_std = p.std()\n",
    "        p_median = np.median(p)\n",
    "        \n",
    "        t = np.array(record['series']['dire_gold'])\n",
    "        t_sum = t.sum()\n",
    "        t_mean = t.mean()\n",
    "        t_std = t.std()\n",
    "        t_median = np.median(t)\n",
    "        \n",
    "        t1 = np.array(record['series']['radiant_gold'])\n",
    "        t1_sum = t1.sum()\n",
    "        t1_mean = t1.mean()\n",
    "        t1_std = t1.std()\n",
    "        t1_median = np.median(t1)\n",
    "        \n",
    "        \n",
    "        delta_sum =  t_sum - p_sum\n",
    "        delta_mean = t_mean - p_mean\n",
    "        delta_std = t_std - p_std\n",
    "        delta_median = t_median - p_median\n",
    "        \n",
    "        delta1_sum =  t1_sum - p_sum\n",
    "        delta1_mean = t1_mean - p_mean\n",
    "        delta1_std = t1_std - p_std\n",
    "        delta1_median = t1_median - p_median\n",
    "        \n",
    "        \n",
    "        test_id.append(record['id'])\n",
    "        test_series.append([p_sum, p_mean, p_std, p_median, t_sum, t_mean, t_std, t_median, t1_sum, t1_mean, t1_std, t1_median, delta_sum, delta_mean, delta_std, delta_median, delta1_sum, delta1_mean, delta1_std, delta1_median])\n",
    "\n",
    "test_series = pd.DataFrame(test_series, index=test_id)\n",
    "test_series.columns = ['p_sum','p_mean','p_std','p_median','t_sum','t_mean','t_std','t_median', 't1_sum','t1_mean','t1_std','t1_median', 'delta_sum', 'delta_mean', 'delta_std', 'delta_median', 'delta1_sum', 'delta1_mean', 'delta1_std', 'delta1_median']\n",
    "test_series.fillna(0).to_csv('json_data/test_series.csv')"
   ]
  },
  {
   "cell_type": "markdown",
   "metadata": {},
   "source": [
    "# level up times"
   ]
  },
  {
   "cell_type": "code",
   "execution_count": 20,
   "metadata": {},
   "outputs": [
    {
     "data": {
      "application/vnd.jupyter.widget-view+json": {
       "model_id": "716c9fe15eb34c34a3d1bb221e5447df",
       "version_major": 2,
       "version_minor": 0
      },
      "text/plain": [
       "HBox(children=(IntProgress(value=1, bar_style='info', max=1), HTML(value='')))"
      ]
     },
     "metadata": {},
     "output_type": "display_data"
    },
    {
     "name": "stdout",
     "output_type": "stream",
     "text": [
      "\n"
     ]
    }
   ],
   "source": [
    "train_id_items = []\n",
    "train_id = []\n",
    "import json\n",
    "it = 0\n",
    "with open('data/dota2_skill_train.jsonlines') as fin:\n",
    "    for line in tqdm_notebook(fin):\n",
    "        record = json.loads(line)\n",
    "        \n",
    "        m = np.mean(record['level_up_times'])\n",
    "        s = np.std(record['level_up_times'])\n",
    "        med = np.median(record['level_up_times'])\n",
    "        ma =np.max(record['level_up_times'])\n",
    "        \n",
    "        train_id_items.append([m,s,med,ma])\n",
    "        train_id.append(record['id'])\n",
    "        \n",
    "df_train = pd.DataFrame(train_id_items, index=train_id)\n",
    "df_train.columns = ['l_u_mean', 'l_u_std', 'l_u_med', 'l_u_ma']\n",
    "df_train.to_csv('json_data/l_u_train.csv')"
   ]
  },
  {
   "cell_type": "code",
   "execution_count": 21,
   "metadata": {},
   "outputs": [
    {
     "data": {
      "application/vnd.jupyter.widget-view+json": {
       "model_id": "9f21655051ea4fbcb29b0a56f0496fd2",
       "version_major": 2,
       "version_minor": 0
      },
      "text/plain": [
       "HBox(children=(IntProgress(value=1, bar_style='info', max=1), HTML(value='')))"
      ]
     },
     "metadata": {},
     "output_type": "display_data"
    },
    {
     "name": "stdout",
     "output_type": "stream",
     "text": [
      "\n"
     ]
    }
   ],
   "source": [
    "test_id_items = []\n",
    "test_id = []\n",
    "import json\n",
    "it = 0\n",
    "with open('data/dota2_skill_test.jsonlines') as fin:\n",
    "    for line in tqdm_notebook(fin):\n",
    "        record = json.loads(line)\n",
    "        \n",
    "        m = np.mean(record['level_up_times'])\n",
    "        s = np.std(record['level_up_times'])\n",
    "        med = np.median(record['level_up_times'])\n",
    "        ma =np.max(record['level_up_times'])\n",
    "        \n",
    "        test_id_items.append([m,s,med,ma])\n",
    "        test_id.append(record['id'])\n",
    "\n",
    "df_test = pd.DataFrame(test_id_items, index=test_id)\n",
    "df_test.columns = ['l_u_mean', 'l_u_std', 'l_u_med', 'l_u_ma']\n",
    "df_test.to_csv('json_data/l_u_test.csv')"
   ]
  },
  {
   "cell_type": "markdown",
   "metadata": {},
   "source": [
    "# radiant_heroes, dire_heroes, heroes"
   ]
  },
  {
   "cell_type": "code",
   "execution_count": 18,
   "metadata": {
    "collapsed": true
   },
   "outputs": [],
   "source": [
    "import requests\n",
    "\n",
    "hero_id_2_winrate = {}\n",
    "for hero in requests.get('https://api.opendota.com/api/heroStats').json():\n",
    "    tmp = 0\n",
    "    for i in range(1, 8):\n",
    "        tmp += hero['{}_win'.format(i)] / hero['{}_pick'.format(i)]\n",
    "    hero_id_2_winrate[hero['id']] = tmp / 7\n",
    "\n",
    "    \n",
    "winrate = [hero_id_2_winrate[hero_id] for hero_id in heroes.index]\n",
    "heroes[\"winrate\"] = winrate"
   ]
  },
  {
   "cell_type": "code",
   "execution_count": 9,
   "metadata": {
    "collapsed": true
   },
   "outputs": [],
   "source": [
    "from sklearn.preprocessing import OneHotEncoder"
   ]
  },
  {
   "cell_type": "code",
   "execution_count": 10,
   "metadata": {},
   "outputs": [
    {
     "data": {
      "application/vnd.jupyter.widget-view+json": {
       "model_id": "0fa88eb6c2a74edfa6d7db07b469d3f0",
       "version_major": 2,
       "version_minor": 0
      },
      "text/plain": [
       "HBox(children=(IntProgress(value=1, bar_style='info', max=1), HTML(value='')))"
      ]
     },
     "metadata": {},
     "output_type": "display_data"
    },
    {
     "name": "stdout",
     "output_type": "stream",
     "text": [
      "\n"
     ]
    }
   ],
   "source": [
    "train_teammates = []\n",
    "train_id = []\n",
    "import json\n",
    "it = 0\n",
    "with open('data/dota2_skill_train.jsonlines') as fin:\n",
    "    for line in tqdm_notebook(fin):\n",
    "        record = json.loads(line)\n",
    "        \n",
    "        train_id.append(record['id'])\n",
    "        train_teammates.append(record['{}_heroes'.format(record['player_team'])])"
   ]
  },
  {
   "cell_type": "code",
   "execution_count": 11,
   "metadata": {
    "collapsed": true
   },
   "outputs": [],
   "source": [
    "train_teammates_id = pd.DataFrame(train_teammates, index=train_id)\n",
    "train_teammates= pd.DataFrame(index=train_id)"
   ]
  },
  {
   "cell_type": "code",
   "execution_count": 25,
   "metadata": {
    "collapsed": true
   },
   "outputs": [],
   "source": [
    "h0 = OneHotEncoder().fit_transform(train_teammates_id[0].values.reshape(-1,1))\n",
    "h1 = OneHotEncoder().fit_transform(train_teammates_id[1].values.reshape(-1,1))\n",
    "h2 = OneHotEncoder().fit_transform(train_teammates_id[2].values.reshape(-1,1))\n",
    "h3 = OneHotEncoder().fit_transform(train_teammates_id[3].values.reshape(-1,1))\n",
    "h4 = OneHotEncoder().fit_transform(train_teammates_id[4].values.reshape(-1,1))"
   ]
  },
  {
   "cell_type": "code",
   "execution_count": 26,
   "metadata": {
    "collapsed": true
   },
   "outputs": [],
   "source": [
    "df_h0 = pd.DataFrame(h0.toarray(), index=train_id)\n",
    "df_h1 = pd.DataFrame(h1.toarray(), index=train_id)\n",
    "df_h2 = pd.DataFrame(h2.toarray(), index=train_id)\n",
    "df_h3 = pd.DataFrame(h3.toarray(), index=train_id)\n",
    "df_h4 = pd.DataFrame(h4.toarray(), index=train_id)"
   ]
  },
  {
   "cell_type": "code",
   "execution_count": 27,
   "metadata": {
    "collapsed": true
   },
   "outputs": [],
   "source": [
    "train_teammates = df_h0 + df_h1 + df_h2 + df_h3 + df_h4"
   ]
  },
  {
   "cell_type": "code",
   "execution_count": 28,
   "metadata": {
    "collapsed": true
   },
   "outputs": [],
   "source": [
    "train_teammates = train_teammates.astype('int')"
   ]
  },
  {
   "cell_type": "code",
   "execution_count": 29,
   "metadata": {
    "collapsed": true
   },
   "outputs": [],
   "source": [
    "train_teammates.to_csv('json_data/train_teammates.csv')"
   ]
  },
  {
   "cell_type": "code",
   "execution_count": 22,
   "metadata": {},
   "outputs": [
    {
     "data": {
      "application/vnd.jupyter.widget-view+json": {
       "model_id": "f175b9e73b4b46a4ad90123bae626264",
       "version_major": 2,
       "version_minor": 0
      },
      "text/plain": [
       "HBox(children=(IntProgress(value=1, bar_style='info', max=1), HTML(value='')))"
      ]
     },
     "metadata": {},
     "output_type": "display_data"
    },
    {
     "name": "stdout",
     "output_type": "stream",
     "text": [
      "\n"
     ]
    }
   ],
   "source": [
    "test_teammates = []\n",
    "test_id = []\n",
    "import json\n",
    "it = 0\n",
    "with open('data/dota2_skill_test.jsonlines') as fin:\n",
    "    for line in tqdm_notebook(fin):\n",
    "        record = json.loads(line)\n",
    "        \n",
    "        test_id.append(record['id'])\n",
    "        test_teammates.append(record['{}_heroes'.format(record['player_team'])])"
   ]
  },
  {
   "cell_type": "code",
   "execution_count": 23,
   "metadata": {
    "collapsed": true
   },
   "outputs": [],
   "source": [
    "test_teammates_id = pd.DataFrame(test_teammates, index=test_id)\n",
    "test_teammates= pd.DataFrame(index=test_id)"
   ]
  },
  {
   "cell_type": "code",
   "execution_count": 32,
   "metadata": {
    "collapsed": true
   },
   "outputs": [],
   "source": [
    "h0 = OneHotEncoder().fit_transform(test_teammates_id[0].values.reshape(-1,1))\n",
    "h1 = OneHotEncoder().fit_transform(test_teammates_id[1].values.reshape(-1,1))\n",
    "h2 = OneHotEncoder().fit_transform(test_teammates_id[2].values.reshape(-1,1))\n",
    "h3 = OneHotEncoder().fit_transform(test_teammates_id[3].values.reshape(-1,1))\n",
    "h4 = OneHotEncoder().fit_transform(test_teammates_id[4].values.reshape(-1,1))"
   ]
  },
  {
   "cell_type": "code",
   "execution_count": 33,
   "metadata": {
    "collapsed": true
   },
   "outputs": [],
   "source": [
    "df_h0 = pd.DataFrame(h0.toarray(), index=test_id)\n",
    "df_h1 = pd.DataFrame(h1.toarray(), index=test_id)\n",
    "df_h2 = pd.DataFrame(h2.toarray(), index=test_id)\n",
    "df_h3 = pd.DataFrame(h3.toarray(), index=test_id)\n",
    "df_h4 = pd.DataFrame(h4.toarray(), index=test_id)"
   ]
  },
  {
   "cell_type": "code",
   "execution_count": 34,
   "metadata": {
    "collapsed": true
   },
   "outputs": [],
   "source": [
    "test_teammates = df_h0 + df_h1 + df_h2 + df_h3 + df_h4"
   ]
  },
  {
   "cell_type": "code",
   "execution_count": 35,
   "metadata": {
    "collapsed": true
   },
   "outputs": [],
   "source": [
    "test_teammates = test_teammates.astype('int')"
   ]
  },
  {
   "cell_type": "code",
   "execution_count": 36,
   "metadata": {
    "collapsed": true
   },
   "outputs": [],
   "source": [
    "test_teammates.to_csv('data/test_teammates.csv')"
   ]
  },
  {
   "cell_type": "code",
   "execution_count": 19,
   "metadata": {},
   "outputs": [
    {
     "data": {
      "application/vnd.jupyter.widget-view+json": {
       "model_id": "f3d1a483a5164b11ac5c2ddf26b460f9",
       "version_major": 2,
       "version_minor": 0
      },
      "text/plain": [
       "HBox(children=(IntProgress(value=0, max=49331), HTML(value='')))"
      ]
     },
     "metadata": {},
     "output_type": "display_data"
    },
    {
     "name": "stdout",
     "output_type": "stream",
     "text": [
      "\n"
     ]
    }
   ],
   "source": [
    "train_id = []\n",
    "train_tm_stats = []\n",
    "for p_id in tqdm_notebook(train_teammates_id.index):\n",
    "    #tm_roles = np.array([0,0,0,0,0,0,0,0,0])\n",
    "    tm_agi = []\n",
    "    tm_attack_range = []\n",
    "    tm_attack_rate = []\n",
    "    tm_winrate = []\n",
    "    \n",
    "    for tm in train_teammates_id[train_teammates_id.index == p_id].values[0]:\n",
    "        #tm_roles += heroes[heroes.index == tm].iloc[:,-9:].values[0].astype(int)\n",
    "        tm_agi.append(heroes[heroes.index == tm]['agi_gain'].values[0])\n",
    "        tm_attack_range.append(heroes[heroes.index == tm]['attack_range'].values[0])\n",
    "        tm_attack_rate.append(heroes[heroes.index == tm]['attack_rate'].values[0])\n",
    "        tm_winrate.append(heroes[heroes.index == tm]['winrate'].values[0])\n",
    "    train_id.append(p_id)\n",
    "\n",
    "    tm_agi_mean = np.array(tm_agi).mean()\n",
    "    tm_attack_range_mean = np.array(tm_attack_range).mean()\n",
    "    tm_attack_rate_mean = np.array(tm_attack_rate).mean()\n",
    "    tm_winrate_mean = np.array(tm_winrate).mean()\n",
    "    \n",
    "    tm_agi_std = np.array(tm_agi).std()\n",
    "    tm_attack_range_std = np.array(tm_attack_range).std()\n",
    "    tm_attack_rate_std = np.array(tm_attack_rate).std()\n",
    "    tm_winrate_std = np.array(tm_winrate).std()\n",
    "    \n",
    "#     r0 = tm_roles[0]\n",
    "#     r1 = tm_roles[1]\n",
    "#     r2 = tm_roles[2]\n",
    "#     r3 = tm_roles[3]\n",
    "#     r4 = tm_roles[4]\n",
    "#     r5 = tm_roles[5]\n",
    "#     r6 = tm_roles[6]\n",
    "#     r7 = tm_roles[7]\n",
    "#     r8 = tm_roles[8]\n",
    "    \n",
    "    train_tm_stats.append([tm_agi_mean, tm_attack_range_mean, tm_attack_rate_mean,\n",
    "                          tm_winrate_mean, tm_agi_std, tm_attack_range_std, tm_attack_rate_std, tm_winrate_std]) #, r0,r1,r2,r3,r4,r5,r6,r7,r8])"
   ]
  },
  {
   "cell_type": "code",
   "execution_count": 20,
   "metadata": {
    "collapsed": true
   },
   "outputs": [],
   "source": [
    "train_tm_stats = pd.DataFrame(train_tm_stats, index= train_id)\n",
    "train_tm_stats.to_csv('json_data/train_tm_stats.csv')"
   ]
  },
  {
   "cell_type": "code",
   "execution_count": 24,
   "metadata": {},
   "outputs": [
    {
     "data": {
      "application/vnd.jupyter.widget-view+json": {
       "model_id": "ae0b8f2567154273bc139373587fc1b7",
       "version_major": 2,
       "version_minor": 0
      },
      "text/plain": [
       "HBox(children=(IntProgress(value=0, max=21108), HTML(value='')))"
      ]
     },
     "metadata": {},
     "output_type": "display_data"
    },
    {
     "name": "stdout",
     "output_type": "stream",
     "text": [
      "\n"
     ]
    }
   ],
   "source": [
    "test_id = []\n",
    "test_tm_stats = []\n",
    "for p_id in tqdm_notebook(test_teammates_id.index):\n",
    "    tm_roles = np.array([0,0,0,0,0,0,0,0,0])\n",
    "    tm_agi = []\n",
    "    tm_attack_range = []\n",
    "    tm_attack_rate = []\n",
    "    tm_winrate = []\n",
    "    \n",
    "    for tm in test_teammates_id[test_teammates_id.index == p_id].values[0]:\n",
    "        #tm_roles += heroes[heroes.index == tm].iloc[:,-9:].values[0].astype(int)\n",
    "        tm_agi.append(heroes[heroes.index == tm]['agi_gain'].values[0])\n",
    "        tm_attack_range.append(heroes[heroes.index == tm]['attack_range'].values[0])\n",
    "        tm_attack_rate.append(heroes[heroes.index == tm]['attack_rate'].values[0])\n",
    "        tm_winrate.append(heroes[heroes.index == tm]['winrate'].values[0])\n",
    "    test_id.append(p_id)\n",
    "\n",
    "    tm_agi_mean = np.array(tm_agi).mean()\n",
    "    tm_attack_range_mean = np.array(tm_attack_range).mean()\n",
    "    tm_attack_rate_mean = np.array(tm_attack_rate).mean()\n",
    "    tm_winrate_mean = np.array(tm_winrate).mean()\n",
    "    \n",
    "    tm_agi_std = np.array(tm_agi).std()\n",
    "    tm_attack_range_std = np.array(tm_attack_range).std()\n",
    "    tm_attack_rate_std = np.array(tm_attack_rate).std()\n",
    "    tm_winrate_std = np.array(tm_winrate).std()\n",
    "    \n",
    "#     r0 = tm_roles[0]\n",
    "#     r1 = tm_roles[1]\n",
    "#     r2 = tm_roles[2]\n",
    "#     r3 = tm_roles[3]\n",
    "#     r4 = tm_roles[4]\n",
    "#     r5 = tm_roles[5]\n",
    "#     r6 = tm_roles[6]\n",
    "#     r7 = tm_roles[7]\n",
    "#     r8 = tm_roles[8]\n",
    "    \n",
    "    test_tm_stats.append([tm_agi_mean, tm_attack_range_mean, tm_attack_rate_mean,\n",
    "                          tm_winrate_mean, tm_agi_std, tm_attack_range_std, tm_attack_rate_std, tm_winrate_std]) #r0,r1,r2,r3,r4,r5,r6,r7,r8])"
   ]
  },
  {
   "cell_type": "code",
   "execution_count": 25,
   "metadata": {
    "collapsed": true
   },
   "outputs": [],
   "source": [
    "test_tm_stats = pd.DataFrame(test_tm_stats, index= test_id)"
   ]
  },
  {
   "cell_type": "code",
   "execution_count": 26,
   "metadata": {
    "collapsed": true
   },
   "outputs": [],
   "source": [
    "test_tm_stats.to_csv('json_data/test_tm_stats.csv')"
   ]
  },
  {
   "cell_type": "code",
   "execution_count": null,
   "metadata": {
    "collapsed": true
   },
   "outputs": [],
   "source": []
  }
 ],
 "metadata": {
  "kernelspec": {
   "display_name": "Python 3",
   "language": "python",
   "name": "python3"
  },
  "language_info": {
   "codemirror_mode": {
    "name": "ipython",
    "version": 3
   },
   "file_extension": ".py",
   "mimetype": "text/x-python",
   "name": "python",
   "nbconvert_exporter": "python",
   "pygments_lexer": "ipython3",
   "version": "3.6.8"
  }
 },
 "nbformat": 4,
 "nbformat_minor": 2
}
