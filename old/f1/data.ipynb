{
 "cells": [
  {
   "cell_type": "code",
   "execution_count": 1,
   "metadata": {
    "collapsed": true
   },
   "outputs": [],
   "source": [
    "import pandas as pd\n",
    "import numpy as np\n",
    "import warnings\n",
    "warnings.filterwarnings('ignore')\n",
    "from tqdm import tqdm_notebook\n",
    "import tqdm\n",
    "import json"
   ]
  },
  {
   "cell_type": "code",
   "execution_count": 2,
   "metadata": {
    "collapsed": true
   },
   "outputs": [],
   "source": [
    "train = pd.read_csv('data/dota2_skill_train.csv', index_col='id')\n",
    "test = pd.read_csv('data/dota2_skill_test.csv', index_col='id')\n",
    "\n",
    "heroes = pd.read_csv('data/dota2_heroes.csv', index_col='hero_id')\n",
    "abilities = pd.read_csv('data/dota2_abilities.csv', index_col='ability_id')\n",
    "items = pd.read_csv('data/dota2_items.csv', index_col='item_id')"
   ]
  },
  {
   "cell_type": "code",
   "execution_count": 3,
   "metadata": {
    "collapsed": true
   },
   "outputs": [],
   "source": [
    "mapping = {'dire':0, 'radiant':1}\n",
    "train['player_team'] = train['player_team'].map(mapping)\n",
    "train['winner_team'] = train['winner_team'].map(mapping)\n",
    "test['player_team'] = test['player_team'].map(mapping)\n",
    "test['winner_team'] = test['winner_team'].map(mapping)"
   ]
  },
  {
   "cell_type": "code",
   "execution_count": 4,
   "metadata": {
    "collapsed": true
   },
   "outputs": [],
   "source": [
    "train['delta_kills'] = train['best_kills_x16'  ] - train['avg_kills_x16']\n",
    "train['delta_assists'] = train['best_assists_x16'] - train['avg_assists_x16']\n",
    "train['delta_gpm'] = train['best_gpm_x16']     - train['avg_gpm_x16']\n",
    "train['delta_xpm'] = train['best_xpm_x16']     - train['avg_xpm_x16']\n",
    "train['delta_streak'] = train['best_win_streak']     - train['win_streak']\n",
    "\n",
    "test['delta_kills'] = test['best_kills_x16'  ] - test['avg_kills_x16']\n",
    "test['delta_assists'] = test['best_assists_x16'] - test['avg_assists_x16']\n",
    "test['delta_gpm'] = test['best_gpm_x16']     - test['avg_gpm_x16']\n",
    "test['delta_xpm'] = test['best_xpm_x16']     - test['avg_xpm_x16']\n",
    "test['delta_streak'] = test['best_win_streak']     - test['win_streak']"
   ]
  },
  {
   "cell_type": "code",
   "execution_count": 5,
   "metadata": {
    "collapsed": true
   },
   "outputs": [],
   "source": [
    "train['gold/gold_spent'] = (train['gold'] + 0.01) / (train['gold_spent'] + 0.01)\n",
    "train['gold_spent/goldpermin'] = (train['gold_spent'] + 0.01) / (train['gold_per_min'] + 0.01)\n",
    "train['gold_spent/net_worth'] = (train['gold_spent'] + 0.01) / (train['net_worth'] + 0.01)\n",
    "train['is_player_team_win'] = (train['player_team'] == train['winner_team']).astype('int')\n",
    "train['duration*gpm'] = (train['duration'] / 60) * train['gold_per_min']\n",
    "train['duration*xpm'] = (train['duration'] / 60) * train['xp_per_min']\n",
    "# train['armor'] = train['base_armor'] + train['level'] * train['agi_gain'] / 6 \n",
    "# train['rate_range_attack'] = train['attack_range'] * train['attack_rate']\n",
    "\n",
    "for i in ['skilled','gold_per_min','xp_per_min', 'avg_kills_x16','avg_deaths_x16','avg_assists_x16','avg_gpm_x16','avg_xpm_x16','best_kills_x16','best_assists_x16','best_gpm_x16','best_xpm_x16','win_streak','best_win_streak']:\n",
    "    mn_1 = train.groupby('hero_id')[i].mean()\n",
    "    train['gp_h{}_mean'.format(i)] = train['hero_id'].map(mn_1)\n",
    "    \n",
    "for i in ['gold_per_min','xp_per_min','avg_kills_x16','avg_deaths_x16','avg_assists_x16','avg_gpm_x16','avg_xpm_x16','best_kills_x16','best_assists_x16','best_gpm_x16','best_xpm_x16','win_streak','best_win_streak']:\n",
    "    mn_1 =train.groupby('hero_id')[i].median()\n",
    "    train['gp_h{}_median'.format(i)] = train['hero_id'].map(mn_1)\n",
    "    \n",
    "for i in ['gold_per_min','xp_per_min','avg_kills_x16','avg_deaths_x16','avg_assists_x16','avg_gpm_x16','avg_xpm_x16','best_kills_x16','best_assists_x16','best_gpm_x16','best_xpm_x16','win_streak','best_win_streak']:\n",
    "    mn_1 =train.groupby('hero_id')[i].max()\n",
    "    train['gp_h{}_max'.format(i)] = train['hero_id'].map(mn_1)\n",
    "    \n",
    "for i in ['gold_per_min','xp_per_min','avg_kills_x16','avg_deaths_x16','avg_assists_x16','avg_gpm_x16','avg_xpm_x16','best_kills_x16','best_assists_x16','best_gpm_x16','best_xpm_x16','win_streak','best_win_streak']:\n",
    "    train['delta_{}_mean'.format(i)] = train['gp_h{}_mean'.format(i)] - train[i]\n",
    "    \n",
    "for i in ['gold_per_min','xp_per_min', 'avg_kills_x16','avg_deaths_x16','avg_assists_x16','avg_gpm_x16','avg_xpm_x16','best_kills_x16','best_assists_x16','best_gpm_x16','best_xpm_x16','win_streak','best_win_streak']:\n",
    "    train['delta_{}_max'.format(i)] = train['gp_h{}_max'.format(i)] - train[i]\n",
    "\n",
    "for i in ['gold_per_min','xp_per_min','avg_kills_x16','avg_deaths_x16','avg_assists_x16','avg_gpm_x16','avg_xpm_x16','best_kills_x16','best_assists_x16','best_gpm_x16','best_xpm_x16','win_streak','best_win_streak']:\n",
    "    train['delta_{}_median'.format(i)] = train['gp_h{}_median'.format(i)] - train[i]"
   ]
  },
  {
   "cell_type": "code",
   "execution_count": 6,
   "metadata": {
    "collapsed": true
   },
   "outputs": [],
   "source": [
    "test['gold/gold_spent'] = (test['gold'] + 0.01) / (test['gold_spent'] + 0.01)\n",
    "test['gold_spent/goldpermin'] = (test['gold_spent'] + 0.01) / (test['gold_per_min'] + 0.01)\n",
    "test['gold_spent/net_worth'] = (test['gold_spent'] + 0.01) / (test['net_worth'] + 0.01)\n",
    "test['is_player_team_win'] = (test['player_team'] == test['winner_team']).astype('int')\n",
    "test['duration*gpm'] = (test['duration'] / 60) * test['gold_per_min']\n",
    "test['duration*xpm'] = (test['duration'] / 60) * test['xp_per_min']\n",
    "# test['armor'] = test['base_armor'] + test['level'] * test['agi_gain'] / 6 \n",
    "# test['rate_range_attack'] = test['attack_range'] * test['attack_rate']\n",
    "\n",
    "mn_1 = train.groupby('hero_id')['skilled'].mean()\n",
    "test['gp_hskilled_mean'] = test['hero_id'].map(mn_1)\n",
    "\n",
    "for i in ['gold_per_min','xp_per_min', 'avg_kills_x16','avg_deaths_x16','avg_assists_x16','avg_gpm_x16','avg_xpm_x16','best_kills_x16','best_assists_x16','best_gpm_x16','best_xpm_x16','win_streak','best_win_streak']:\n",
    "    mn_1 =test.groupby('hero_id')[i].mean()\n",
    "    test['gp_h{}_mean'.format(i)] = test['hero_id'].map(mn_1)\n",
    "    \n",
    "for i in ['gold_per_min','xp_per_min','avg_kills_x16','avg_deaths_x16','avg_assists_x16','avg_gpm_x16','avg_xpm_x16','best_kills_x16','best_assists_x16','best_gpm_x16','best_xpm_x16','win_streak','best_win_streak']:\n",
    "    mn_1 =test.groupby('hero_id')[i].median()\n",
    "    test['gp_h{}_median'.format(i)] = test['hero_id'].map(mn_1)\n",
    "    \n",
    "for i in ['gold_per_min','xp_per_min','avg_kills_x16','avg_deaths_x16','avg_assists_x16','avg_gpm_x16','avg_xpm_x16','best_kills_x16','best_assists_x16','best_gpm_x16','best_xpm_x16','win_streak','best_win_streak']:\n",
    "    mn_1 =test.groupby('hero_id')[i].max()\n",
    "    test['gp_h{}_max'.format(i)] = test['hero_id'].map(mn_1)\n",
    "    \n",
    "for i in ['gold_per_min','xp_per_min','avg_kills_x16','avg_deaths_x16','avg_assists_x16','avg_gpm_x16','avg_xpm_x16','best_kills_x16','best_assists_x16','best_gpm_x16','best_xpm_x16','win_streak','best_win_streak']:\n",
    "    test['delta_{}_mean'.format(i)] = test['gp_h{}_mean'.format(i)] - test[i]\n",
    "    \n",
    "for i in ['gold_per_min','xp_per_min', 'avg_kills_x16','avg_deaths_x16','avg_assists_x16','avg_gpm_x16','avg_xpm_x16','best_kills_x16','best_assists_x16','best_gpm_x16','best_xpm_x16','win_streak','best_win_streak']:\n",
    "    test['delta_{}_max'.format(i)] = test['gp_h{}_max'.format(i)] - test[i]\n",
    "\n",
    "for i in ['gold_per_min','xp_per_min','avg_kills_x16','avg_deaths_x16','avg_assists_x16','avg_gpm_x16','avg_xpm_x16','best_kills_x16','best_assists_x16','best_gpm_x16','best_xpm_x16','win_streak','best_win_streak']:\n",
    "    test['delta_{}_median'.format(i)] = test['gp_h{}_median'.format(i)] - test[i]"
   ]
  },
  {
   "cell_type": "code",
   "execution_count": 7,
   "metadata": {
    "collapsed": true
   },
   "outputs": [],
   "source": [
    "train['hero_damage/team_fight'] = train['hero_damage'] * train['team_fight_participation']\n",
    "test['hero_damage/team_fight'] = test['hero_damage'] * test['team_fight_participation']"
   ]
  },
  {
   "cell_type": "code",
   "execution_count": 8,
   "metadata": {
    "collapsed": true
   },
   "outputs": [],
   "source": [
    "train['delta_wards'] = train['sentry_wards_placed'] + train['observer_wards_placed'] \n",
    "test['delta_wards'] = test['sentry_wards_placed'] + test['observer_wards_placed'] "
   ]
  },
  {
   "cell_type": "code",
   "execution_count": 9,
   "metadata": {
    "collapsed": true
   },
   "outputs": [],
   "source": [
    "train['delta_damage'] = train['hero_damage'] - train['tower_damage']\n",
    "test['delta_damage'] = test['hero_damage'] - test['tower_damage']"
   ]
  },
  {
   "cell_type": "markdown",
   "metadata": {},
   "source": [
    "__add ability upgrades__"
   ]
  },
  {
   "cell_type": "code",
   "execution_count": 10,
   "metadata": {
    "collapsed": true
   },
   "outputs": [],
   "source": [
    "abilities.behavior = abilities.behavior.fillna('Unit Target')"
   ]
  },
  {
   "cell_type": "code",
   "execution_count": 11,
   "metadata": {
    "scrolled": true
   },
   "outputs": [
    {
     "data": {
      "application/vnd.jupyter.widget-view+json": {
       "model_id": "9aea174a658e412e893bb265d4e6f21e",
       "version_major": 2,
       "version_minor": 0
      },
      "text/plain": [
       "HBox(children=(IntProgress(value=1, bar_style='info', max=1), HTML(value='')))"
      ]
     },
     "metadata": {},
     "output_type": "display_data"
    },
    {
     "name": "stdout",
     "output_type": "stream",
     "text": [
      "\n"
     ]
    },
    {
     "data": {
      "application/vnd.jupyter.widget-view+json": {
       "model_id": "09ab38b0c02948ce80688ae85880ca1d",
       "version_major": 2,
       "version_minor": 0
      },
      "text/plain": [
       "HBox(children=(IntProgress(value=1, bar_style='info', max=1), HTML(value='')))"
      ]
     },
     "metadata": {},
     "output_type": "display_data"
    },
    {
     "name": "stdout",
     "output_type": "stream",
     "text": [
      "\n"
     ]
    }
   ],
   "source": [
    "for ability_behavior in set(abilities.behavior.fillna('empty')):\n",
    "    train['upgrade_behavior {}'.format(ability_behavior)] = 0\n",
    "    test['upgrade_behavior {}'.format(ability_behavior)] = 0\n",
    "    \n",
    "with open('data/dota2_skill_train.jsonlines') as fin:\n",
    "    for line in tqdm.tqdm_notebook(fin):\n",
    "        record = json.loads(line)\n",
    "        for ability_upgrade in record['ability_upgrades']:\n",
    "            train.at[record['id'], 'upgrade_behavior {}'.format(\n",
    "                abilities.loc[ability_upgrade, 'behavior'])] += 1\n",
    "            \n",
    "with open('data/dota2_skill_test.jsonlines') as fin:\n",
    "    for line in tqdm.tqdm_notebook(fin):\n",
    "        record = json.loads(line)\n",
    "        for ability_upgrade in record['ability_upgrades']:\n",
    "            test.at[record['id'], 'upgrade_behavior {}'.format(\n",
    "                abilities.loc[ability_upgrade, 'behavior'])] += 1"
   ]
  },
  {
   "cell_type": "markdown",
   "metadata": {},
   "source": [
    "__add damage targets__"
   ]
  },
  {
   "cell_type": "code",
   "execution_count": 12,
   "metadata": {
    "collapsed": true
   },
   "outputs": [],
   "source": [
    "train_id_damage_targets = pd.read_csv('json_data/train_id_damage_targets.csv', index_col='Unnamed: 0')\n",
    "test_id_damage_targets = pd.read_csv('json_data/test_id_damage_targets.csv', index_col='Unnamed: 0')"
   ]
  },
  {
   "cell_type": "code",
   "execution_count": 13,
   "metadata": {
    "collapsed": true
   },
   "outputs": [],
   "source": [
    "test_id_damage_targets = test_id_damage_targets[train_id_damage_targets.drop('npc_dota_warlock_golem_scepter_1', axis=1).columns]"
   ]
  },
  {
   "cell_type": "code",
   "execution_count": 14,
   "metadata": {
    "collapsed": true
   },
   "outputs": [],
   "source": [
    "train = train.join(train_id_damage_targets.astype(int))\n",
    "test = test.join(test_id_damage_targets.astype(int))"
   ]
  },
  {
   "cell_type": "code",
   "execution_count": 15,
   "metadata": {
    "collapsed": true
   },
   "outputs": [],
   "source": [
    "train['damage_targets_sum'] = train_id_damage_targets.sum(axis=1)\n",
    "test['damage_targets_sum'] = test_id_damage_targets.sum(axis=1)"
   ]
  },
  {
   "cell_type": "markdown",
   "metadata": {},
   "source": [
    "__add level to sum_xp__"
   ]
  },
  {
   "cell_type": "code",
   "execution_count": 16,
   "metadata": {
    "collapsed": true
   },
   "outputs": [],
   "source": [
    "level_map = {1 : 0, 2 : 230, 3 : 600, 4 : 1080, 5 : 1680, 6 : 2300, 7 : 2940, 8 : 3600, 9 : 4280, 10 : 5080, 11 : 5900, 12 : 6740, 13 : 7640, 14 : 8865, 15 : 10115, 16 : 11390, 17 : 12690, 18 : 14015, 19 : 15415, 20 : 16905, 21 : 18405, 22 : 20155, 23 : 22155, 24 : 24405, 25 : 26905}"
   ]
  },
  {
   "cell_type": "code",
   "execution_count": 17,
   "metadata": {
    "collapsed": true
   },
   "outputs": [],
   "source": [
    "train['xp_from_level'] = train['level'].map(level_map)\n",
    "test['xp_from_level'] = test['level'].map(level_map)"
   ]
  },
  {
   "cell_type": "markdown",
   "metadata": {},
   "source": [
    "__add items / final items__"
   ]
  },
  {
   "cell_type": "code",
   "execution_count": 18,
   "metadata": {
    "collapsed": true
   },
   "outputs": [],
   "source": [
    "train_final_items_qual_and_cost = pd.read_csv('json_data/train_final_items_qual_and_cost.csv', index_col='Unnamed: 0')\n",
    "test_final_items_qual_and_cost = pd.read_csv('json_data/test_final_items_qual_and_cost.csv', index_col='Unnamed: 0')"
   ]
  },
  {
   "cell_type": "code",
   "execution_count": 19,
   "metadata": {
    "collapsed": true
   },
   "outputs": [],
   "source": [
    "train = train.join(train_final_items_qual_and_cost.astype(int))\n",
    "test = test.join(test_final_items_qual_and_cost.astype(int))"
   ]
  },
  {
   "cell_type": "code",
   "execution_count": 20,
   "metadata": {
    "collapsed": true
   },
   "outputs": [],
   "source": [
    "train_items_qual_count = pd.read_csv('json_data/train_items_qual_count.csv', index_col='Unnamed: 0')\n",
    "train = train.join(train_items_qual_count)"
   ]
  },
  {
   "cell_type": "code",
   "execution_count": 21,
   "metadata": {
    "collapsed": true
   },
   "outputs": [],
   "source": [
    "test_items_qual_count = pd.read_csv('json_data/test_items_qual_count.csv', index_col='Unnamed: 0')\n",
    "test = test.join(test_items_qual_count)"
   ]
  },
  {
   "cell_type": "markdown",
   "metadata": {},
   "source": [
    "__add series__"
   ]
  },
  {
   "cell_type": "code",
   "execution_count": 22,
   "metadata": {
    "collapsed": true
   },
   "outputs": [],
   "source": [
    "train_series = pd.read_csv('json_data/train_series.csv', index_col='Unnamed: 0')\n",
    "train = train.join(train_series)"
   ]
  },
  {
   "cell_type": "code",
   "execution_count": 23,
   "metadata": {
    "collapsed": true
   },
   "outputs": [],
   "source": [
    "test_series = pd.read_csv('json_data/test_series.csv', index_col='Unnamed: 0')\n",
    "test = test.join(test_series)"
   ]
  },
  {
   "cell_type": "markdown",
   "metadata": {},
   "source": [
    "__add level up times__"
   ]
  },
  {
   "cell_type": "code",
   "execution_count": 24,
   "metadata": {
    "collapsed": true
   },
   "outputs": [],
   "source": [
    "l_u_train = pd.read_csv('json_data/l_u_train.csv', index_col='Unnamed: 0')\n",
    "train = train.join(l_u_train)"
   ]
  },
  {
   "cell_type": "code",
   "execution_count": 25,
   "metadata": {
    "collapsed": true
   },
   "outputs": [],
   "source": [
    "l_u_test = pd.read_csv('json_data/l_u_test.csv', index_col='Unnamed: 0')\n",
    "test = test.join(l_u_test)"
   ]
  },
  {
   "cell_type": "markdown",
   "metadata": {},
   "source": [
    "__heroes__"
   ]
  },
  {
   "cell_type": "code",
   "execution_count": 30,
   "metadata": {
    "collapsed": true
   },
   "outputs": [],
   "source": [
    "train_teammates = pd.read_csv('json_data/train_teammates.csv', index_col='Unnamed: 0')\n",
    "test_teammates = pd.read_csv('data/test_teammates.csv', index_col='Unnamed: 0')"
   ]
  },
  {
   "cell_type": "code",
   "execution_count": 31,
   "metadata": {},
   "outputs": [],
   "source": [
    "a = ['teammate_{}_hero'.format(i) for i in list(range(0,116))]\n",
    "train_teammates.columns = a\n",
    "\n",
    "a = ['teammate_{}_hero'.format(i) for i in list(range(0,116))]\n",
    "test_teammates.columns = a"
   ]
  },
  {
   "cell_type": "code",
   "execution_count": 41,
   "metadata": {},
   "outputs": [],
   "source": [
    "train_tm_stats = pd.read_csv('json_data/train_tm_stats.csv', index_col='Unnamed: 0')\n",
    "test_tm_stats = pd.read_csv('json_data/test_tm_stats.csv', index_col='Unnamed: 0')"
   ]
  },
  {
   "cell_type": "code",
   "execution_count": 33,
   "metadata": {
    "collapsed": true
   },
   "outputs": [],
   "source": [
    "# train_tm_stats.columns = ['tm_agi_mean','tm_attack_range_mean','tm_attack_rate_mean ','tm_winrate_mean','tm_agi_std','tm_attack_range_std','tm_attack_rate_std ','tm_winrate_std', 'tm_Carry', 'tm_Escape', 'tm_Nuker', 'tm_Initiator', 'tm_Durable', 'tm_Disabler','tm_Jungler', 'tm_Support', 'tm_Pusher']\n",
    "# test_tm_stats.columns = ['tm_agi_mean','tm_attack_range_mean','tm_attack_rate_mean ','tm_winrate_mean','tm_agi_std','tm_attack_range_std','tm_attack_rate_std ','tm_winrate_std', 'tm_Carry', 'tm_Escape', 'tm_Nuker', 'tm_Initiator', 'tm_Durable', 'tm_Disabler','tm_Jungler', 'tm_Support', 'tm_Pusher']"
   ]
  },
  {
   "cell_type": "code",
   "execution_count": 42,
   "metadata": {},
   "outputs": [],
   "source": [
    "#train = train.join(train_teammates)\n",
    "train = train.join(train_tm_stats)"
   ]
  },
  {
   "cell_type": "code",
   "execution_count": 43,
   "metadata": {
    "collapsed": true
   },
   "outputs": [],
   "source": [
    "#test = test.join(test_teammates)\n",
    "test = test.join(test_tm_stats)"
   ]
  },
  {
   "cell_type": "markdown",
   "metadata": {},
   "source": [
    "# Sava data"
   ]
  },
  {
   "cell_type": "code",
   "execution_count": 45,
   "metadata": {},
   "outputs": [
    {
     "data": {
      "text/plain": [
       "(619, 617)"
      ]
     },
     "execution_count": 45,
     "metadata": {},
     "output_type": "execute_result"
    }
   ],
   "source": [
    "train.shape[1], test.shape[1]"
   ]
  },
  {
   "cell_type": "code",
   "execution_count": 46,
   "metadata": {
    "collapsed": true
   },
   "outputs": [],
   "source": [
    "train.to_csv('data/trian_v3_1.csv')\n",
    "test.to_csv('data/test_v3_1.csv')"
   ]
  },
  {
   "cell_type": "code",
   "execution_count": null,
   "metadata": {
    "collapsed": true
   },
   "outputs": [],
   "source": []
  }
 ],
 "metadata": {
  "kernelspec": {
   "display_name": "Python 3",
   "language": "python",
   "name": "python3"
  },
  "language_info": {
   "codemirror_mode": {
    "name": "ipython",
    "version": 3
   },
   "file_extension": ".py",
   "mimetype": "text/x-python",
   "name": "python",
   "nbconvert_exporter": "python",
   "pygments_lexer": "ipython3",
   "version": "3.6.8"
  }
 },
 "nbformat": 4,
 "nbformat_minor": 2
}
